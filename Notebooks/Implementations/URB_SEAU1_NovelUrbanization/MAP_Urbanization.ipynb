{
 "cells": [
  {
   "cell_type": "markdown",
   "metadata": {},
   "source": [
    "# Chart and map urbanization data"
   ]
  },
  {
   "cell_type": "code",
   "execution_count": 1,
   "metadata": {},
   "outputs": [],
   "source": [
    "import sys, os, importlib, shutil, pathlib, datetime, multiprocessing\n",
    "import requests\n",
    "\n",
    "import rasterio, elevation, richdem\n",
    "import rasterio.warp\n",
    "import pandas as pd\n",
    "import geopandas as gpd\n",
    "import numpy as np\n",
    "\n",
    "from rasterio import features\n",
    "from datetime import datetime\n",
    "from shapely.geometry import MultiPolygon, Polygon, box, Point\n",
    "from osgeo import gdal\n",
    "\n",
    "#Import raster helpers\n",
    "sys.path.insert(0, \"/home/wb411133/Code/gostrocks/src\")\n",
    "\n",
    "import GOSTRocks.rasterMisc as rMisc\n",
    "from GOSTRocks.misc import tPrint\n",
    "\n",
    "#Import GOST urban functions\n",
    "sys.path.append(\"../../../src\")\n",
    "import GOST_Urban.UrbanRaster as urban\n",
    "import GOST_Urban.urban_helper as helper\n",
    "\n",
    "#Import local functions\n",
    "import novelUrbanization as nu\n",
    "from novelUrbanization import *\n",
    "\n",
    "%load_ext autoreload\n",
    "%autoreload 2"
   ]
  },
  {
   "cell_type": "code",
   "execution_count": 2,
   "metadata": {},
   "outputs": [
    {
     "name": "stdout",
     "output_type": "stream",
     "text": [
      "['BGD', 'AGO', 'COL', 'EGY', 'ETH', 'GHA', 'TZA', 'VNM', 'BDI', 'BEN', 'BFA', 'BWA', 'CAF', 'CIV', 'CMR', 'COD', 'COG', 'COM', 'CPV', 'ERI', 'GAB', 'GIN', 'GMB', 'GNB', 'KEN', 'LBR', 'LSO', 'MDG', 'MLI', 'MOZ', 'MRT', 'MUS', 'MWI', 'NAM', 'NER', 'NGA', 'RWA', 'SDN', 'SEN', 'SLE', 'SOM', 'SSD', 'STP', 'SWZ', 'SYC', 'TCD', 'TGO', 'UGA', 'ZAF', 'ZMB', 'ZWE', 'MAU', 'MAR', 'DZA', 'TUN', 'LBY', 'PAK']\n"
     ]
    }
   ],
   "source": [
    "base_folder = \"/home/wb411133/data/Projects/MR_Novel_Urbanization/Data\"\n",
    "pop_layer = 'cpo15'\n",
    "aapc_folder = os.path.join(base_folder, \"AAPPC\", 'Delineations')\n",
    "agg_folder = f\"/home/wb411133/data/Projects/MR_Novel_Urbanization/Aggregate_Data/{pop_layer}\"\n",
    "if not os.path.exists(agg_folder):\n",
    "        os.makedirs(agg_folder)\n",
    "     \n",
    "# Generate a list of iso3 codes already processed\n",
    "processed_iso3 = []\n",
    "for folder in os.listdir(base_folder):\n",
    "    if \"URBAN_DATA_new\" in folder:\n",
    "        processed_iso3.append(folder[:3])\n",
    "print(processed_iso3)"
   ]
  },
  {
   "cell_type": "code",
   "execution_count": 3,
   "metadata": {
    "scrolled": true
   },
   "outputs": [
    {
     "name": "stdout",
     "output_type": "stream",
     "text": [
      "/home/wb411133/data/Projects/MR_Novel_Urbanization/Data/KEN_URBAN_DATA_new_naming/FINAL_STANDARD/ken_cpo15_urban.tif\n",
      "/home/wb411133/data/Projects/MR_Novel_Urbanization/Data/KEN_URBAN_DATA_new_naming/FINAL_STANDARD/ken_cpo15_urban_hd.tif\n",
      "/home/wb411133/data/Projects/MR_Novel_Urbanization/Data/AAPPC/Delineations/ken_cpo15d10b3000_cc.tif\n",
      "/home/wb411133/data/Projects/MR_Novel_Urbanization/Data/AAPPC/Delineations/ken_cpo15d10b3000_co.tif\n",
      "/home/wb411133/data/Projects/MR_Novel_Urbanization/Data/AAPPC/Delineations/ken_cpo15d10b3000_ur.tif\n",
      "09:40:48\tKEN\n"
     ]
    }
   ],
   "source": [
    "iso3 = 'KEN'\n",
    "country_folder = os.path.join(base_folder, f'{iso3}_URBAN_DATA_new_naming')\n",
    "urb = urban_data(iso3, country_folder, aapc_folder)\n",
    "comboRes = urb.generate_combo_layer(pop_type=pop_layer, debug=True)\n",
    "if comboRes:\n",
    "    urb.write_results(comboRes, agg_folder, dbhd = 'co')\n",
    "tPrint(iso3)"
   ]
  },
  {
   "cell_type": "code",
   "execution_count": null,
   "metadata": {
    "scrolled": true
   },
   "outputs": [],
   "source": [
    "with multiprocessing.Pool(len(processed_iso3)) as mp:\n",
    "    mp.map(multiP, processed_iso3)"
   ]
  },
  {
   "cell_type": "code",
   "execution_count": null,
   "metadata": {},
   "outputs": [],
   "source": [
    "sum_files = []\n",
    "bin_files = []\n",
    "\n",
    "for root, dirs, files in os.walk(agg_folder):\n",
    "    for f in files:\n",
    "        if f.endswith(\"sum.tif\"):\n",
    "            sum_files.append(os.path.join(root, f))\n",
    "        if f.endswith(\"binary.tif\"):\n",
    "            bin_files.append(os.path.join(root, f))"
   ]
  },
  {
   "cell_type": "code",
   "execution_count": null,
   "metadata": {},
   "outputs": [],
   "source": [
    "vrt_options = gdal.BuildVRTOptions(resampleAlg='cubic', addAlpha=True)\n",
    "pop_layer = 'cpo'\n",
    "my_vrt = gdal.BuildVRT(f'{agg_folder}_{pop_layer}_sum.vrt', sum_files, options=vrt_options)\n",
    "my_vrt = None\n",
    "my_vrt = gdal.BuildVRT(f'{agg_folder}_{pop_layer}_binary.vrt', bin_files, options=vrt_options)\n",
    "my_vrt = None"
   ]
  },
  {
   "cell_type": "code",
   "execution_count": null,
   "metadata": {},
   "outputs": [],
   "source": [
    "f'{agg_folder}_{pop_layer}_sum.vrt'"
   ]
  },
  {
   "cell_type": "code",
   "execution_count": null,
   "metadata": {},
   "outputs": [],
   "source": []
  },
  {
   "cell_type": "code",
   "execution_count": null,
   "metadata": {},
   "outputs": [],
   "source": []
  },
  {
   "cell_type": "code",
   "execution_count": null,
   "metadata": {},
   "outputs": [],
   "source": [
    "import seaborn as sns\n",
    "import matplotlib.pyplot as plt\n",
    "import matplotlib.colors as colors\n",
    "\n",
    "from matplotlib.colors import ListedColormap\n",
    "plotD = urbanD[0,:,:]"
   ]
  },
  {
   "cell_type": "code",
   "execution_count": null,
   "metadata": {},
   "outputs": [],
   "source": []
  },
  {
   "cell_type": "code",
   "execution_count": null,
   "metadata": {},
   "outputs": [],
   "source": [
    "# Plot the resulting areas using matplotlib\n",
    "fig, ax = plt.subplots(figsize=(round(plotD.shape[0]/100),round(plotD.shape[1]/100)))\n",
    "ax.imshow(plotD)"
   ]
  },
  {
   "cell_type": "code",
   "execution_count": null,
   "metadata": {},
   "outputs": [],
   "source": []
  }
 ],
 "metadata": {
  "kernelspec": {
   "display_name": "Python (geog)",
   "language": "python",
   "name": "geog"
  },
  "language_info": {
   "codemirror_mode": {
    "name": "ipython",
    "version": 3
   },
   "file_extension": ".py",
   "mimetype": "text/x-python",
   "name": "python",
   "nbconvert_exporter": "python",
   "pygments_lexer": "ipython3",
   "version": "3.9.7"
  }
 },
 "nbformat": 4,
 "nbformat_minor": 2
}
