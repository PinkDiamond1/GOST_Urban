{
 "cells": [
  {
   "cell_type": "markdown",
   "metadata": {},
   "source": [
    "# Extract data for urban calculations\n",
    "\n",
    "Test input for Tanzania\n",
    "\n",
    "0. Select focal ADM, buffer by 1km, rasterize as [0, 1]\n",
    "1. Download DEM data from ASTER, mosaick\n",
    "2. Calculate slope of DEM\n",
    "3. Extract water layer from Globcover\n",
    "4. Rasterize building footprints\n",
    "5. Select population layer\n",
    "6. Standardize all rasters to population layer  \n",
    "   a. Set area outside of focal admin to NoData  \n",
    "   b. Set everything to 16bit  \n",
    "   \n",
    "   \n"
   ]
  },
  {
   "cell_type": "code",
   "execution_count": 1,
   "metadata": {},
   "outputs": [],
   "source": [
    "import sys, os, importlib, shutil, pathlib, datetime\n",
    "import requests\n",
    "import rasterio, elevation, richdem\n",
    "import rasterio.warp\n",
    "from rasterio import features\n",
    "\n",
    "import pandas as pd\n",
    "import geopandas as gpd\n",
    "import numpy as np\n",
    "\n",
    "from shapely.geometry import MultiPolygon, Polygon, box, Point\n",
    "\n",
    "#Import raster helpers\n",
    "sys.path.append(\"../../../gostrocks/src\")\n",
    "\n",
    "import GOSTRocks.rasterMisc as rMisc\n",
    "from GOSTRocks.misc import tPrint\n",
    "\n",
    "#Import GOST urban functions\n",
    "sys.path.append(\"../../src\")\n",
    "import GOST_Urban.UrbanRaster as urban\n",
    "import GOST_Urban.urban_helper as helper\n",
    "\n",
    "#Import local functions\n",
    "import novelUrbanization as nu\n",
    "from novelUrbanization import *\n",
    "\n",
    "%load_ext autoreload\n",
    "%autoreload 2"
   ]
  },
  {
   "cell_type": "code",
   "execution_count": 2,
   "metadata": {},
   "outputs": [],
   "source": [
    "global_bounds = \"/home/public/Data/GLOBAL/ADMIN/Admin0_Polys.shp\"\n",
    "global_bounds_adm2 = \"/home/public/Data/GLOBAL/ADMIN/Admin2_Polys.shp\"\n",
    "\n",
    "inG = gpd.read_file(global_bounds)\n",
    "inG2 = gpd.read_file(global_bounds_adm2)\n",
    "\n",
    "runSmall = True\n",
    "runLarge = True"
   ]
  },
  {
   "cell_type": "markdown",
   "metadata": {},
   "source": [
    "# Convert EA csv files to geometry"
   ]
  },
  {
   "cell_type": "code",
   "execution_count": null,
   "metadata": {
    "scrolled": true
   },
   "outputs": [],
   "source": [
    "in_folder = \"/home/wb411133/data/Projects/MR_Novel_Urbanization/Data/EA_Files/\"\n",
    "ea_files = []\n",
    "for root, dirs, files in os.walk(in_folder):\n",
    "    for x in files:\n",
    "        if ((x.endswith(\".csv\")) and (not \"URBAN\" in x)):\n",
    "            ea_files.append(os.path.join(root, x))\n",
    "            \n",
    "ea_files"
   ]
  },
  {
   "cell_type": "code",
   "execution_count": null,
   "metadata": {},
   "outputs": [],
   "source": [
    "pd.read_csv(ea_files[-1]).head()"
   ]
  },
  {
   "cell_type": "code",
   "execution_count": null,
   "metadata": {
    "scrolled": true
   },
   "outputs": [],
   "source": [
    "def try_float(x):\n",
    "    try:\n",
    "        return(float(x))\n",
    "    except:\n",
    "        return(None)\n",
    "\n",
    "def read_geog(file, lat_column, lon_column, crs='epsg:4326', write_out=True):\n",
    "    print(os.path.basename(file))\n",
    "    out_file = file.replace(\".csv\", \".geojson\")\n",
    "    inD = pd.read_csv(file)\n",
    "    \n",
    "    print(inD.shape)\n",
    "    inD[lat_column] = inD[lat_column].apply(try_float)\n",
    "    inD[lon_column] = inD[lon_column].apply(try_float)    \n",
    "    inD = inD.loc[~(inD[lat_column].isna() | inD[lon_column].isna())]\n",
    "    print(inD.shape)\n",
    "    \n",
    "    inD_geom = inD.apply(lambda x: Point(float(x[lon_column]), float(x[lat_column])), axis=1)\n",
    "    inD = gpd.GeoDataFrame(inD, geometry=inD_geom, crs=crs)\n",
    "    \n",
    "    if write_out:\n",
    "        inD.to_file(out_file, driver=\"GeoJSON\")        \n",
    "    return(inD)\n",
    "\n",
    "#res = read_geog(ea_files[0], \"latdd_corrected\", \"londd_corrected\")\n",
    "#res = read_geog(ea_files[1], \"lat\", \"lon\")\n",
    "#res = read_geog(ea_files[2], \"latitude\", \"longitude\")\n",
    "#res = read_geog(ea_files[3], \"latitude\", \"longitude\")\n",
    "#res = read_geog(ea_files[4], \"lat_mean\", \"long_mean\")\n",
    "#res = read_geog(ea_files[5], \"latdd_corrected\", \"londd_corrected\")\n",
    "#res = read_geog(ea_files[6], \"latdd_corrected\", \"londd_corrected\")\n",
    "#res = read_geog(ea_files[7], \"lat_modified\",\"lon_modified\")\n",
    "#res = read_geog(ea_files[8], \"lat_corrected\", \"lon_corrected\")\n",
    "#res = read_geog(ea_files[9], \"lat_corrected\", \"lon_corrected\")\n",
    "res = read_geog(ea_files[-1], \"latDD_corrected\", \"lonDD_corrected\")"
   ]
  },
  {
   "cell_type": "markdown",
   "metadata": {},
   "source": [
    "# Run individual counties"
   ]
  },
  {
   "cell_type": "code",
   "execution_count": null,
   "metadata": {
    "scrolled": true
   },
   "outputs": [],
   "source": [
    "importlib.reload(helper)\n",
    "# Process GHA\n",
    "iso3 = \"GHA\"\n",
    "local_path = \"/home/public/Data/COUNTRY/{country}/POPULATION/WORLDPOP/\".format(country=iso3)\n",
    "pop_2015_un = os.path.join(local_path, \"%s_ppp_2015_UNadj.tif\" % iso3.lower())\n",
    "pop_2018_un = os.path.join(local_path, \"%s_ppp_2017_UNadj.tif\" % iso3.lower())\n",
    "pop_2015_con = os.path.join(local_path, \"ppp_prj_2015_%s_UNadj.tif\" % iso3)\n",
    "pop_2018_con = os.path.join(local_path, \"ppp_prj_2017_%s_UNadj.tif\" % iso3)\n",
    "\n",
    "pop_files = [[pop_2015_un, \"%s_upo15.tif\" % iso3.lower()], \n",
    "             [pop_2018_un, \"%s_upo17.tif\" % iso3.lower()], \n",
    "             [pop_2015_con, \"%s_cpo15.tif\" % iso3.lower()], \n",
    "             [pop_2018_con, \"%s_cpo17.tif\" % iso3.lower()]]\n",
    "output_folder = \"/home/wb411133/data/Projects/MR_Novel_Urbanization/Data/%s_URBAN_DATA_new_naming\" % iso3\n",
    "ea_file = os.path.join(output_folder, 'FINAL_EAS.shp')\n",
    "\n",
    "#nu.calculate_urban(iso3, inG, inG2, pop_files, ea_file, small=runSmall, km=runLarge)\n",
    "#nu.check_no_data(output_folder)\n",
    "pp_urban = nu.calc_pp_urban(os.path.join(output_folder, \"ghana\"), \"%s_gpo.tif\" % iso3.lower(), ea_file, output_folder)\n",
    "pd.DataFrame(pp_urban.drop(['geometry'], axis=1)).to_csv(os.path.join(output_folder, f\"{iso3}_DB_UrbanPopulation.csv\"))"
   ]
  },
  {
   "cell_type": "code",
   "execution_count": null,
   "metadata": {},
   "outputs": [],
   "source": [
    "nu.calculate_urban?"
   ]
  },
  {
   "cell_type": "code",
   "execution_count": null,
   "metadata": {},
   "outputs": [],
   "source": [
    "importlib.reload(nu)\n",
    "# Process COD\n",
    "iso3 = \"COD\"\n",
    "local_path = \"/home/public/Data/COUNTRY/{country}/WORLDPOP/\".format(country=iso3)\n",
    "pop_2015_un = os.path.join(local_path, \"%s_ppp_2015_UNadj.tif\" % iso3.lower())\n",
    "pop_files = [[pop_2015_un, \"%s_upo15.tif\" % iso3.lower()]]\n",
    "output_folder = \"/home/wb411133/data/Projects/MR_Novel_Urbanization/Data/%s_URBAN_DATA_new_naming\" % iso3\n",
    "ea_file = ''\n",
    "#ea_file = os.path.join(output_folder, \"admin3\", \"Ethiopia_pti_admin3.shp\")\n",
    "#ea_file = os.path.join(output_folder, \"Kebeles\", \"all_kebeles.shp\")\n",
    "#ea_file = os.path.join(output_folder, \"gadm36_ETH_2.shp\")\n",
    "\n",
    "nu.calculate_urban(iso3, inG, inG2, pop_files, ea_file, output_folder, small=runSmall, km=runLarge,include_ghsl_h20=False)\n",
    "#pp_urban = nu.calc_pp_urban(os.path.join(output_folder, \"ethiopia\"), \"%s_gpo.tif\" % iso3.lower(), ea_file, output_folder)\n",
    "#pd.DataFrame(pp_urban.drop(['geometry'], axis=1)).to_csv(os.path.join(output_folder, f\"{iso3}_DB_UrbanPopulation_admin3.csv\"))"
   ]
  },
  {
   "cell_type": "code",
   "execution_count": null,
   "metadata": {
    "scrolled": true
   },
   "outputs": [],
   "source": [
    "# Process ETH\n",
    "iso3 = \"ETH\"\n",
    "local_path = \"/home/public/Data/COUNTRY/{country}/WORLDPOP/\".format(country=iso3)\n",
    "pop_2015_un = os.path.join(local_path, \"%s_ppp_2015_UNadj.tif\" % iso3.lower())\n",
    "pop_2018_un = os.path.join(local_path, \"%s_ppp_2016_UNadj.tif\" % iso3.lower())\n",
    "pop_files = [[pop_2015_un, \"%s_upo15.tif\" % iso3.lower()], \n",
    "             [pop_2018_un, \"%s_upo16.tif\" % iso3.lower()]]\n",
    "output_folder = \"/home/wb411133/data/Projects/MR_Novel_Urbanization/Data/%s_URBAN_DATA_new_naming\" % iso3\n",
    "ea_file = os.path.join(output_folder, \"admin3\", \"Ethiopia_pti_admin3.shp\")\n",
    "#ea_file = os.path.join(output_folder, \"Kebeles\", \"all_kebeles.shp\")\n",
    "#ea_file = os.path.join(output_folder, \"gadm36_ETH_2.shp\")\n",
    "\n",
    "#nu.calculate_urban(iso3, inG, inG2, pop_files, ea_file, output_folder, small=runSmall, km=runLarge)\n",
    "pp_urban = nu.calc_pp_urban(os.path.join(output_folder, \"ethiopia\"), \"%s_gpo.tif\" % iso3.lower(), ea_file, output_folder)\n",
    "pd.DataFrame(pp_urban.drop(['geometry'], axis=1)).to_csv(os.path.join(output_folder, f\"{iso3}_DB_UrbanPopulation_admin3.csv\"))"
   ]
  },
  {
   "cell_type": "code",
   "execution_count": null,
   "metadata": {
    "scrolled": true
   },
   "outputs": [],
   "source": [
    "input_file = os.path.join(output_folder, \"HBS_GPS.csv\")\n",
    "pop_tiffs = [\"eth_gpo.tif\", \"eth_upo15.tif\", 'eth_upo16.tif']\n",
    "all_tiffs = []\n",
    "base_folder = os.path.join(output_folder, \"FINAL_STANDARD\")\n",
    "base_folder_1km = os.path.join(output_folder, \"FINAL_STANDARD_1KM\")\n",
    "for pFile in pop_tiffs:\n",
    "    all_tiffs.append(os.path.join(base_folder, pFile))\n",
    "    all_tiffs.append(os.path.join(base_folder_1km, pFile.replace(\"eth\", \"eth1k\")))    \n",
    "\n",
    "# Read in ETH HH locations, clean\n",
    "inD = pd.read_csv(input_file)\n",
    "inD = inD.loc[~inD['latDD_corrected'].isnull()]\n",
    "inD = inD.loc[~inD['lonDD_corrected'].isnull()]\n",
    "geoms = [Point(row['lonDD_corrected'], row['latDD_corrected']) for idx, row in inD.iterrows()]\n",
    "inD = gpd.GeoDataFrame(inD, geometry=geoms, crs={'init':'epsg:4326'})\n",
    "# Calculate point urbanization for degree of urbanization\n",
    "out_file = os.path.join(output_folder, f\"{iso3}_DoU_Urban.csv\")\n",
    "nu.point_urban_summaries(inD, all_tiffs, out_file)\n",
    "# Calculate point urbanization for PP urban\n",
    "out_file = os.path.join(output_folder, f\"{iso3}_DB_Urban.csv\")\n",
    "in_folder = os.path.join(output_folder, \"ethiopia\")\n",
    "pop_tiffs = [os.path.join(in_folder, x) for x in os.listdir(in_folder)]\n",
    "nu.pp_point_urban_summaries(inD, pop_tiffs, out_file)"
   ]
  },
  {
   "cell_type": "code",
   "execution_count": null,
   "metadata": {
    "scrolled": true
   },
   "outputs": [],
   "source": [
    "importlib.reload(helper)\n",
    "# Process COL\n",
    "iso3 = \"COL\"\n",
    "local_path = \"/home/public/Data/COUNTRY/{country}/POPULATION/WORLDPOP/\".format(country=iso3)\n",
    "pop_2015_un = os.path.join(local_path, \"%s_ppp_2015_UNadj.tif\" % iso3.lower())\n",
    "pop_files = [[pop_2015_un, \"%s_upo15.tif\" % iso3.lower()]]\n",
    "output_folder = \"/home/wb411133/data/Projects/MR_Novel_Urbanization/Data/%s_URBAN_DATA_new_naming\" % iso3\n",
    "#ea_file = os.path.join(output_folder, 'MGN2020_RUR_SECCION', 'MGN_RUR_SECCION.shp')\n",
    "ea_file = os.path.join(output_folder, 'MGN2020_URB_SECCION', 'MGN_URB_SECCION.shp')\n",
    "#nu.calculate_urban(iso3, inG, inG2, pop_files, ea_file, small=runSmall, km=runLarge)\n",
    "pp_urban = nu.calc_pp_urban(os.path.join(output_folder, \"colombia\"), \"%s_gpo.tif\" % iso3.lower(), ea_file, output_folder)\n",
    "pd.DataFrame(pp_urban.drop(['geometry'], axis=1)).to_csv(os.path.join(output_folder, f\"{iso3}_DB_UrbanPopulation.csv\"))"
   ]
  },
  {
   "cell_type": "code",
   "execution_count": null,
   "metadata": {
    "scrolled": true
   },
   "outputs": [],
   "source": [
    "importlib.reload(helper)\n",
    "# Process EGY\n",
    "iso3 = \"EGY\"\n",
    "local_path = \"/home/public/Data/COUNTRY/{country}/POPULATION/WORLDPOP/\".format(country=iso3)\n",
    "pop_2015_un = os.path.join(local_path, \"%s_ppp_2015_UNadj.tif\" % iso3.lower())\n",
    "pop_2018_un = os.path.join(local_path, \"%s_ppp_2013_UNadj.tif\" % iso3.lower())\n",
    "pop_files = [[pop_2015_un, \"%s_upo15.tif\" % iso3.lower()], \n",
    "             [pop_2018_un, \"%s_upo16.tif\" % iso3.lower()]]\n",
    "output_folder = \"/home/wb411133/data/Projects/MR_Novel_Urbanization/Data/%s_URBAN_DATA_new_naming\" % iso3\n",
    "\n",
    "ea_file = os.path.join(output_folder, \"EGY_adm3.shp\")\n",
    "\n",
    "#nu.calculate_urban(iso3, inG, inG2, pop_files, ea_file, small=runSmall, km=runLarge)\n",
    "pp_urban = nu.calc_pp_urban(os.path.join(output_folder, \"egypt\"), \"%s_gpo.tif\" % iso3.lower(), ea_file, output_folder)\n",
    "pd.DataFrame(pp_urban.drop(['geometry'], axis=1)).to_csv(os.path.join(output_folder, f\"{iso3}_DB_UrbanPopulation.csv\"))"
   ]
  },
  {
   "cell_type": "code",
   "execution_count": null,
   "metadata": {
    "scrolled": true
   },
   "outputs": [],
   "source": [
    "importlib.reload(helper)\n",
    "# Process AGO\n",
    "iso3 = \"AGO\"\n",
    "local_path = \"/home/public/Data/COUNTRY/{country}/POPULATION/WORLDPOP/\".format(country=iso3)\n",
    "pop_2015_un = os.path.join(local_path, \"%s_ppp_2015_UNadj.tif\" % iso3.lower())\n",
    "pop_2018_un = os.path.join(local_path, \"%s_ppp_2018_UNadj.tif\" % iso3.lower())\n",
    "pop_files = [[pop_2015_un, \"%s_upo15.tif\" % iso3.lower()], \n",
    "             [pop_2018_un, \"%s_upo18.tif\" % iso3.lower()]]\n",
    "output_folder = \"/home/wb411133/data/Projects/MR_Novel_Urbanization/Data/%s_URBAN_DATA_new_naming\" % iso3\n",
    "ea_file = os.path.join(output_folder, 'admin', 'bairros.shp')\n",
    "\n",
    "#nu.calculate_urban(iso3, inG, inG2, pop_files, ea_file, small=runSmall, km=runLarge)\n",
    "pp_urban = nu.calc_pp_urban(os.path.join(output_folder, \"angola\"), \"%s_gpo.tif\" % iso3.lower(), ea_file, output_folder)\n",
    "pd.DataFrame(pp_urban.drop(['geometry'], axis=1)).to_csv(os.path.join(output_folder, f\"{iso3}_DB_UrbanPopulation.csv\"))"
   ]
  },
  {
   "cell_type": "code",
   "execution_count": null,
   "metadata": {
    "scrolled": true
   },
   "outputs": [],
   "source": [
    "importlib.reload(novelUrbanization)\n",
    "# Process BGD\n",
    "iso3 = \"BGD\"\n",
    "local_path = \"/home/public/Data/COUNTRY/{country}/POPULATION/WORLDPOP/\".format(country=iso3)\n",
    "pop_2015_un = os.path.join(local_path, \"%s_ppp_2015_UNadj.tif\" % iso3.lower())\n",
    "pop_2018_un = os.path.join(local_path, \"%s_ppp_2018_UNadj.tif\" % iso3.lower())\n",
    "pop_files = [[pop_2015_un, \"%s_upo15.tif\" % iso3.lower()], \n",
    "             [pop_2018_un, \"%s_upo18.tif\" % iso3.lower()]]\n",
    "output_folder = \"/home/wb411133/data/Projects/MR_Novel_Urbanization/Data/%s_URBAN_DATA_new_naming\" % iso3\n",
    "ea_file = os.path.join(output_folder, 'mauza11_reprojected.shp')\n",
    "\n",
    "#nu.calculate_urban(iso3, inG, inG2, pop_files, '', small=runSmall, km=runLarge)\n",
    "pp_urban = nu.calc_pp_urban(os.path.join(output_folder, \"bangladesh\"), \"%s_gpo.tif\" % iso3.lower(), ea_file, output_folder)\n",
    "pd.DataFrame(pp_urban.drop(['geometry'], axis=1)).to_csv(os.path.join(output_folder, f\"{iso3}_DB_UrbanPopulation.csv\"))"
   ]
  },
  {
   "cell_type": "code",
   "execution_count": null,
   "metadata": {
    "scrolled": true
   },
   "outputs": [],
   "source": [
    "importlib.reload(helper)\n",
    "# Process VNM\n",
    "iso3 = \"VNM\"\n",
    "local_path = \"/home/public/Data/COUNTRY/{country}/POPULATION/WORLDPOP/\".format(country=iso3)\n",
    "pop_2015_un = os.path.join(local_path, \"%s_ppp_2015_UNadj.tif\" % iso3.lower())\n",
    "pop_2018_un = os.path.join(local_path, \"%s_ppp_2018_UNadj.tif\" % iso3.lower())\n",
    "pop_files = [[pop_2015_un, \"%s_upo15.tif\" % iso3.lower()], \n",
    "             [pop_2018_un, \"%s_upo18.tif\" % iso3.lower()]]\n",
    "output_folder = \"/home/wb411133/data/Projects/MR_Novel_Urbanization/Data/%s_URBAN_DATA_new_naming\" % iso3\n",
    "ea_file = os.path.join(output_folder, 'VN_communes2008.shp')\n",
    "\n",
    "#nu.calculate_urban(iso3, inG, inG2, pop_files, ea_file, small=runSmall, km=runLarge)\n",
    "pp_urban = nu.calc_pp_urban(os.path.join(output_folder, \"vietnam\"), \"%s_gpo.tif\" % iso3.lower(), ea_file, output_folder)\n",
    "pd.DataFrame(pp_urban.drop(['geometry'], axis=1)).to_csv(os.path.join(output_folder, f\"{iso3}_DB_UrbanPopulation.csv\"))"
   ]
  },
  {
   "cell_type": "code",
   "execution_count": null,
   "metadata": {
    "scrolled": true
   },
   "outputs": [],
   "source": [
    "importlib.reload(helper)\n",
    "# Process TZA\n",
    "iso3 = \"TZA\"\n",
    "local_path = \"/home/public/Data/COUNTRY/{country}/POPULATION/WORLDPOP/TZA_2015_2018\".format(country=iso3)\n",
    "pop_2015_un = os.path.join(local_path, \"%s_ppp_2015_UNadj.tif\" % iso3.lower())\n",
    "pop_2018_un = os.path.join(local_path, \"%s_ppp_2018_UNadj.tif\" % iso3.lower())\n",
    "pop_2015_con = os.path.join(local_path, \"ppp_prj_2015_%s_UNadj.tif\" % iso3)\n",
    "pop_2018_con = os.path.join(local_path, \"ppp_prj_2018_%s_UNadj.tif\" % iso3)\n",
    "\n",
    "pop_files = [[pop_2015_un, \"%s_upo15.tif\" % iso3.lower()], \n",
    "             [pop_2018_un, \"%s_upo18.tif\" % iso3.lower()], \n",
    "             [pop_2015_con, \"%s_cpo15.tif\" % iso3.lower()], \n",
    "             [pop_2018_con, \"%s_cpo18.tif\" % iso3.lower()]]\n",
    "\n",
    "output_folder = \"/home/wb411133/data/Projects/MR_Novel_Urbanization/Data/%s_URBAN_DATA_new_naming\" % iso3\n",
    "ea_file = os.path.join(output_folder, \"villages\", \"tzvillage.shp\")\n",
    "\n",
    "nu.calculate_urban(iso3, inG, inG2, pop_files, ea_file, output_folder, small=runSmall, km=runLarge)\n",
    "pp_urban = nu.calc_pp_urban(os.path.join(output_folder, \"tanzania\"), \"%s_gpo.tif\" % iso3.lower(), ea_file, output_folder)\n",
    "pd.DataFrame(pp_urban.drop(['geometry'], axis=1)).to_csv(os.path.join(output_folder, f\"{iso3}_DB_UrbanPopulation_village.csv\"))"
   ]
  },
  {
   "cell_type": "code",
   "execution_count": null,
   "metadata": {},
   "outputs": [],
   "source": [
    "# Process point location analysis\n",
    "input_file = os.path.join(output_folder, \"sample_imp.csv\")\n",
    "inD = pd.read_csv(input_file)\n",
    "geoms = [Point(row['gps_imp_lo'], row['gps_imp_la']) for idx, row in inD.iterrows()]\n",
    "inD = gpd.GeoDataFrame(inD, geometry=geoms, crs={'init':'epsg:4326'})"
   ]
  },
  {
   "cell_type": "code",
   "execution_count": null,
   "metadata": {},
   "outputs": [],
   "source": [
    "# Summarize Urban definitions\n",
    "base_folder = \"/home/wb411133/data/Projects/MR_Novel_Urbanization/Data/TZA_URBAN_DATA_new_naming/FINAL_STANDARD/\"\n",
    "base_folder_1km = \"/home/wb411133/data/Projects/MR_Novel_Urbanization/Data/TZA_URBAN_DATA_new_naming/FINAL_STANDARD_1KM/\"\n",
    "pop_tiffs = ['tza_upo15.tif','tza_upo18.tif','tza_cpo15.tif','tza_cpo18.tif','tza_gpo.tif']\n",
    "final_tiffs = []\n",
    "for p in pop_tiffs:\n",
    "    final_tiffs.append(os.path.join(base_folder, p))\n",
    "    final_tiffs.append(os.path.join(base_folder_1km, p.replace(\"tza\", \"tza1k\")))\n",
    "    \n",
    "out_file = input_file.replace(\".csv\", \"_urban.csv\")\n",
    "nu.point_urban_summaries(inD, final_tiffs, out_file)\n"
   ]
  },
  {
   "cell_type": "code",
   "execution_count": null,
   "metadata": {
    "scrolled": true
   },
   "outputs": [],
   "source": [
    "# Calculate point urbanization for PP urban\n",
    "out_file = input_file.replace(\".csv\", \"_urban_PP.csv\")\n",
    "in_folder = os.path.join(output_folder, \"tanzania\")\n",
    "pop_tiffs = [os.path.join(in_folder, x) for x in os.listdir(in_folder)]\n",
    "nu.pp_point_urban_summaries(inD, pop_tiffs, out_file)"
   ]
  },
  {
   "cell_type": "markdown",
   "metadata": {},
   "source": [
    "# Compile and copy mapping data"
   ]
  },
  {
   "cell_type": "code",
   "execution_count": null,
   "metadata": {
    "scrolled": true
   },
   "outputs": [],
   "source": [
    "countries = {'AGO':'angola','BGD':'bangladesh','EGY':'egypt','ETH':'ethiopia',\n",
    "             'GHA':'ghana','TZA':'tanzania','VNM':'vietnam'}\n",
    "for iso3 in countries.keys():\n",
    "    out_folder = \"/home/wb411133/data/Projects/MR_Novel_Urbanization/Mapping/URBAN_Data\"\n",
    "    data_folder = \"/home/wb411133/data/Projects/MR_Novel_Urbanization/Data/%s_URBAN_DATA_new_naming/\" % iso3\n",
    "    dou_folder = os.path.join(data_folder, \"FINAL_STANDARD\")\n",
    "    db_folder  = os.path.join(data_folder, countries[iso3])\n",
    "    \n",
    "    dou_urban = os.path.join(dou_folder, f'{iso3.lower()}_upo15_urban.tif')\n",
    "    dou_urban_hd = os.path.join(dou_folder, f'{iso3.lower()}_upo15_urban_hd.tif')\n",
    "    \n",
    "    db_urban_cc = os.path.join(db_folder, f\"{iso3.lower()}_upo15d20b2000_cc.tif\")\n",
    "    db_urban_co = os.path.join(db_folder, f\"{iso3.lower()}_upo15d20b2000_co.tif\")\n",
    "    db_urban_ur = os.path.join(db_folder, f\"{iso3.lower()}_upo15d20b2000_ur.tif\")\n",
    "    \n",
    "    for uFile in [dou_urban, dou_urban_hd, db_urban_cc, db_urban_co, db_urban_ur]:\n",
    "        print(f'{iso3}: {os.path.exists(uFile)}')\n",
    "        out_file = os.path.join(out_folder, os.path.basename(uFile))\n",
    "        shutil.copy(uFile, out_file)\n",
    "        "
   ]
  },
  {
   "cell_type": "code",
   "execution_count": null,
   "metadata": {},
   "outputs": [],
   "source": [
    "shutil.copy?"
   ]
  },
  {
   "cell_type": "code",
   "execution_count": null,
   "metadata": {},
   "outputs": [],
   "source": []
  },
  {
   "cell_type": "markdown",
   "metadata": {},
   "source": [
    "# Compile zonal results"
   ]
  },
  {
   "cell_type": "code",
   "execution_count": 14,
   "metadata": {
    "scrolled": true
   },
   "outputs": [
    {
     "name": "stdout",
     "output_type": "stream",
     "text": [
      "AGO: AGO_HH_GPS_WB_URBAN.csv - 2022-06-07 11:41:21.951099\n",
      "AGO: AGO_HH_GPS_PP_URBAN.csv - 2022-06-07 11:41:32.765155\n",
      "AGO: AGO_EA_PP_URBAN.csv - 2022-06-07 14:18:35.263645\n",
      "AGO: AGO_EA_WB_URBAN.csv - 2022-06-07 21:06:52.371177\n",
      "ETH: ETH_HH_GPS_WB_URBAN.csv - 2022-06-06 14:21:00.484850\n",
      "ETH: ETH_HH_GPS_PP_URBAN.csv - 2022-06-06 14:24:16.564839\n",
      "ETH: ETH_EA_WB_URBAN.csv - 2022-06-07 21:12:17.944850\n",
      "ETH: ETH_EA_PP_URBAN.csv - 2022-06-07 21:14:26.158509\n",
      "BFA: BFA_HH_GPS_WB_URBAN.csv - 2022-06-06 14:20:44.531770\n",
      "BFA: BFA_HH_GPS_PP_URBAN.csv - 2022-06-06 14:20:51.765806\n",
      "BFA: BFA_EA_WB_URBAN.csv - 2022-06-07 21:12:18.841855\n",
      "BFA: BFA_EA_PP_URBAN.csv - 2022-06-07 21:15:21.464793\n",
      "CIV: CIV_HH_GPS_WB_URBAN.csv - 2022-06-06 14:17:55.492918\n",
      "CIV: CIV_HH_GPS_PP_URBAN.csv - 2022-06-06 14:18:07.917980\n",
      "CIV: CIV_EA_WB_URBAN.csv - 2022-06-07 21:11:58.558751\n",
      "CIV: CIV_EA_PP_URBAN.csv - 2022-06-07 21:12:30.087913\n",
      "GAB: GAB_HH_GPS_WB_URBAN.csv - 2022-06-06 14:19:16.228325\n",
      "GAB: GAB_HH_GPS_PP_URBAN.csv - 2022-06-06 14:20:39.876746\n",
      "GAB: GAB_EA_WB_URBAN.csv - 2022-06-07 21:12:05.425786\n",
      "GAB: GAB_EA_PP_URBAN.csv - 2022-06-07 21:13:28.423212\n",
      "GIN: GIN_HH_GPS_WB_URBAN.csv - 2022-06-06 14:18:20.003041\n",
      "GIN: GIN_HH_GPS_PP_URBAN.csv - 2022-06-06 14:18:28.878086\n",
      "GIN: GIN_EA_WB_URBAN.csv - 2022-06-07 21:12:02.712772\n",
      "GIN: GIN_EA_PP_URBAN.csv - 2022-06-07 21:12:54.512038\n",
      "GNB: GNB_HH_GPS_WB_URBAN.csv - 2022-06-06 14:17:29.182785\n",
      "GNB: GNB_HH_GPS_PP_URBAN.csv - 2022-06-06 14:17:35.614818\n",
      "GNB: GNB_EA_WB_URBAN.csv - 2022-06-07 21:11:55.043733\n",
      "GNB: GNB_EA_PP_URBAN.csv - 2022-06-07 21:12:08.672803\n",
      "LSO: LSO_HH_GPS_WB_URBAN.csv - 2022-06-06 14:18:00.892945\n",
      "LSO: LSO_HH_GPS_PP_URBAN.csv - 2022-06-06 14:18:47.367179\n",
      "LSO: LSO_EA_WB_URBAN.csv - 2022-06-07 21:11:57.680746\n",
      "LSO: LSO_EA_PP_URBAN.csv - 2022-06-07 21:12:25.628890\n",
      "MLI: MLI_HH_GPS_WB_URBAN.csv - 2022-06-06 14:20:35.669725\n",
      "MLI: MLI_HH_GPS_PP_URBAN.csv - 2022-06-06 14:21:43.331066\n",
      "MLI: MLI_EA_WB_URBAN.csv - 2022-06-07 21:12:14.770834\n",
      "MLI: MLI_EA_PP_URBAN.csv - 2022-06-07 21:14:47.788620\n",
      "MWI: MWI_HH_GPS_WB_URBAN.csv - 2022-06-06 14:19:24.706367\n",
      "MWI: MWI_HH_GPS_PP_URBAN.csv - 2022-06-06 14:21:29.197995\n",
      "MWI: MWI_EA_WB_URBAN.csv - 2022-06-07 21:12:07.235795\n",
      "MWI: MWI_EA_PP_URBAN.csv - 2022-06-07 21:13:23.784189\n",
      "NER: NER_HH_GPS_WB_URBAN.csv - 2022-06-06 14:18:59.272239\n",
      "NER: NER_HH_GPS_PP_URBAN.csv - 2022-06-06 14:19:06.237274\n",
      "NER: NER_EA_WB_URBAN.csv - 2022-06-07 21:12:04.380781\n",
      "NER: NER_EA_PP_URBAN.csv - 2022-06-07 21:13:36.988256\n",
      "SEN: SEN_HH_GPS_WB_URBAN.csv - 2022-06-06 14:17:56.650924\n",
      "SEN: SEN_HH_GPS_PP_URBAN.csv - 2022-06-06 14:18:04.464963\n",
      "SEN: SEN_EA_WB_URBAN.csv - 2022-06-07 21:11:59.892758\n",
      "SEN: SEN_EA_PP_URBAN.csv - 2022-06-07 21:12:31.368919\n",
      "TCD: TCD_HH_GPS_WB_URBAN.csv - 2022-06-06 14:17:56.695924\n",
      "TCD: TCD_HH_GPS_PP_URBAN.csv - 2022-06-06 14:18:05.604969\n",
      "TCD: TCD_EA_WB_URBAN.csv - 2022-06-07 21:11:53.901727\n",
      "TCD: TCD_EA_PP_URBAN.csv - 2022-06-07 21:12:31.185918\n",
      "UGA: UGA_HH_GPS_WB_URBAN.csv - 2022-06-06 14:34:16.771864\n",
      "UGA: UGA_HH_GPS_PP_URBAN.csv - 2022-06-06 14:34:20.935885\n",
      "UGA: UGA_EA_WB_URBAN.csv - 2022-06-07 21:14:56.845667\n",
      "UGA: UGA_EA_PP_URBAN.csv - 2022-06-07 21:27:56.608654\n"
     ]
    }
   ],
   "source": [
    "in_folder = \"/home/wb411133/data/Projects/MR_Novel_Urbanization/Data/\"\n",
    "out_folder = os.path.join(in_folder, \"URBAN_ZONAL_RESULTS\")\n",
    "if not os.path.exists(out_folder):\n",
    "    os.makedirs(out_folder)\n",
    "    \n",
    "for root, dirs, files in os.walk(in_folder):\n",
    "    if \"URBAN_DATA_new_naming\" in root:        \n",
    "        country = os.path.basename(root).split(\"_\")[0]        \n",
    "        if country in nu.EA_DEFS.keys():\n",
    "            for f in files:\n",
    "                if (\"EA_PP_URBAN\" in f) | (\"EA_WB_URBAN\" in f) | (\"HH_GPS\" in f):\n",
    "                    fName = pathlib.Path(os.path.join(root, f))   \n",
    "                    date = datetime.datetime.fromtimestamp(fName.stat().st_mtime)\n",
    "                    if datetime.datetime(2021,6,1) < date:\n",
    "                        print(f'{country}: {f} - {date}') \n",
    "                    else:\n",
    "                        print(f'***OLD: {country}: {f} - {date}') \n",
    "                    shutil.copy(os.path.join(root, f), os.path.join(out_folder, f))"
   ]
  },
  {
   "cell_type": "code",
   "execution_count": 12,
   "metadata": {
    "scrolled": true
   },
   "outputs": [
    {
     "name": "stdout",
     "output_type": "stream",
     "text": [
      "AGO: URBAN_ADMIN2_STATS_COMPILED.csv\n",
      "AGO: URBAN_ADMIN2_STATS_COMPILED_1k.csv\n",
      "AGO: AGO_URBAN_ADMIN2_STATS_COMPILED_1k.csv\n",
      "AGO: AGO_URBAN_ADMIN2_STATS_COMPILED.csv\n",
      "ETH: URBAN_ADMIN2_STATS_COMPILED_1k.csv\n",
      "ETH: ETH_URBAN_ADMIN2_STATS_COMPILED.csv\n",
      "ETH: URBAN_ADMIN2_STATS_COMPILED.csv\n",
      "BFA: BFA_URBAN_ADMIN2_STATS_COMPILED_1k.csv\n",
      "BFA: BFA_URBAN_ADMIN2_STATS_COMPILED.csv\n",
      "CIV: URBAN_ADMIN2_STATS_COMPILED_1k.csv\n",
      "CIV: URBAN_ADMIN2_STATS_COMPILED.csv\n",
      "CIV: CIV_URBAN_ADMIN2_STATS_COMPILED_1k.csv\n",
      "CIV: CIV_URBAN_ADMIN2_STATS_COMPILED.csv\n",
      "GAB: URBAN_ADMIN2_STATS_COMPILED_1k.csv\n",
      "GAB: URBAN_ADMIN2_STATS_COMPILED.csv\n",
      "GAB: GAB_URBAN_ADMIN2_STATS_COMPILED_1k.csv\n",
      "GAB: GAB_URBAN_ADMIN2_STATS_COMPILED.csv\n",
      "GIN: GIN_URBAN_ADMIN2_STATS_COMPILED_1k.csv\n",
      "GIN: GIN_URBAN_ADMIN2_STATS_COMPILED.csv\n",
      "GNB: URBAN_ADMIN2_STATS_COMPILED_1k.csv\n",
      "GNB: URBAN_ADMIN2_STATS_COMPILED.csv\n",
      "GNB: GNB_URBAN_ADMIN2_STATS_COMPILED_1k.csv\n",
      "GNB: GNB_URBAN_ADMIN2_STATS_COMPILED.csv\n",
      "LSO: URBAN_ADMIN2_STATS_COMPILED_1k.csv\n",
      "LSO: URBAN_ADMIN2_STATS_COMPILED.csv\n",
      "LSO: LSO_URBAN_ADMIN2_STATS_COMPILED_1k.csv\n",
      "LSO: LSO_URBAN_ADMIN2_STATS_COMPILED.csv\n",
      "MLI: URBAN_ADMIN2_STATS_COMPILED_1k.csv\n",
      "MLI: URBAN_ADMIN2_STATS_COMPILED.csv\n",
      "MLI: MLI_URBAN_ADMIN2_STATS_COMPILED_1k.csv\n",
      "MLI: MLI_URBAN_ADMIN2_STATS_COMPILED.csv\n",
      "MWI: URBAN_ADMIN2_STATS_COMPILED_1k.csv\n",
      "MWI: URBAN_ADMIN2_STATS_COMPILED.csv\n",
      "MWI: MWI_URBAN_ADMIN2_STATS_COMPILED_1k.csv\n",
      "MWI: MWI_URBAN_ADMIN2_STATS_COMPILED.csv\n",
      "NER: URBAN_ADMIN2_STATS_COMPILED_1k.csv\n",
      "NER: URBAN_ADMIN2_STATS_COMPILED.csv\n",
      "NER: NER_URBAN_ADMIN2_STATS_COMPILED_1k.csv\n",
      "NER: NER_URBAN_ADMIN2_STATS_COMPILED.csv\n",
      "SEN: URBAN_ADMIN2_STATS_COMPILED_1k.csv\n",
      "SEN: URBAN_ADMIN2_STATS_COMPILED.csv\n",
      "SEN: SEN_URBAN_ADMIN2_STATS_COMPILED_1k.csv\n",
      "SEN: SEN_URBAN_ADMIN2_STATS_COMPILED.csv\n",
      "TCD: TCD_URBAN_ADMIN2_STATS_COMPILED_1k.csv\n",
      "TCD: TCD_URBAN_ADMIN2_STATS_COMPILED.csv\n",
      "UGA: URBAN_ADMIN2_STATS_COMPILED_1k.csv\n",
      "UGA: URBAN_ADMIN2_STATS_COMPILED.csv\n",
      "UGA: UGA_URBAN_ADMIN2_STATS_COMPILED_1k.csv\n",
      "UGA: UGA_URBAN_ADMIN2_STATS_COMPILED.csv\n"
     ]
    }
   ],
   "source": [
    "# Delete all zonal stats\n",
    "for root, dirs, files in os.walk(in_folder):\n",
    "    if \"URBAN_DATA_new_naming\" in root:        \n",
    "        country = os.path.basename(root).split(\"_\")[0]        \n",
    "        if country in nu.EA_DEFS.keys():\n",
    "            for f in files:\n",
    "                if (\"URBAN_COMMUNE_STATS\" in f) | (\"URBAN_ADMIN2\" in f):\n",
    "                    print(f'{country}: {f}')\n",
    "                    os.remove(os.path.join(root, f))"
   ]
  },
  {
   "cell_type": "code",
   "execution_count": null,
   "metadata": {},
   "outputs": [],
   "source": []
  },
  {
   "cell_type": "markdown",
   "metadata": {},
   "source": [
    "# Generating zip commands"
   ]
  },
  {
   "cell_type": "code",
   "execution_count": null,
   "metadata": {},
   "outputs": [],
   "source": [
    "# Delete existing files\n",
    "in_folder = \"/home/wb411133/temp\"\n",
    "for root, dirs, files in os.walk(in_folder):\n",
    "    for d in dirs:\n",
    "        if (d == \"FINAL_STANDARD\") or (d == \"FINAL_STANDARD_1KM\"):\n",
    "            cur_dir = os.path.join(root, d)\n",
    "            print(\"zip -r {out_file} {infolder}\".format(\n",
    "                out_file = \"%s_%s.zip\" % (cur_dir.split(\"/\")[-2].split(\"_\")[0], cur_dir.split(\"_\")[-1]),\n",
    "                infolder = os.path.join(os.path.basename(os.path.dirname(cur_dir)), os.path.basename(cur_dir))))"
   ]
  },
  {
   "cell_type": "markdown",
   "metadata": {},
   "source": [
    "# Debugging"
   ]
  },
  {
   "cell_type": "code",
   "execution_count": 8,
   "metadata": {},
   "outputs": [],
   "source": [
    "file1 = \"/home/wb411133/data/Projects/MR_Novel_Urbanization/Data/LSO_URBAN_DATA_new_naming/LSO_lso_cpo20.tif.csv\"\n",
    "file2 = \"/home/wb411133/data/Projects/MR_Novel_Urbanization/Data/LSO_URBAN_DATA_new_naming/LSO_lso_gpo.tif.csv\"\n",
    "\n",
    "inD1 = pd.read_csv(file1, index_col=0)\n",
    "inD2 = pd.read_csv(file2, index_col=0)"
   ]
  },
  {
   "cell_type": "code",
   "execution_count": 9,
   "metadata": {},
   "outputs": [
    {
     "data": {
      "text/html": [
       "<div>\n",
       "<style scoped>\n",
       "    .dataframe tbody tr th:only-of-type {\n",
       "        vertical-align: middle;\n",
       "    }\n",
       "\n",
       "    .dataframe tbody tr th {\n",
       "        vertical-align: top;\n",
       "    }\n",
       "\n",
       "    .dataframe thead th {\n",
       "        text-align: right;\n",
       "    }\n",
       "</style>\n",
       "<table border=\"1\" class=\"dataframe\">\n",
       "  <thead>\n",
       "    <tr style=\"text-align: right;\">\n",
       "      <th></th>\n",
       "      <th>TOTALPOP_lso1k_upo15.tif_SUM</th>\n",
       "      <th>TOTALPOP_lso1k_upo15.tif_MIN</th>\n",
       "      <th>TOTALPOP_lso1k_upo15.tif_MAX</th>\n",
       "      <th>TOTALPOP_lso1k_upo15.tif_MEAN</th>\n",
       "      <th>_lso1k_upo15_urban.tif_SUM</th>\n",
       "      <th>_lso1k_upo15_urban.tif_MIN</th>\n",
       "      <th>_lso1k_upo15_urban.tif_MAX</th>\n",
       "      <th>_lso1k_upo15_urban.tif_MEAN</th>\n",
       "      <th>_lso1k_upo15_urban_hd.tif_SUM</th>\n",
       "      <th>_lso1k_upo15_urban_hd.tif_MIN</th>\n",
       "      <th>...</th>\n",
       "      <th>TOTALPOP_lso1k_cpo20.tif_MAX</th>\n",
       "      <th>TOTALPOP_lso1k_cpo20.tif_MEAN</th>\n",
       "      <th>_lso1k_cpo20_urban.tif_SUM</th>\n",
       "      <th>_lso1k_cpo20_urban.tif_MIN</th>\n",
       "      <th>_lso1k_cpo20_urban.tif_MAX</th>\n",
       "      <th>_lso1k_cpo20_urban.tif_MEAN</th>\n",
       "      <th>_lso1k_cpo20_urban_hd.tif_SUM</th>\n",
       "      <th>_lso1k_cpo20_urban_hd.tif_MIN</th>\n",
       "      <th>_lso1k_cpo20_urban_hd.tif_MAX</th>\n",
       "      <th>_lso1k_cpo20_urban_hd.tif_MEAN</th>\n",
       "    </tr>\n",
       "  </thead>\n",
       "  <tbody>\n",
       "    <tr>\n",
       "      <th>0</th>\n",
       "      <td>13202.013361</td>\n",
       "      <td>6.617668</td>\n",
       "      <td>223.397564</td>\n",
       "      <td>42.314145</td>\n",
       "      <td>0.0</td>\n",
       "      <td>-0.0</td>\n",
       "      <td>-0.0</td>\n",
       "      <td>0.0</td>\n",
       "      <td>0.0</td>\n",
       "      <td>-0.0</td>\n",
       "      <td>...</td>\n",
       "      <td>510.095188</td>\n",
       "      <td>32.118404</td>\n",
       "      <td>0.0</td>\n",
       "      <td>-0.0</td>\n",
       "      <td>-0.0</td>\n",
       "      <td>0.0</td>\n",
       "      <td>0.0</td>\n",
       "      <td>-0.0</td>\n",
       "      <td>-0.0</td>\n",
       "      <td>0.0</td>\n",
       "    </tr>\n",
       "    <tr>\n",
       "      <th>1</th>\n",
       "      <td>8109.838146</td>\n",
       "      <td>15.672872</td>\n",
       "      <td>110.434791</td>\n",
       "      <td>47.987208</td>\n",
       "      <td>0.0</td>\n",
       "      <td>0.0</td>\n",
       "      <td>0.0</td>\n",
       "      <td>0.0</td>\n",
       "      <td>0.0</td>\n",
       "      <td>0.0</td>\n",
       "      <td>...</td>\n",
       "      <td>499.482139</td>\n",
       "      <td>36.601916</td>\n",
       "      <td>0.0</td>\n",
       "      <td>0.0</td>\n",
       "      <td>0.0</td>\n",
       "      <td>0.0</td>\n",
       "      <td>0.0</td>\n",
       "      <td>0.0</td>\n",
       "      <td>0.0</td>\n",
       "      <td>0.0</td>\n",
       "    </tr>\n",
       "    <tr>\n",
       "      <th>2</th>\n",
       "      <td>24401.314121</td>\n",
       "      <td>4.628932</td>\n",
       "      <td>81.781152</td>\n",
       "      <td>20.050381</td>\n",
       "      <td>0.0</td>\n",
       "      <td>-0.0</td>\n",
       "      <td>-0.0</td>\n",
       "      <td>0.0</td>\n",
       "      <td>0.0</td>\n",
       "      <td>-0.0</td>\n",
       "      <td>...</td>\n",
       "      <td>377.777648</td>\n",
       "      <td>18.590265</td>\n",
       "      <td>0.0</td>\n",
       "      <td>-0.0</td>\n",
       "      <td>-0.0</td>\n",
       "      <td>0.0</td>\n",
       "      <td>0.0</td>\n",
       "      <td>-0.0</td>\n",
       "      <td>-0.0</td>\n",
       "      <td>0.0</td>\n",
       "    </tr>\n",
       "    <tr>\n",
       "      <th>3</th>\n",
       "      <td>22974.253480</td>\n",
       "      <td>6.252507</td>\n",
       "      <td>242.562074</td>\n",
       "      <td>74.350335</td>\n",
       "      <td>0.0</td>\n",
       "      <td>0.0</td>\n",
       "      <td>0.0</td>\n",
       "      <td>0.0</td>\n",
       "      <td>0.0</td>\n",
       "      <td>0.0</td>\n",
       "      <td>...</td>\n",
       "      <td>379.543940</td>\n",
       "      <td>68.948419</td>\n",
       "      <td>0.0</td>\n",
       "      <td>0.0</td>\n",
       "      <td>0.0</td>\n",
       "      <td>0.0</td>\n",
       "      <td>0.0</td>\n",
       "      <td>0.0</td>\n",
       "      <td>0.0</td>\n",
       "      <td>0.0</td>\n",
       "    </tr>\n",
       "    <tr>\n",
       "      <th>4</th>\n",
       "      <td>19419.332527</td>\n",
       "      <td>13.074320</td>\n",
       "      <td>111.645870</td>\n",
       "      <td>43.935141</td>\n",
       "      <td>0.0</td>\n",
       "      <td>0.0</td>\n",
       "      <td>0.0</td>\n",
       "      <td>0.0</td>\n",
       "      <td>0.0</td>\n",
       "      <td>0.0</td>\n",
       "      <td>...</td>\n",
       "      <td>316.083675</td>\n",
       "      <td>42.469249</td>\n",
       "      <td>0.0</td>\n",
       "      <td>0.0</td>\n",
       "      <td>0.0</td>\n",
       "      <td>0.0</td>\n",
       "      <td>0.0</td>\n",
       "      <td>0.0</td>\n",
       "      <td>0.0</td>\n",
       "      <td>0.0</td>\n",
       "    </tr>\n",
       "  </tbody>\n",
       "</table>\n",
       "<p>5 rows × 48 columns</p>\n",
       "</div>"
      ],
      "text/plain": [
       "   TOTALPOP_lso1k_upo15.tif_SUM  TOTALPOP_lso1k_upo15.tif_MIN  \\\n",
       "0                  13202.013361                      6.617668   \n",
       "1                   8109.838146                     15.672872   \n",
       "2                  24401.314121                      4.628932   \n",
       "3                  22974.253480                      6.252507   \n",
       "4                  19419.332527                     13.074320   \n",
       "\n",
       "   TOTALPOP_lso1k_upo15.tif_MAX  TOTALPOP_lso1k_upo15.tif_MEAN  \\\n",
       "0                    223.397564                      42.314145   \n",
       "1                    110.434791                      47.987208   \n",
       "2                     81.781152                      20.050381   \n",
       "3                    242.562074                      74.350335   \n",
       "4                    111.645870                      43.935141   \n",
       "\n",
       "   _lso1k_upo15_urban.tif_SUM  _lso1k_upo15_urban.tif_MIN  \\\n",
       "0                         0.0                        -0.0   \n",
       "1                         0.0                         0.0   \n",
       "2                         0.0                        -0.0   \n",
       "3                         0.0                         0.0   \n",
       "4                         0.0                         0.0   \n",
       "\n",
       "   _lso1k_upo15_urban.tif_MAX  _lso1k_upo15_urban.tif_MEAN  \\\n",
       "0                        -0.0                          0.0   \n",
       "1                         0.0                          0.0   \n",
       "2                        -0.0                          0.0   \n",
       "3                         0.0                          0.0   \n",
       "4                         0.0                          0.0   \n",
       "\n",
       "   _lso1k_upo15_urban_hd.tif_SUM  _lso1k_upo15_urban_hd.tif_MIN  ...  \\\n",
       "0                            0.0                           -0.0  ...   \n",
       "1                            0.0                            0.0  ...   \n",
       "2                            0.0                           -0.0  ...   \n",
       "3                            0.0                            0.0  ...   \n",
       "4                            0.0                            0.0  ...   \n",
       "\n",
       "   TOTALPOP_lso1k_cpo20.tif_MAX  TOTALPOP_lso1k_cpo20.tif_MEAN  \\\n",
       "0                    510.095188                      32.118404   \n",
       "1                    499.482139                      36.601916   \n",
       "2                    377.777648                      18.590265   \n",
       "3                    379.543940                      68.948419   \n",
       "4                    316.083675                      42.469249   \n",
       "\n",
       "   _lso1k_cpo20_urban.tif_SUM  _lso1k_cpo20_urban.tif_MIN  \\\n",
       "0                         0.0                        -0.0   \n",
       "1                         0.0                         0.0   \n",
       "2                         0.0                        -0.0   \n",
       "3                         0.0                         0.0   \n",
       "4                         0.0                         0.0   \n",
       "\n",
       "   _lso1k_cpo20_urban.tif_MAX  _lso1k_cpo20_urban.tif_MEAN  \\\n",
       "0                        -0.0                          0.0   \n",
       "1                         0.0                          0.0   \n",
       "2                        -0.0                          0.0   \n",
       "3                         0.0                          0.0   \n",
       "4                         0.0                          0.0   \n",
       "\n",
       "   _lso1k_cpo20_urban_hd.tif_SUM  _lso1k_cpo20_urban_hd.tif_MIN  \\\n",
       "0                            0.0                           -0.0   \n",
       "1                            0.0                            0.0   \n",
       "2                            0.0                           -0.0   \n",
       "3                            0.0                            0.0   \n",
       "4                            0.0                            0.0   \n",
       "\n",
       "   _lso1k_cpo20_urban_hd.tif_MAX  _lso1k_cpo20_urban_hd.tif_MEAN  \n",
       "0                           -0.0                             0.0  \n",
       "1                            0.0                             0.0  \n",
       "2                           -0.0                             0.0  \n",
       "3                            0.0                             0.0  \n",
       "4                            0.0                             0.0  \n",
       "\n",
       "[5 rows x 48 columns]"
      ]
     },
     "execution_count": 9,
     "metadata": {},
     "output_type": "execute_result"
    }
   ],
   "source": [
    "inD1.head()"
   ]
  },
  {
   "cell_type": "code",
   "execution_count": 10,
   "metadata": {},
   "outputs": [
    {
     "data": {
      "text/html": [
       "<div>\n",
       "<style scoped>\n",
       "    .dataframe tbody tr th:only-of-type {\n",
       "        vertical-align: middle;\n",
       "    }\n",
       "\n",
       "    .dataframe tbody tr th {\n",
       "        vertical-align: top;\n",
       "    }\n",
       "\n",
       "    .dataframe thead th {\n",
       "        text-align: right;\n",
       "    }\n",
       "</style>\n",
       "<table border=\"1\" class=\"dataframe\">\n",
       "  <thead>\n",
       "    <tr style=\"text-align: right;\">\n",
       "      <th></th>\n",
       "      <th>TOTALPOP_lso1k_gpo.tif_SUM</th>\n",
       "      <th>TOTALPOP_lso1k_gpo.tif_MIN</th>\n",
       "      <th>TOTALPOP_lso1k_gpo.tif_MAX</th>\n",
       "      <th>TOTALPOP_lso1k_gpo.tif_MEAN</th>\n",
       "      <th>_lso1k_gpo_urban.tif_SUM</th>\n",
       "      <th>_lso1k_gpo_urban.tif_MIN</th>\n",
       "      <th>_lso1k_gpo_urban.tif_MAX</th>\n",
       "      <th>_lso1k_gpo_urban.tif_MEAN</th>\n",
       "      <th>_lso1k_gpo_urban_hd.tif_SUM</th>\n",
       "      <th>_lso1k_gpo_urban_hd.tif_MIN</th>\n",
       "      <th>_lso1k_gpo_urban_hd.tif_MAX</th>\n",
       "      <th>_lso1k_gpo_urban_hd.tif_MEAN</th>\n",
       "    </tr>\n",
       "  </thead>\n",
       "  <tbody>\n",
       "    <tr>\n",
       "      <th>0</th>\n",
       "      <td>1389.217625</td>\n",
       "      <td>0.0</td>\n",
       "      <td>676.388306</td>\n",
       "      <td>4.452621</td>\n",
       "      <td>0.000000</td>\n",
       "      <td>-0.0</td>\n",
       "      <td>-0.000000</td>\n",
       "      <td>0.000000</td>\n",
       "      <td>0.0</td>\n",
       "      <td>-0.0</td>\n",
       "      <td>-0.0</td>\n",
       "      <td>0.0</td>\n",
       "    </tr>\n",
       "    <tr>\n",
       "      <th>1</th>\n",
       "      <td>742.856262</td>\n",
       "      <td>0.0</td>\n",
       "      <td>742.856262</td>\n",
       "      <td>4.395599</td>\n",
       "      <td>0.000000</td>\n",
       "      <td>0.0</td>\n",
       "      <td>0.000000</td>\n",
       "      <td>0.000000</td>\n",
       "      <td>0.0</td>\n",
       "      <td>0.0</td>\n",
       "      <td>0.0</td>\n",
       "      <td>0.0</td>\n",
       "    </tr>\n",
       "    <tr>\n",
       "      <th>2</th>\n",
       "      <td>27027.941792</td>\n",
       "      <td>0.0</td>\n",
       "      <td>7224.137207</td>\n",
       "      <td>22.208662</td>\n",
       "      <td>14351.857422</td>\n",
       "      <td>-0.0</td>\n",
       "      <td>7224.137207</td>\n",
       "      <td>11.630354</td>\n",
       "      <td>0.0</td>\n",
       "      <td>-0.0</td>\n",
       "      <td>-0.0</td>\n",
       "      <td>0.0</td>\n",
       "    </tr>\n",
       "    <tr>\n",
       "      <th>3</th>\n",
       "      <td>24098.434595</td>\n",
       "      <td>0.0</td>\n",
       "      <td>11767.498047</td>\n",
       "      <td>77.988461</td>\n",
       "      <td>20004.946777</td>\n",
       "      <td>0.0</td>\n",
       "      <td>11767.498047</td>\n",
       "      <td>60.990691</td>\n",
       "      <td>0.0</td>\n",
       "      <td>0.0</td>\n",
       "      <td>0.0</td>\n",
       "      <td>0.0</td>\n",
       "    </tr>\n",
       "    <tr>\n",
       "      <th>4</th>\n",
       "      <td>25709.078125</td>\n",
       "      <td>0.0</td>\n",
       "      <td>23150.865234</td>\n",
       "      <td>58.165335</td>\n",
       "      <td>23150.865234</td>\n",
       "      <td>0.0</td>\n",
       "      <td>23150.865234</td>\n",
       "      <td>52.377523</td>\n",
       "      <td>0.0</td>\n",
       "      <td>0.0</td>\n",
       "      <td>0.0</td>\n",
       "      <td>0.0</td>\n",
       "    </tr>\n",
       "  </tbody>\n",
       "</table>\n",
       "</div>"
      ],
      "text/plain": [
       "   TOTALPOP_lso1k_gpo.tif_SUM  TOTALPOP_lso1k_gpo.tif_MIN  \\\n",
       "0                 1389.217625                         0.0   \n",
       "1                  742.856262                         0.0   \n",
       "2                27027.941792                         0.0   \n",
       "3                24098.434595                         0.0   \n",
       "4                25709.078125                         0.0   \n",
       "\n",
       "   TOTALPOP_lso1k_gpo.tif_MAX  TOTALPOP_lso1k_gpo.tif_MEAN  \\\n",
       "0                  676.388306                     4.452621   \n",
       "1                  742.856262                     4.395599   \n",
       "2                 7224.137207                    22.208662   \n",
       "3                11767.498047                    77.988461   \n",
       "4                23150.865234                    58.165335   \n",
       "\n",
       "   _lso1k_gpo_urban.tif_SUM  _lso1k_gpo_urban.tif_MIN  \\\n",
       "0                  0.000000                      -0.0   \n",
       "1                  0.000000                       0.0   \n",
       "2              14351.857422                      -0.0   \n",
       "3              20004.946777                       0.0   \n",
       "4              23150.865234                       0.0   \n",
       "\n",
       "   _lso1k_gpo_urban.tif_MAX  _lso1k_gpo_urban.tif_MEAN  \\\n",
       "0                 -0.000000                   0.000000   \n",
       "1                  0.000000                   0.000000   \n",
       "2               7224.137207                  11.630354   \n",
       "3              11767.498047                  60.990691   \n",
       "4              23150.865234                  52.377523   \n",
       "\n",
       "   _lso1k_gpo_urban_hd.tif_SUM  _lso1k_gpo_urban_hd.tif_MIN  \\\n",
       "0                          0.0                         -0.0   \n",
       "1                          0.0                          0.0   \n",
       "2                          0.0                         -0.0   \n",
       "3                          0.0                          0.0   \n",
       "4                          0.0                          0.0   \n",
       "\n",
       "   _lso1k_gpo_urban_hd.tif_MAX  _lso1k_gpo_urban_hd.tif_MEAN  \n",
       "0                         -0.0                           0.0  \n",
       "1                          0.0                           0.0  \n",
       "2                         -0.0                           0.0  \n",
       "3                          0.0                           0.0  \n",
       "4                          0.0                           0.0  "
      ]
     },
     "execution_count": 10,
     "metadata": {},
     "output_type": "execute_result"
    }
   ],
   "source": [
    "inD2.head()"
   ]
  },
  {
   "cell_type": "code",
   "execution_count": 11,
   "metadata": {},
   "outputs": [
    {
     "ename": "ValueError",
     "evalue": "columns overlap but no suffix specified: Index(['TOTALPOP_lso1k_gpo.tif_SUM', 'TOTALPOP_lso1k_gpo.tif_MIN',\n       'TOTALPOP_lso1k_gpo.tif_MAX', 'TOTALPOP_lso1k_gpo.tif_MEAN',\n       '_lso1k_gpo_urban.tif_SUM', '_lso1k_gpo_urban.tif_MIN',\n       '_lso1k_gpo_urban.tif_MAX', '_lso1k_gpo_urban.tif_MEAN',\n       '_lso1k_gpo_urban_hd.tif_SUM', '_lso1k_gpo_urban_hd.tif_MIN',\n       '_lso1k_gpo_urban_hd.tif_MAX', '_lso1k_gpo_urban_hd.tif_MEAN'],\n      dtype='object')",
     "output_type": "error",
     "traceback": [
      "\u001b[0;31m---------------------------------------------------------------------------\u001b[0m",
      "\u001b[0;31mValueError\u001b[0m                                Traceback (most recent call last)",
      "\u001b[0;32m<ipython-input-11-52e4d2d49a55>\u001b[0m in \u001b[0;36m<module>\u001b[0;34m\u001b[0m\n\u001b[0;32m----> 1\u001b[0;31m \u001b[0minD1\u001b[0m\u001b[0;34m.\u001b[0m\u001b[0mjoin\u001b[0m\u001b[0;34m(\u001b[0m\u001b[0minD2\u001b[0m\u001b[0;34m)\u001b[0m\u001b[0;34m\u001b[0m\u001b[0;34m\u001b[0m\u001b[0m\n\u001b[0m",
      "\u001b[0;32m~/.conda/envs/ee/lib/python3.9/site-packages/pandas/core/frame.py\u001b[0m in \u001b[0;36mjoin\u001b[0;34m(self, other, on, how, lsuffix, rsuffix, sort)\u001b[0m\n\u001b[1;32m   8108\u001b[0m         \u001b[0;36m5\u001b[0m  \u001b[0mK5\u001b[0m  \u001b[0mA5\u001b[0m  \u001b[0mNaN\u001b[0m\u001b[0;34m\u001b[0m\u001b[0;34m\u001b[0m\u001b[0m\n\u001b[1;32m   8109\u001b[0m         \"\"\"\n\u001b[0;32m-> 8110\u001b[0;31m         return self._join_compat(\n\u001b[0m\u001b[1;32m   8111\u001b[0m             \u001b[0mother\u001b[0m\u001b[0;34m,\u001b[0m \u001b[0mon\u001b[0m\u001b[0;34m=\u001b[0m\u001b[0mon\u001b[0m\u001b[0;34m,\u001b[0m \u001b[0mhow\u001b[0m\u001b[0;34m=\u001b[0m\u001b[0mhow\u001b[0m\u001b[0;34m,\u001b[0m \u001b[0mlsuffix\u001b[0m\u001b[0;34m=\u001b[0m\u001b[0mlsuffix\u001b[0m\u001b[0;34m,\u001b[0m \u001b[0mrsuffix\u001b[0m\u001b[0;34m=\u001b[0m\u001b[0mrsuffix\u001b[0m\u001b[0;34m,\u001b[0m \u001b[0msort\u001b[0m\u001b[0;34m=\u001b[0m\u001b[0msort\u001b[0m\u001b[0;34m\u001b[0m\u001b[0;34m\u001b[0m\u001b[0m\n\u001b[1;32m   8112\u001b[0m         )\n",
      "\u001b[0;32m~/.conda/envs/ee/lib/python3.9/site-packages/pandas/core/frame.py\u001b[0m in \u001b[0;36m_join_compat\u001b[0;34m(self, other, on, how, lsuffix, rsuffix, sort)\u001b[0m\n\u001b[1;32m   8133\u001b[0m                     \u001b[0msort\u001b[0m\u001b[0;34m=\u001b[0m\u001b[0msort\u001b[0m\u001b[0;34m,\u001b[0m\u001b[0;34m\u001b[0m\u001b[0;34m\u001b[0m\u001b[0m\n\u001b[1;32m   8134\u001b[0m                 )\n\u001b[0;32m-> 8135\u001b[0;31m             return merge(\n\u001b[0m\u001b[1;32m   8136\u001b[0m                 \u001b[0mself\u001b[0m\u001b[0;34m,\u001b[0m\u001b[0;34m\u001b[0m\u001b[0;34m\u001b[0m\u001b[0m\n\u001b[1;32m   8137\u001b[0m                 \u001b[0mother\u001b[0m\u001b[0;34m,\u001b[0m\u001b[0;34m\u001b[0m\u001b[0;34m\u001b[0m\u001b[0m\n",
      "\u001b[0;32m~/.conda/envs/ee/lib/python3.9/site-packages/pandas/core/reshape/merge.py\u001b[0m in \u001b[0;36mmerge\u001b[0;34m(left, right, how, on, left_on, right_on, left_index, right_index, sort, suffixes, copy, indicator, validate)\u001b[0m\n\u001b[1;32m     87\u001b[0m         \u001b[0mvalidate\u001b[0m\u001b[0;34m=\u001b[0m\u001b[0mvalidate\u001b[0m\u001b[0;34m,\u001b[0m\u001b[0;34m\u001b[0m\u001b[0;34m\u001b[0m\u001b[0m\n\u001b[1;32m     88\u001b[0m     )\n\u001b[0;32m---> 89\u001b[0;31m     \u001b[0;32mreturn\u001b[0m \u001b[0mop\u001b[0m\u001b[0;34m.\u001b[0m\u001b[0mget_result\u001b[0m\u001b[0;34m(\u001b[0m\u001b[0;34m)\u001b[0m\u001b[0;34m\u001b[0m\u001b[0;34m\u001b[0m\u001b[0m\n\u001b[0m\u001b[1;32m     90\u001b[0m \u001b[0;34m\u001b[0m\u001b[0m\n\u001b[1;32m     91\u001b[0m \u001b[0;34m\u001b[0m\u001b[0m\n",
      "\u001b[0;32m~/.conda/envs/ee/lib/python3.9/site-packages/pandas/core/reshape/merge.py\u001b[0m in \u001b[0;36mget_result\u001b[0;34m(self)\u001b[0m\n\u001b[1;32m    684\u001b[0m         \u001b[0mjoin_index\u001b[0m\u001b[0;34m,\u001b[0m \u001b[0mleft_indexer\u001b[0m\u001b[0;34m,\u001b[0m \u001b[0mright_indexer\u001b[0m \u001b[0;34m=\u001b[0m \u001b[0mself\u001b[0m\u001b[0;34m.\u001b[0m\u001b[0m_get_join_info\u001b[0m\u001b[0;34m(\u001b[0m\u001b[0;34m)\u001b[0m\u001b[0;34m\u001b[0m\u001b[0;34m\u001b[0m\u001b[0m\n\u001b[1;32m    685\u001b[0m \u001b[0;34m\u001b[0m\u001b[0m\n\u001b[0;32m--> 686\u001b[0;31m         llabels, rlabels = _items_overlap_with_suffix(\n\u001b[0m\u001b[1;32m    687\u001b[0m             \u001b[0mself\u001b[0m\u001b[0;34m.\u001b[0m\u001b[0mleft\u001b[0m\u001b[0;34m.\u001b[0m\u001b[0m_info_axis\u001b[0m\u001b[0;34m,\u001b[0m \u001b[0mself\u001b[0m\u001b[0;34m.\u001b[0m\u001b[0mright\u001b[0m\u001b[0;34m.\u001b[0m\u001b[0m_info_axis\u001b[0m\u001b[0;34m,\u001b[0m \u001b[0mself\u001b[0m\u001b[0;34m.\u001b[0m\u001b[0msuffixes\u001b[0m\u001b[0;34m\u001b[0m\u001b[0;34m\u001b[0m\u001b[0m\n\u001b[1;32m    688\u001b[0m         )\n",
      "\u001b[0;32m~/.conda/envs/ee/lib/python3.9/site-packages/pandas/core/reshape/merge.py\u001b[0m in \u001b[0;36m_items_overlap_with_suffix\u001b[0;34m(left, right, suffixes)\u001b[0m\n\u001b[1;32m   2176\u001b[0m \u001b[0;34m\u001b[0m\u001b[0m\n\u001b[1;32m   2177\u001b[0m     \u001b[0;32mif\u001b[0m \u001b[0;32mnot\u001b[0m \u001b[0mlsuffix\u001b[0m \u001b[0;32mand\u001b[0m \u001b[0;32mnot\u001b[0m \u001b[0mrsuffix\u001b[0m\u001b[0;34m:\u001b[0m\u001b[0;34m\u001b[0m\u001b[0;34m\u001b[0m\u001b[0m\n\u001b[0;32m-> 2178\u001b[0;31m         \u001b[0;32mraise\u001b[0m \u001b[0mValueError\u001b[0m\u001b[0;34m(\u001b[0m\u001b[0;34mf\"columns overlap but no suffix specified: {to_rename}\"\u001b[0m\u001b[0;34m)\u001b[0m\u001b[0;34m\u001b[0m\u001b[0;34m\u001b[0m\u001b[0m\n\u001b[0m\u001b[1;32m   2179\u001b[0m \u001b[0;34m\u001b[0m\u001b[0m\n\u001b[1;32m   2180\u001b[0m     \u001b[0;32mdef\u001b[0m \u001b[0mrenamer\u001b[0m\u001b[0;34m(\u001b[0m\u001b[0mx\u001b[0m\u001b[0;34m,\u001b[0m \u001b[0msuffix\u001b[0m\u001b[0;34m)\u001b[0m\u001b[0;34m:\u001b[0m\u001b[0;34m\u001b[0m\u001b[0;34m\u001b[0m\u001b[0m\n",
      "\u001b[0;31mValueError\u001b[0m: columns overlap but no suffix specified: Index(['TOTALPOP_lso1k_gpo.tif_SUM', 'TOTALPOP_lso1k_gpo.tif_MIN',\n       'TOTALPOP_lso1k_gpo.tif_MAX', 'TOTALPOP_lso1k_gpo.tif_MEAN',\n       '_lso1k_gpo_urban.tif_SUM', '_lso1k_gpo_urban.tif_MIN',\n       '_lso1k_gpo_urban.tif_MAX', '_lso1k_gpo_urban.tif_MEAN',\n       '_lso1k_gpo_urban_hd.tif_SUM', '_lso1k_gpo_urban_hd.tif_MIN',\n       '_lso1k_gpo_urban_hd.tif_MAX', '_lso1k_gpo_urban_hd.tif_MEAN'],\n      dtype='object')"
     ]
    }
   ],
   "source": [
    "inD1.join(inD2)"
   ]
  },
  {
   "cell_type": "code",
   "execution_count": 15,
   "metadata": {},
   "outputs": [
    {
     "data": {
      "text/plain": [
       "False"
      ]
     },
     "execution_count": 15,
     "metadata": {},
     "output_type": "execute_result"
    }
   ],
   "source": [
    "inD2.columns in inD1.columns"
   ]
  },
  {
   "cell_type": "code",
   "execution_count": 16,
   "metadata": {},
   "outputs": [
    {
     "data": {
      "text/plain": [
       "Index(['TOTALPOP_lso1k_upo15.tif_SUM', 'TOTALPOP_lso1k_upo15.tif_MIN',\n",
       "       'TOTALPOP_lso1k_upo15.tif_MAX', 'TOTALPOP_lso1k_upo15.tif_MEAN',\n",
       "       '_lso1k_upo15_urban.tif_SUM', '_lso1k_upo15_urban.tif_MIN',\n",
       "       '_lso1k_upo15_urban.tif_MAX', '_lso1k_upo15_urban.tif_MEAN',\n",
       "       '_lso1k_upo15_urban_hd.tif_SUM', '_lso1k_upo15_urban_hd.tif_MIN',\n",
       "       '_lso1k_upo15_urban_hd.tif_MAX', '_lso1k_upo15_urban_hd.tif_MEAN',\n",
       "       'TOTALPOP_lso1k_gpo.tif_SUM', 'TOTALPOP_lso1k_gpo.tif_MIN',\n",
       "       'TOTALPOP_lso1k_gpo.tif_MAX', 'TOTALPOP_lso1k_gpo.tif_MEAN',\n",
       "       '_lso1k_gpo_urban.tif_SUM', '_lso1k_gpo_urban.tif_MIN',\n",
       "       '_lso1k_gpo_urban.tif_MAX', '_lso1k_gpo_urban.tif_MEAN',\n",
       "       '_lso1k_gpo_urban_hd.tif_SUM', '_lso1k_gpo_urban_hd.tif_MIN',\n",
       "       '_lso1k_gpo_urban_hd.tif_MAX', '_lso1k_gpo_urban_hd.tif_MEAN',\n",
       "       'TOTALPOP_lso1k_cpo15.tif_SUM', 'TOTALPOP_lso1k_cpo15.tif_MIN',\n",
       "       'TOTALPOP_lso1k_cpo15.tif_MAX', 'TOTALPOP_lso1k_cpo15.tif_MEAN',\n",
       "       '_lso1k_cpo15_urban.tif_SUM', '_lso1k_cpo15_urban.tif_MIN',\n",
       "       '_lso1k_cpo15_urban.tif_MAX', '_lso1k_cpo15_urban.tif_MEAN',\n",
       "       '_lso1k_cpo15_urban_hd.tif_SUM', '_lso1k_cpo15_urban_hd.tif_MIN',\n",
       "       '_lso1k_cpo15_urban_hd.tif_MAX', '_lso1k_cpo15_urban_hd.tif_MEAN',\n",
       "       'TOTALPOP_lso1k_cpo20.tif_SUM', 'TOTALPOP_lso1k_cpo20.tif_MIN',\n",
       "       'TOTALPOP_lso1k_cpo20.tif_MAX', 'TOTALPOP_lso1k_cpo20.tif_MEAN',\n",
       "       '_lso1k_cpo20_urban.tif_SUM', '_lso1k_cpo20_urban.tif_MIN',\n",
       "       '_lso1k_cpo20_urban.tif_MAX', '_lso1k_cpo20_urban.tif_MEAN',\n",
       "       '_lso1k_cpo20_urban_hd.tif_SUM', '_lso1k_cpo20_urban_hd.tif_MIN',\n",
       "       '_lso1k_cpo20_urban_hd.tif_MAX', '_lso1k_cpo20_urban_hd.tif_MEAN'],\n",
       "      dtype='object')"
      ]
     },
     "execution_count": 16,
     "metadata": {},
     "output_type": "execute_result"
    }
   ],
   "source": [
    "inD1.columns"
   ]
  },
  {
   "cell_type": "code",
   "execution_count": 17,
   "metadata": {},
   "outputs": [
    {
     "data": {
      "text/plain": [
       "Index(['TOTALPOP_lso1k_gpo.tif_SUM', 'TOTALPOP_lso1k_gpo.tif_MIN',\n",
       "       'TOTALPOP_lso1k_gpo.tif_MAX', 'TOTALPOP_lso1k_gpo.tif_MEAN',\n",
       "       '_lso1k_gpo_urban.tif_SUM', '_lso1k_gpo_urban.tif_MIN',\n",
       "       '_lso1k_gpo_urban.tif_MAX', '_lso1k_gpo_urban.tif_MEAN',\n",
       "       '_lso1k_gpo_urban_hd.tif_SUM', '_lso1k_gpo_urban_hd.tif_MIN',\n",
       "       '_lso1k_gpo_urban_hd.tif_MAX', '_lso1k_gpo_urban_hd.tif_MEAN'],\n",
       "      dtype='object')"
      ]
     },
     "execution_count": 17,
     "metadata": {},
     "output_type": "execute_result"
    }
   ],
   "source": [
    "inD2.columns"
   ]
  },
  {
   "cell_type": "code",
   "execution_count": 18,
   "metadata": {},
   "outputs": [],
   "source": [
    "pop_files = ['/home/wb411133/data/Projects/MR_Novel_Urbanization/Data/LSO_URBAN_DATA_new_naming/lso_upo15.tif',\n",
    "'/home/wb411133/data/Projects/MR_Novel_Urbanization/Data/LSO_URBAN_DATA_new_naming/lso_gpo.tif',\n",
    "'/home/wb411133/data/Projects/MR_Novel_Urbanization/Data/LSO_URBAN_DATA_new_naming/lso_cpo15.tif',\n",
    "'/home/wb411133/data/Projects/MR_Novel_Urbanization/Data/LSO_URBAN_DATA_new_naming/lso_cpo20.tif',\n",
    "'/home/wb411133/data/Projects/MR_Novel_Urbanization/Data/LSO_URBAN_DATA_new_naming/lso_gpo.tif',\n",
    "'/home/wb411133/data/Projects/MR_Novel_Urbanization/Data/LSO_URBAN_DATA_new_naming/lso_upo15.tif']"
   ]
  },
  {
   "cell_type": "code",
   "execution_count": 21,
   "metadata": {},
   "outputs": [
    {
     "data": {
      "text/plain": [
       "['/home/wb411133/data/Projects/MR_Novel_Urbanization/Data/LSO_URBAN_DATA_new_naming/lso_gpo.tif',\n",
       " '/home/wb411133/data/Projects/MR_Novel_Urbanization/Data/LSO_URBAN_DATA_new_naming/lso_upo15.tif',\n",
       " '/home/wb411133/data/Projects/MR_Novel_Urbanization/Data/LSO_URBAN_DATA_new_naming/lso_cpo20.tif',\n",
       " '/home/wb411133/data/Projects/MR_Novel_Urbanization/Data/LSO_URBAN_DATA_new_naming/lso_cpo15.tif']"
      ]
     },
     "execution_count": 21,
     "metadata": {},
     "output_type": "execute_result"
    }
   ],
   "source": [
    "list(set(pop_files))"
   ]
  },
  {
   "cell_type": "code",
   "execution_count": null,
   "metadata": {},
   "outputs": [],
   "source": []
  }
 ],
 "metadata": {
  "kernelspec": {
   "display_name": "Earth Engine",
   "language": "python",
   "name": "ee"
  },
  "language_info": {
   "codemirror_mode": {
    "name": "ipython",
    "version": 3
   },
   "file_extension": ".py",
   "mimetype": "text/x-python",
   "name": "python",
   "nbconvert_exporter": "python",
   "pygments_lexer": "ipython3",
   "version": "3.9.4"
  }
 },
 "nbformat": 4,
 "nbformat_minor": 2
}
