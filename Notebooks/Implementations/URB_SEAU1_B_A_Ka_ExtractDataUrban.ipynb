{
 "cells": [
  {
   "cell_type": "markdown",
   "metadata": {},
   "source": [
    "# Extract data for urban calculations\n",
    "\n",
    "Test input for Tanzania\n",
    "\n",
    "0. Select focal ADM, buffer by 1km, rasterize as [0, 1]\n",
    "1. Download DEM data from ASTER, mosaick\n",
    "2. Calculate slope of DEM\n",
    "3. Extract water layer from Globcover\n",
    "4. Rasterize building footprints\n",
    "5. Select population layer\n",
    "6. Standardize all rasters to population layer  \n",
    "   a. Set area outside of focal admin to NoData  \n",
    "   b. Set everything to 16bit  \n",
    "   \n",
    "   \n"
   ]
  },
  {
   "cell_type": "code",
   "execution_count": 1,
   "metadata": {},
   "outputs": [],
   "source": [
    "import sys, os, importlib, shutil\n",
    "import requests\n",
    "import rasterio, elevation, richdem\n",
    "import rasterio.warp\n",
    "from rasterio import features\n",
    "\n",
    "import pandas as pd\n",
    "import geopandas as gpd\n",
    "import numpy as np\n",
    "\n",
    "from shapely.geometry import MultiPolygon, Polygon, box\n",
    "\n",
    "#Import GOST urban functions\n",
    "sys.path.append(\"../\")\n",
    "import src.UrbanRaster as urban\n",
    "import src.urban_helper as helper\n",
    "\n",
    "#Import raster helpers\n",
    "sys.path.append(\"../../gostrocks/src\")\n",
    "\n",
    "import GOSTRocks.rasterMisc as rMisc\n",
    "from GOSTRocks.misc import tPrint"
   ]
  },
  {
   "cell_type": "code",
   "execution_count": 2,
   "metadata": {},
   "outputs": [],
   "source": [
    "global_bounds = \"/home/public/Data/GLOBAL/ADMIN/Admin0_Polys.shp\"\n",
    "global_bounds_adm2 = \"/home/public/Data/GLOBAL/ADMIN/Admin2_Polys.shp\"\n",
    "\n",
    "inG = gpd.read_file(global_bounds)\n",
    "inG2 = gpd.read_file(global_bounds_adm2)"
   ]
  },
  {
   "cell_type": "code",
   "execution_count": 3,
   "metadata": {},
   "outputs": [],
   "source": [
    "importlib.reload(helper)\n",
    "importlib.reload(rMisc)\n",
    "\n",
    "def calculate_urban(iso3, inG, inG2, pop_files, ea_file):\n",
    "    global_landcover  = \"/home/public/Data/GLOBAL/LANDCOVER/GLOBCOVER/2015/ESACCI-LC-L4-LCCS-Map-300m-P1Y-2015-v2.0.7.tif\"\n",
    "    global_ghspop = \"/home/public/Data/GLOBAL/Population/GHS/250/GHS_POP_E2015_GLOBE_R2019A_54009_250_V1_0.tif\"\n",
    "    global_ghspop_1k = \"/home/public/Data/GLOBAL/Population/GHS/GHS_POP_E2015_GLOBE_R2019A_54009_1K_V1_0.tif\"\n",
    "    global_ghbuilt = \"/home/public/Data/GLOBAL/URBAN/GHS/GHS_1K_BUILT/GHS_BUILT_LDS2014_GLOBE_R2018A_54009_1K_V1_0.tif\"\n",
    "    global_dem_1k = \"/home/public/Data/GLOBAL/ELEV/noaa_1km.tif\"\n",
    "    \n",
    "    output_folder = \"/home/wb411133/temp/%s_URBAN_DATA\" % iso3\n",
    "    inD = inG.loc[inG['ISO3'] == iso3]\n",
    "    inD['geometry'] = inD['geometry'].apply(lambda x: x.buffer(500))\n",
    "    inD = inD.to_crs({'init':'epsg:4326'})\n",
    "    \n",
    "    inD2 = inG2.loc[inG2['ISO3'] == iso3]\n",
    "    inD2 = inD2.to_crs({'init':'epsg:4326'})  \n",
    "    \n",
    "    ### Process 1km data\n",
    "    xx = helper.urban_country(iso3, output_folder, inD, final_folder=\"FINAL_STANDARD_1KM\", ghspop_suffix=\"1K\")\n",
    "    adm2_res = os.path.join(xx.final_folder, \"URBAN_ADMIN2_STATS_COMPILED.csv\") \n",
    "    ea_res   = os.path.join(xx.final_folder, \"URBAN_COMMUNE_STATS_COMPILED.csv\")\n",
    "    tPrint(\"***** Extracting Global Layers %s\" % iso3)\n",
    "    xx.extract_layers(global_landcover, global_ghspop_1k, global_ghbuilt)\n",
    "    tPrint(\"***** Downloading and processing elevation %s\" % iso3)\n",
    "    xx.process_dem(global_dem=global_dem_1k)\n",
    "    tPrint(\"***** Standardizing rasters\")\n",
    "    xx.standardize_rasters(pop_files=pop_files)\n",
    "    tPrint(\"***** Calculating Urban\")\n",
    "    xx.calculate_urban(pop_files)\n",
    "    xx.calculate_urban([xx.ghspop_file])\n",
    "\n",
    "    ### Process 250m data \n",
    "    xx = helper.urban_country(iso3, output_folder, inD)\n",
    "    tPrint(\"***** Extracting Global Layers %s\" % iso3)\n",
    "    xx.extract_layers(global_landcover, global_ghspop, global_ghbuilt)\n",
    "    tPrint(\"***** Downloading and processing elevation %s\" % iso3)\n",
    "    xx.process_dem(global_dem=global_dem_1k)\n",
    "    tPrint(\"***** Standardizing rasters\")\n",
    "    xx.standardize_rasters(pop_files=pop_files)\n",
    "    tPrint(\"***** Calculating Urban\")\n",
    "    final_pop_files = [os.path.join(xx.final_folder, os.path.basename(x)) for x in pop_files]\n",
    "    xx.calculate_urban(final_pop_files)\n",
    "    xx.calculate_urban([xx.ghspop_file])\n",
    "    tPrint(\"***** Calculating Zonal admin2\")\n",
    "    if os.path.exists(ea_file):\n",
    "        if not os.path.exists(os.path.join(output_folder, \"URBAN_ADMIN2_STATS_COMPILED.csv\")):\n",
    "            zonal_adm2 = xx.pop_zonal_admin(inD2)\n",
    "            zonal_adm2.to_csv(os.path.join(output_folder, \"URBAN_ADMIN2_STATS_COMPILED.csv\"))\n",
    "        tPrint(\"***** Calculating Zonal communes\")\n",
    "        if not os.path.exists(os.path.join(output_folder, \"URBAN_COMMUNE_STATS_COMPILED.csv\")):\n",
    "            inEA = gpd.read_file(ea_file)\n",
    "            zonal_ea = xx.pop_zonal_admin(inEA)\n",
    "            zonal_ea.to_csv(os.path.join(output_folder, \"URBAN_COMMUNE_STATS_COMPILED.csv\"))"
   ]
  },
  {
   "cell_type": "code",
   "execution_count": 6,
   "metadata": {},
   "outputs": [
    {
     "name": "stderr",
     "output_type": "stream",
     "text": [
      "/home/wb411133/.conda/envs/geog/lib/python3.7/site-packages/ipykernel_launcher.py:13: SettingWithCopyWarning: \n",
      "A value is trying to be set on a copy of a slice from a DataFrame.\n",
      "Try using .loc[row_indexer,col_indexer] = value instead\n",
      "\n",
      "See the caveats in the documentation: http://pandas.pydata.org/pandas-docs/stable/indexing.html#indexing-view-versus-copy\n",
      "  del sys.path[0]\n"
     ]
    },
    {
     "name": "stdout",
     "output_type": "stream",
     "text": [
      "10:33:21\t***** Extracting Global Layers TZA\n",
      "10:33:21\t***** Downloading and processing elevation TZA\n",
      "10:33:21\t***** Standardizing rasters\n",
      "/home/wb411133/temp/TZA_URBAN_DATA/TZA_ADMIN.tif\n",
      "/home/wb411133/temp/TZA_URBAN_DATA/TZA_GHS1K.tif\n",
      "/home/wb411133/temp/TZA_URBAN_DATA/TZA_LC_H20.tif\n",
      "/home/wb411133/temp/TZA_URBAN_DATA/TZA_SLOPE.tif\n",
      "/home/wb411133/temp/TZA_URBAN_DATA/TZA_DEM.tif\n",
      "/home/wb411133/temp/TZA_URBAN_DATA/TZA_GHSBUILT.tif\n",
      "/home/public/Data/COUNTRY/TZA/POPULATION/WORLDPOP/TZA_2015_2018/tza_ppp_2015_UNadj.tif\n",
      "/home/public/Data/COUNTRY/TZA/POPULATION/WORLDPOP/TZA_2015_2018/tza_ppp_2018_UNadj.tif\n",
      "/home/public/Data/COUNTRY/TZA/POPULATION/WORLDPOP/TZA_2015_2018/ppp_prj_2015_TZA_UNadj.tif\n",
      "/home/public/Data/COUNTRY/TZA/POPULATION/WORLDPOP/TZA_2015_2018/ppp_prj_2018_TZA_UNadj.tif\n",
      "10:33:54\t***** Calculating Urban\n",
      "10:33:54\t***Starting \n",
      "10:33:54\t/home/wb411133/temp/TZA_URBAN_DATA/FINAL_STANDARD_1KM/tza_ppp_2015_UNadj_urban.tif\n",
      "10:34:14\t/home/wb411133/temp/TZA_URBAN_DATA/FINAL_STANDARD_1KM/tza_ppp_2015_UNadj_urban_hd.tif\n",
      "10:34:14\t/home/wb411133/temp/TZA_URBAN_DATA/FINAL_STANDARD_1KM/tza_ppp_2018_UNadj_urban.tif\n",
      "10:34:37\t/home/wb411133/temp/TZA_URBAN_DATA/FINAL_STANDARD_1KM/tza_ppp_2018_UNadj_urban_hd.tif\n",
      "10:34:37\t/home/wb411133/temp/TZA_URBAN_DATA/FINAL_STANDARD_1KM/ppp_prj_2015_TZA_UNadj_urban.tif\n",
      "10:38:58\t/home/wb411133/temp/TZA_URBAN_DATA/FINAL_STANDARD_1KM/ppp_prj_2015_TZA_UNadj_urban_hd.tif\n",
      "10:38:58\t/home/wb411133/temp/TZA_URBAN_DATA/FINAL_STANDARD_1KM/ppp_prj_2018_TZA_UNadj_urban.tif\n",
      "10:43:29\t/home/wb411133/temp/TZA_URBAN_DATA/FINAL_STANDARD_1KM/ppp_prj_2018_TZA_UNadj_urban_hd.tif\n",
      "10:43:29\t***Starting \n",
      "10:43:29\t/home/wb411133/temp/TZA_URBAN_DATA/FINAL_STANDARD_1KM/TZA_GHS1K_urban.tif\n",
      "10:46:04\t/home/wb411133/temp/TZA_URBAN_DATA/FINAL_STANDARD_1KM/TZA_GHS1K_urban_hd.tif\n",
      "10:46:04\t***** Extracting Global Layers TZA\n",
      "10:46:04\t***** Downloading and processing elevation TZA\n",
      "10:46:04\t***** Standardizing rasters\n",
      "/home/wb411133/temp/TZA_URBAN_DATA/TZA_ADMIN.tif\n",
      "/home/wb411133/temp/TZA_URBAN_DATA/TZA_GHS.tif\n",
      "/home/wb411133/temp/TZA_URBAN_DATA/TZA_LC_H20.tif\n",
      "/home/wb411133/temp/TZA_URBAN_DATA/TZA_SLOPE.tif\n",
      "/home/wb411133/temp/TZA_URBAN_DATA/TZA_DEM.tif\n",
      "/home/wb411133/temp/TZA_URBAN_DATA/TZA_GHSBUILT.tif\n",
      "/home/public/Data/COUNTRY/TZA/POPULATION/WORLDPOP/TZA_2015_2018/tza_ppp_2015_UNadj.tif\n",
      "/home/public/Data/COUNTRY/TZA/POPULATION/WORLDPOP/TZA_2015_2018/tza_ppp_2018_UNadj.tif\n",
      "/home/public/Data/COUNTRY/TZA/POPULATION/WORLDPOP/TZA_2015_2018/ppp_prj_2015_TZA_UNadj.tif\n",
      "/home/public/Data/COUNTRY/TZA/POPULATION/WORLDPOP/TZA_2015_2018/ppp_prj_2018_TZA_UNadj.tif\n",
      "10:46:05\t***** Calculating Urban\n",
      "10:46:05\t***Starting \n",
      "10:46:05\t/home/wb411133/temp/TZA_URBAN_DATA/FINAL_STANDARD/tza_ppp_2015_UNadj_urban.tif\n",
      "10:46:05\t/home/wb411133/temp/TZA_URBAN_DATA/FINAL_STANDARD/tza_ppp_2015_UNadj_urban_hd.tif\n",
      "10:46:05\t/home/wb411133/temp/TZA_URBAN_DATA/FINAL_STANDARD/tza_ppp_2018_UNadj_urban.tif\n",
      "10:46:05\t/home/wb411133/temp/TZA_URBAN_DATA/FINAL_STANDARD/tza_ppp_2018_UNadj_urban_hd.tif\n",
      "10:46:05\t/home/wb411133/temp/TZA_URBAN_DATA/FINAL_STANDARD/ppp_prj_2015_TZA_UNadj_urban.tif\n",
      "10:46:05\t/home/wb411133/temp/TZA_URBAN_DATA/FINAL_STANDARD/ppp_prj_2015_TZA_UNadj_urban_hd.tif\n",
      "10:46:05\t/home/wb411133/temp/TZA_URBAN_DATA/FINAL_STANDARD/ppp_prj_2018_TZA_UNadj_urban.tif\n",
      "10:46:05\t/home/wb411133/temp/TZA_URBAN_DATA/FINAL_STANDARD/ppp_prj_2018_TZA_UNadj_urban_hd.tif\n",
      "10:46:05\t***Starting \n",
      "10:46:05\t/home/wb411133/temp/TZA_URBAN_DATA/FINAL_STANDARD/TZA_GHS_urban.tif\n",
      "10:46:05\t/home/wb411133/temp/TZA_URBAN_DATA/FINAL_STANDARD/TZA_GHS_urban_hd.tif\n",
      "10:46:05\t***** Calculating Zonal admin2\n"
     ]
    }
   ],
   "source": [
    "# Process TZA\n",
    "iso3 = \"TZA\"\n",
    "local_path = \"/home/public/Data/COUNTRY/{country}/POPULATION/WORLDPOP/TZA_2015_2018\".format(country=iso3)\n",
    "pop_2015_un = os.path.join(local_path, \"%s_ppp_2015_UNadj.tif\" % iso3.lower())\n",
    "pop_2018_un = os.path.join(local_path, \"%s_ppp_2018_UNadj.tif\" % iso3.lower())\n",
    "pop_2015_con = os.path.join(local_path, \"ppp_prj_2015_%s_UNadj.tif\" % iso3)\n",
    "pop_2018_con = os.path.join(local_path, \"ppp_prj_2018_%s_UNadj.tif\" % iso3)\n",
    "\n",
    "pop_files = [pop_2015_un, pop_2018_un, pop_2015_con, pop_2018_con]\n",
    "output_folder = \"/home/wb411133/temp/%s_URBAN_DATA\" % iso3\n",
    "ea_file = os.path.join(output_folder, 'FINAL_EAS.shp')\n",
    "\n",
    "calculate_urban(iso3, inG, inG2, pop_files, '')"
   ]
  },
  {
   "cell_type": "code",
   "execution_count": 7,
   "metadata": {},
   "outputs": [
    {
     "name": "stderr",
     "output_type": "stream",
     "text": [
      "/home/wb411133/.conda/envs/geog/lib/python3.7/site-packages/ipykernel_launcher.py:13: SettingWithCopyWarning: \n",
      "A value is trying to be set on a copy of a slice from a DataFrame.\n",
      "Try using .loc[row_indexer,col_indexer] = value instead\n",
      "\n",
      "See the caveats in the documentation: http://pandas.pydata.org/pandas-docs/stable/indexing.html#indexing-view-versus-copy\n",
      "  del sys.path[0]\n"
     ]
    },
    {
     "name": "stdout",
     "output_type": "stream",
     "text": [
      "11:24:47\t***** Extracting Global Layers GHA\n",
      "11:24:47\t***** Downloading and processing elevation GHA\n",
      "11:24:47\tDownloading DEM\n",
      "11:24:47\tCalculating slope\n",
      "Warning! No geotransform defined. Choosing a standard one! (Top left cell's top let corner at <0,0>; cells are 1x1.)\n",
      "Warning! No geotransform defined. Choosing a standard one! (Top left cell's top let corner at <0,0>; cells are 1x1.)\n",
      "11:24:47\t***** Standardizing rasters\n",
      "/home/wb411133/temp/GHA_URBAN_DATA/GHA_ADMIN.tif\n",
      "/home/wb411133/temp/GHA_URBAN_DATA/GHA_GHS1K.tif\n",
      "/home/wb411133/temp/GHA_URBAN_DATA/GHA_LC_H20.tif\n",
      "/home/wb411133/temp/GHA_URBAN_DATA/GHA_SLOPE.tif\n",
      "/home/wb411133/temp/GHA_URBAN_DATA/GHA_DEM.tif\n",
      "/home/wb411133/temp/GHA_URBAN_DATA/GHA_GHSBUILT.tif\n",
      "/home/public/Data/COUNTRY/GHA/POPULATION/WORLDPOP/gha_ppp_2015_UNadj.tif\n",
      "/home/public/Data/COUNTRY/GHA/POPULATION/WORLDPOP/gha_ppp_2017_UNadj.tif\n",
      "/home/public/Data/COUNTRY/GHA/POPULATION/WORLDPOP/ppp_prj_2015_GHA_UNadj.tif\n",
      "/home/public/Data/COUNTRY/GHA/POPULATION/WORLDPOP/ppp_prj_2017_GHA_UNadj.tif\n",
      "11:24:47\t***** Calculating Urban\n",
      "11:24:47\t***Starting \n",
      "11:24:47\t/home/wb411133/temp/GHA_URBAN_DATA/FINAL_STANDARD_1KM/gha_ppp_2015_UNadj_urban.tif\n",
      "11:24:47\t/home/wb411133/temp/GHA_URBAN_DATA/FINAL_STANDARD_1KM/gha_ppp_2015_UNadj_urban_hd.tif\n",
      "11:24:47\t/home/wb411133/temp/GHA_URBAN_DATA/FINAL_STANDARD_1KM/gha_ppp_2017_UNadj_urban.tif\n",
      "11:24:47\t/home/wb411133/temp/GHA_URBAN_DATA/FINAL_STANDARD_1KM/gha_ppp_2017_UNadj_urban_hd.tif\n",
      "11:24:47\t/home/wb411133/temp/GHA_URBAN_DATA/FINAL_STANDARD_1KM/ppp_prj_2015_GHA_UNadj_urban.tif\n",
      "11:24:47\t/home/wb411133/temp/GHA_URBAN_DATA/FINAL_STANDARD_1KM/ppp_prj_2015_GHA_UNadj_urban_hd.tif\n",
      "11:24:47\t/home/wb411133/temp/GHA_URBAN_DATA/FINAL_STANDARD_1KM/ppp_prj_2017_GHA_UNadj_urban.tif\n",
      "11:24:47\t/home/wb411133/temp/GHA_URBAN_DATA/FINAL_STANDARD_1KM/ppp_prj_2017_GHA_UNadj_urban_hd.tif\n",
      "11:24:47\t***Starting \n",
      "11:24:47\t/home/wb411133/temp/GHA_URBAN_DATA/FINAL_STANDARD_1KM/GHA_GHS1K_urban.tif\n",
      "11:24:47\t/home/wb411133/temp/GHA_URBAN_DATA/FINAL_STANDARD_1KM/GHA_GHS1K_urban_hd.tif\n",
      "11:24:47\t***** Extracting Global Layers GHA\n",
      "11:24:47\t***** Downloading and processing elevation GHA\n",
      "11:24:47\t***** Standardizing rasters\n",
      "/home/wb411133/temp/GHA_URBAN_DATA/GHA_ADMIN.tif\n",
      "/home/wb411133/temp/GHA_URBAN_DATA/GHA_GHS.tif\n",
      "/home/wb411133/temp/GHA_URBAN_DATA/GHA_LC_H20.tif\n",
      "/home/wb411133/temp/GHA_URBAN_DATA/GHA_SLOPE.tif\n",
      "/home/wb411133/temp/GHA_URBAN_DATA/GHA_DEM.tif\n",
      "/home/wb411133/temp/GHA_URBAN_DATA/GHA_GHSBUILT.tif\n",
      "/home/public/Data/COUNTRY/GHA/POPULATION/WORLDPOP/gha_ppp_2015_UNadj.tif\n",
      "/home/public/Data/COUNTRY/GHA/POPULATION/WORLDPOP/gha_ppp_2017_UNadj.tif\n",
      "/home/public/Data/COUNTRY/GHA/POPULATION/WORLDPOP/ppp_prj_2015_GHA_UNadj.tif\n",
      "/home/public/Data/COUNTRY/GHA/POPULATION/WORLDPOP/ppp_prj_2017_GHA_UNadj.tif\n",
      "11:24:48\t***** Calculating Urban\n",
      "11:24:48\t***Starting \n",
      "11:24:48\t/home/wb411133/temp/GHA_URBAN_DATA/FINAL_STANDARD/gha_ppp_2015_UNadj_urban.tif\n",
      "11:24:48\t/home/wb411133/temp/GHA_URBAN_DATA/FINAL_STANDARD/gha_ppp_2015_UNadj_urban_hd.tif\n",
      "11:24:48\t/home/wb411133/temp/GHA_URBAN_DATA/FINAL_STANDARD/gha_ppp_2017_UNadj_urban.tif\n",
      "11:24:48\t/home/wb411133/temp/GHA_URBAN_DATA/FINAL_STANDARD/gha_ppp_2017_UNadj_urban_hd.tif\n",
      "11:24:48\t/home/wb411133/temp/GHA_URBAN_DATA/FINAL_STANDARD/ppp_prj_2015_GHA_UNadj_urban.tif\n",
      "11:24:48\t/home/wb411133/temp/GHA_URBAN_DATA/FINAL_STANDARD/ppp_prj_2015_GHA_UNadj_urban_hd.tif\n",
      "11:24:48\t/home/wb411133/temp/GHA_URBAN_DATA/FINAL_STANDARD/ppp_prj_2017_GHA_UNadj_urban.tif\n",
      "11:24:48\t/home/wb411133/temp/GHA_URBAN_DATA/FINAL_STANDARD/ppp_prj_2017_GHA_UNadj_urban_hd.tif\n",
      "11:24:48\t***Starting \n",
      "11:24:48\t/home/wb411133/temp/GHA_URBAN_DATA/FINAL_STANDARD/GHA_GHS_urban.tif\n",
      "11:24:48\t/home/wb411133/temp/GHA_URBAN_DATA/FINAL_STANDARD/GHA_GHS_urban_hd.tif\n",
      "11:24:48\t***** Calculating Zonal admin2\n",
      "11:24:56\t***** Calculating Zonal communes\n"
     ]
    },
    {
     "ename": "AttributeError",
     "evalue": "'NoneType' object has no attribute 'is_empty'",
     "output_type": "error",
     "traceback": [
      "\u001b[0;31m---------------------------------------------------------------------------\u001b[0m",
      "\u001b[0;31mAttributeError\u001b[0m                            Traceback (most recent call last)",
      "\u001b[0;32m<ipython-input-7-1bb4727847cd>\u001b[0m in \u001b[0;36m<module>\u001b[0;34m\u001b[0m\n\u001b[1;32m     11\u001b[0m \u001b[0mea_file\u001b[0m \u001b[0;34m=\u001b[0m \u001b[0mos\u001b[0m\u001b[0;34m.\u001b[0m\u001b[0mpath\u001b[0m\u001b[0;34m.\u001b[0m\u001b[0mjoin\u001b[0m\u001b[0;34m(\u001b[0m\u001b[0moutput_folder\u001b[0m\u001b[0;34m,\u001b[0m \u001b[0;34m'FINAL_EAS.shp'\u001b[0m\u001b[0;34m)\u001b[0m\u001b[0;34m\u001b[0m\u001b[0;34m\u001b[0m\u001b[0m\n\u001b[1;32m     12\u001b[0m \u001b[0;34m\u001b[0m\u001b[0m\n\u001b[0;32m---> 13\u001b[0;31m \u001b[0mcalculate_urban\u001b[0m\u001b[0;34m(\u001b[0m\u001b[0miso3\u001b[0m\u001b[0;34m,\u001b[0m \u001b[0minG\u001b[0m\u001b[0;34m,\u001b[0m \u001b[0minG2\u001b[0m\u001b[0;34m,\u001b[0m \u001b[0mpop_files\u001b[0m\u001b[0;34m,\u001b[0m \u001b[0mea_file\u001b[0m\u001b[0;34m)\u001b[0m\u001b[0;34m\u001b[0m\u001b[0;34m\u001b[0m\u001b[0m\n\u001b[0m",
      "\u001b[0;32m<ipython-input-3-ab560a5360b5>\u001b[0m in \u001b[0;36mcalculate_urban\u001b[0;34m(iso3, inG, inG2, pop_files, ea_file)\u001b[0m\n\u001b[1;32m     51\u001b[0m         \u001b[0;32mif\u001b[0m \u001b[0;32mnot\u001b[0m \u001b[0mos\u001b[0m\u001b[0;34m.\u001b[0m\u001b[0mpath\u001b[0m\u001b[0;34m.\u001b[0m\u001b[0mexists\u001b[0m\u001b[0;34m(\u001b[0m\u001b[0mos\u001b[0m\u001b[0;34m.\u001b[0m\u001b[0mpath\u001b[0m\u001b[0;34m.\u001b[0m\u001b[0mjoin\u001b[0m\u001b[0;34m(\u001b[0m\u001b[0moutput_folder\u001b[0m\u001b[0;34m,\u001b[0m \u001b[0;34m\"URBAN_COMMUNE_STATS_COMPILED.csv\"\u001b[0m\u001b[0;34m)\u001b[0m\u001b[0;34m)\u001b[0m\u001b[0;34m:\u001b[0m\u001b[0;34m\u001b[0m\u001b[0;34m\u001b[0m\u001b[0m\n\u001b[1;32m     52\u001b[0m             \u001b[0minEA\u001b[0m \u001b[0;34m=\u001b[0m \u001b[0mgpd\u001b[0m\u001b[0;34m.\u001b[0m\u001b[0mread_file\u001b[0m\u001b[0;34m(\u001b[0m\u001b[0mea_file\u001b[0m\u001b[0;34m)\u001b[0m\u001b[0;34m\u001b[0m\u001b[0;34m\u001b[0m\u001b[0m\n\u001b[0;32m---> 53\u001b[0;31m             \u001b[0mzonal_ea\u001b[0m \u001b[0;34m=\u001b[0m \u001b[0mxx\u001b[0m\u001b[0;34m.\u001b[0m\u001b[0mpop_zonal_admin\u001b[0m\u001b[0;34m(\u001b[0m\u001b[0minEA\u001b[0m\u001b[0;34m)\u001b[0m\u001b[0;34m\u001b[0m\u001b[0;34m\u001b[0m\u001b[0m\n\u001b[0m\u001b[1;32m     54\u001b[0m             \u001b[0mzonal_ea\u001b[0m\u001b[0;34m.\u001b[0m\u001b[0mto_csv\u001b[0m\u001b[0;34m(\u001b[0m\u001b[0mos\u001b[0m\u001b[0;34m.\u001b[0m\u001b[0mpath\u001b[0m\u001b[0;34m.\u001b[0m\u001b[0mjoin\u001b[0m\u001b[0;34m(\u001b[0m\u001b[0moutput_folder\u001b[0m\u001b[0;34m,\u001b[0m \u001b[0;34m\"URBAN_COMMUNE_STATS_COMPILED.csv\"\u001b[0m\u001b[0;34m)\u001b[0m\u001b[0;34m)\u001b[0m\u001b[0;34m\u001b[0m\u001b[0;34m\u001b[0m\u001b[0m\n",
      "\u001b[0;32m~/Code/GOST_Urban/src/urban_helper.py\u001b[0m in \u001b[0;36mpop_zonal_admin\u001b[0;34m(self, admin_layer)\u001b[0m\n\u001b[1;32m    209\u001b[0m         '''\n\u001b[1;32m    210\u001b[0m         \u001b[0;32mfor\u001b[0m \u001b[0mpop_file\u001b[0m \u001b[0;32min\u001b[0m \u001b[0mself\u001b[0m\u001b[0;34m.\u001b[0m\u001b[0mfinal_pop_files\u001b[0m\u001b[0;34m:\u001b[0m\u001b[0;34m\u001b[0m\u001b[0;34m\u001b[0m\u001b[0m\n\u001b[0;32m--> 211\u001b[0;31m             \u001b[0myy\u001b[0m \u001b[0;34m=\u001b[0m \u001b[0msummarize_population\u001b[0m\u001b[0;34m(\u001b[0m\u001b[0mpop_file\u001b[0m\u001b[0;34m,\u001b[0m \u001b[0madmin_layer\u001b[0m\u001b[0;34m)\u001b[0m\u001b[0;34m\u001b[0m\u001b[0;34m\u001b[0m\u001b[0m\n\u001b[0m\u001b[1;32m    212\u001b[0m             \u001b[0;32mif\u001b[0m \u001b[0myy\u001b[0m\u001b[0;34m.\u001b[0m\u001b[0mcheck_inputs\u001b[0m\u001b[0;34m(\u001b[0m\u001b[0;34m)\u001b[0m\u001b[0;34m:\u001b[0m\u001b[0;34m\u001b[0m\u001b[0;34m\u001b[0m\u001b[0m\n\u001b[1;32m    213\u001b[0m                 \u001b[0mres\u001b[0m \u001b[0;34m=\u001b[0m \u001b[0myy\u001b[0m\u001b[0;34m.\u001b[0m\u001b[0mcalculate_zonal\u001b[0m\u001b[0;34m(\u001b[0m\u001b[0mout_name\u001b[0m\u001b[0;34m=\u001b[0m\u001b[0;34m''\u001b[0m\u001b[0;34m)\u001b[0m\u001b[0;34m\u001b[0m\u001b[0;34m\u001b[0m\u001b[0m\n",
      "\u001b[0;32m~/Code/GOST_Urban/src/urban_helper.py\u001b[0m in \u001b[0;36m__init__\u001b[0;34m(self, pop_layer, admin_layer, temp_folder)\u001b[0m\n\u001b[1;32m     31\u001b[0m         \u001b[0mself\u001b[0m\u001b[0;34m.\u001b[0m\u001b[0min_pop\u001b[0m \u001b[0;34m=\u001b[0m \u001b[0mrasterio\u001b[0m\u001b[0;34m.\u001b[0m\u001b[0mopen\u001b[0m\u001b[0;34m(\u001b[0m\u001b[0mself\u001b[0m\u001b[0;34m.\u001b[0m\u001b[0mpop_layer\u001b[0m\u001b[0;34m)\u001b[0m\u001b[0;34m\u001b[0m\u001b[0;34m\u001b[0m\u001b[0m\n\u001b[1;32m     32\u001b[0m         \u001b[0;32mif\u001b[0m \u001b[0mself\u001b[0m\u001b[0;34m.\u001b[0m\u001b[0madmin_layer\u001b[0m\u001b[0;34m.\u001b[0m\u001b[0mcrs\u001b[0m \u001b[0;34m!=\u001b[0m \u001b[0mself\u001b[0m\u001b[0;34m.\u001b[0m\u001b[0min_pop\u001b[0m\u001b[0;34m.\u001b[0m\u001b[0mcrs\u001b[0m\u001b[0;34m:\u001b[0m\u001b[0;34m\u001b[0m\u001b[0;34m\u001b[0m\u001b[0m\n\u001b[0;32m---> 33\u001b[0;31m             \u001b[0mself\u001b[0m\u001b[0;34m.\u001b[0m\u001b[0madmin_layer\u001b[0m \u001b[0;34m=\u001b[0m \u001b[0mself\u001b[0m\u001b[0;34m.\u001b[0m\u001b[0madmin_layer\u001b[0m\u001b[0;34m.\u001b[0m\u001b[0mto_crs\u001b[0m\u001b[0;34m(\u001b[0m\u001b[0mself\u001b[0m\u001b[0;34m.\u001b[0m\u001b[0min_pop\u001b[0m\u001b[0;34m.\u001b[0m\u001b[0mcrs\u001b[0m\u001b[0;34m)\u001b[0m\u001b[0;34m\u001b[0m\u001b[0;34m\u001b[0m\u001b[0m\n\u001b[0m\u001b[1;32m     34\u001b[0m \u001b[0;34m\u001b[0m\u001b[0m\n\u001b[1;32m     35\u001b[0m         \u001b[0;32mif\u001b[0m \u001b[0mtemp_folder\u001b[0m \u001b[0;34m==\u001b[0m \u001b[0;34m''\u001b[0m\u001b[0;34m:\u001b[0m\u001b[0;34m\u001b[0m\u001b[0;34m\u001b[0m\u001b[0m\n",
      "\u001b[0;32m~/.conda/envs/geog/lib/python3.7/site-packages/geopandas/geodataframe.py\u001b[0m in \u001b[0;36mto_crs\u001b[0;34m(self, crs, epsg, inplace)\u001b[0m\n\u001b[1;32m    457\u001b[0m         \u001b[0;32melse\u001b[0m\u001b[0;34m:\u001b[0m\u001b[0;34m\u001b[0m\u001b[0;34m\u001b[0m\u001b[0m\n\u001b[1;32m    458\u001b[0m             \u001b[0mdf\u001b[0m \u001b[0;34m=\u001b[0m \u001b[0mself\u001b[0m\u001b[0;34m.\u001b[0m\u001b[0mcopy\u001b[0m\u001b[0;34m(\u001b[0m\u001b[0;34m)\u001b[0m\u001b[0;34m\u001b[0m\u001b[0;34m\u001b[0m\u001b[0m\n\u001b[0;32m--> 459\u001b[0;31m         \u001b[0mgeom\u001b[0m \u001b[0;34m=\u001b[0m \u001b[0mdf\u001b[0m\u001b[0;34m.\u001b[0m\u001b[0mgeometry\u001b[0m\u001b[0;34m.\u001b[0m\u001b[0mto_crs\u001b[0m\u001b[0;34m(\u001b[0m\u001b[0mcrs\u001b[0m\u001b[0;34m=\u001b[0m\u001b[0mcrs\u001b[0m\u001b[0;34m,\u001b[0m \u001b[0mepsg\u001b[0m\u001b[0;34m=\u001b[0m\u001b[0mepsg\u001b[0m\u001b[0;34m)\u001b[0m\u001b[0;34m\u001b[0m\u001b[0;34m\u001b[0m\u001b[0m\n\u001b[0m\u001b[1;32m    460\u001b[0m         \u001b[0mdf\u001b[0m\u001b[0;34m.\u001b[0m\u001b[0mgeometry\u001b[0m \u001b[0;34m=\u001b[0m \u001b[0mgeom\u001b[0m\u001b[0;34m\u001b[0m\u001b[0;34m\u001b[0m\u001b[0m\n\u001b[1;32m    461\u001b[0m         \u001b[0mdf\u001b[0m\u001b[0;34m.\u001b[0m\u001b[0mcrs\u001b[0m \u001b[0;34m=\u001b[0m \u001b[0mgeom\u001b[0m\u001b[0;34m.\u001b[0m\u001b[0mcrs\u001b[0m\u001b[0;34m\u001b[0m\u001b[0;34m\u001b[0m\u001b[0m\n",
      "\u001b[0;32m~/.conda/envs/geog/lib/python3.7/site-packages/geopandas/geoseries.py\u001b[0m in \u001b[0;36mto_crs\u001b[0;34m(self, crs, epsg)\u001b[0m\n\u001b[1;32m    309\u001b[0m         \u001b[0;32melse\u001b[0m\u001b[0;34m:\u001b[0m\u001b[0;34m\u001b[0m\u001b[0;34m\u001b[0m\u001b[0m\n\u001b[1;32m    310\u001b[0m             \u001b[0mproject\u001b[0m \u001b[0;34m=\u001b[0m \u001b[0mpartial\u001b[0m\u001b[0;34m(\u001b[0m\u001b[0mpyproj\u001b[0m\u001b[0;34m.\u001b[0m\u001b[0mtransform\u001b[0m\u001b[0;34m,\u001b[0m \u001b[0mproj_in\u001b[0m\u001b[0;34m,\u001b[0m \u001b[0mproj_out\u001b[0m\u001b[0;34m)\u001b[0m\u001b[0;34m\u001b[0m\u001b[0;34m\u001b[0m\u001b[0m\n\u001b[0;32m--> 311\u001b[0;31m         \u001b[0mresult\u001b[0m \u001b[0;34m=\u001b[0m \u001b[0mself\u001b[0m\u001b[0;34m.\u001b[0m\u001b[0mapply\u001b[0m\u001b[0;34m(\u001b[0m\u001b[0;32mlambda\u001b[0m \u001b[0mgeom\u001b[0m\u001b[0;34m:\u001b[0m \u001b[0mtransform\u001b[0m\u001b[0;34m(\u001b[0m\u001b[0mproject\u001b[0m\u001b[0;34m,\u001b[0m \u001b[0mgeom\u001b[0m\u001b[0;34m)\u001b[0m\u001b[0;34m)\u001b[0m\u001b[0;34m\u001b[0m\u001b[0;34m\u001b[0m\u001b[0m\n\u001b[0m\u001b[1;32m    312\u001b[0m         \u001b[0mresult\u001b[0m\u001b[0;34m.\u001b[0m\u001b[0m__class__\u001b[0m \u001b[0;34m=\u001b[0m \u001b[0mGeoSeries\u001b[0m\u001b[0;34m\u001b[0m\u001b[0;34m\u001b[0m\u001b[0m\n\u001b[1;32m    313\u001b[0m         \u001b[0mresult\u001b[0m\u001b[0;34m.\u001b[0m\u001b[0mcrs\u001b[0m \u001b[0;34m=\u001b[0m \u001b[0mcrs\u001b[0m\u001b[0;34m\u001b[0m\u001b[0;34m\u001b[0m\u001b[0m\n",
      "\u001b[0;32m~/.conda/envs/geog/lib/python3.7/site-packages/pandas/core/series.py\u001b[0m in \u001b[0;36mapply\u001b[0;34m(self, func, convert_dtype, args, **kwds)\u001b[0m\n\u001b[1;32m   3589\u001b[0m             \u001b[0;32melse\u001b[0m\u001b[0;34m:\u001b[0m\u001b[0;34m\u001b[0m\u001b[0;34m\u001b[0m\u001b[0m\n\u001b[1;32m   3590\u001b[0m                 \u001b[0mvalues\u001b[0m \u001b[0;34m=\u001b[0m \u001b[0mself\u001b[0m\u001b[0;34m.\u001b[0m\u001b[0mastype\u001b[0m\u001b[0;34m(\u001b[0m\u001b[0mobject\u001b[0m\u001b[0;34m)\u001b[0m\u001b[0;34m.\u001b[0m\u001b[0mvalues\u001b[0m\u001b[0;34m\u001b[0m\u001b[0;34m\u001b[0m\u001b[0m\n\u001b[0;32m-> 3591\u001b[0;31m                 \u001b[0mmapped\u001b[0m \u001b[0;34m=\u001b[0m \u001b[0mlib\u001b[0m\u001b[0;34m.\u001b[0m\u001b[0mmap_infer\u001b[0m\u001b[0;34m(\u001b[0m\u001b[0mvalues\u001b[0m\u001b[0;34m,\u001b[0m \u001b[0mf\u001b[0m\u001b[0;34m,\u001b[0m \u001b[0mconvert\u001b[0m\u001b[0;34m=\u001b[0m\u001b[0mconvert_dtype\u001b[0m\u001b[0;34m)\u001b[0m\u001b[0;34m\u001b[0m\u001b[0;34m\u001b[0m\u001b[0m\n\u001b[0m\u001b[1;32m   3592\u001b[0m \u001b[0;34m\u001b[0m\u001b[0m\n\u001b[1;32m   3593\u001b[0m         \u001b[0;32mif\u001b[0m \u001b[0mlen\u001b[0m\u001b[0;34m(\u001b[0m\u001b[0mmapped\u001b[0m\u001b[0;34m)\u001b[0m \u001b[0;32mand\u001b[0m \u001b[0misinstance\u001b[0m\u001b[0;34m(\u001b[0m\u001b[0mmapped\u001b[0m\u001b[0;34m[\u001b[0m\u001b[0;36m0\u001b[0m\u001b[0;34m]\u001b[0m\u001b[0;34m,\u001b[0m \u001b[0mSeries\u001b[0m\u001b[0;34m)\u001b[0m\u001b[0;34m:\u001b[0m\u001b[0;34m\u001b[0m\u001b[0;34m\u001b[0m\u001b[0m\n",
      "\u001b[0;32mpandas/_libs/lib.pyx\u001b[0m in \u001b[0;36mpandas._libs.lib.map_infer\u001b[0;34m()\u001b[0m\n",
      "\u001b[0;32m~/.conda/envs/geog/lib/python3.7/site-packages/geopandas/geoseries.py\u001b[0m in \u001b[0;36m<lambda>\u001b[0;34m(geom)\u001b[0m\n\u001b[1;32m    309\u001b[0m         \u001b[0;32melse\u001b[0m\u001b[0;34m:\u001b[0m\u001b[0;34m\u001b[0m\u001b[0;34m\u001b[0m\u001b[0m\n\u001b[1;32m    310\u001b[0m             \u001b[0mproject\u001b[0m \u001b[0;34m=\u001b[0m \u001b[0mpartial\u001b[0m\u001b[0;34m(\u001b[0m\u001b[0mpyproj\u001b[0m\u001b[0;34m.\u001b[0m\u001b[0mtransform\u001b[0m\u001b[0;34m,\u001b[0m \u001b[0mproj_in\u001b[0m\u001b[0;34m,\u001b[0m \u001b[0mproj_out\u001b[0m\u001b[0;34m)\u001b[0m\u001b[0;34m\u001b[0m\u001b[0;34m\u001b[0m\u001b[0m\n\u001b[0;32m--> 311\u001b[0;31m         \u001b[0mresult\u001b[0m \u001b[0;34m=\u001b[0m \u001b[0mself\u001b[0m\u001b[0;34m.\u001b[0m\u001b[0mapply\u001b[0m\u001b[0;34m(\u001b[0m\u001b[0;32mlambda\u001b[0m \u001b[0mgeom\u001b[0m\u001b[0;34m:\u001b[0m \u001b[0mtransform\u001b[0m\u001b[0;34m(\u001b[0m\u001b[0mproject\u001b[0m\u001b[0;34m,\u001b[0m \u001b[0mgeom\u001b[0m\u001b[0;34m)\u001b[0m\u001b[0;34m)\u001b[0m\u001b[0;34m\u001b[0m\u001b[0;34m\u001b[0m\u001b[0m\n\u001b[0m\u001b[1;32m    312\u001b[0m         \u001b[0mresult\u001b[0m\u001b[0;34m.\u001b[0m\u001b[0m__class__\u001b[0m \u001b[0;34m=\u001b[0m \u001b[0mGeoSeries\u001b[0m\u001b[0;34m\u001b[0m\u001b[0;34m\u001b[0m\u001b[0m\n\u001b[1;32m    313\u001b[0m         \u001b[0mresult\u001b[0m\u001b[0;34m.\u001b[0m\u001b[0mcrs\u001b[0m \u001b[0;34m=\u001b[0m \u001b[0mcrs\u001b[0m\u001b[0;34m\u001b[0m\u001b[0;34m\u001b[0m\u001b[0m\n",
      "\u001b[0;32m~/.conda/envs/geog/lib/python3.7/site-packages/shapely/ops.py\u001b[0m in \u001b[0;36mtransform\u001b[0;34m(func, geom)\u001b[0m\n\u001b[1;32m    219\u001b[0m     \u001b[0malso\u001b[0m \u001b[0msatisfy\u001b[0m \u001b[0mthe\u001b[0m \u001b[0mrequirements\u001b[0m \u001b[0;32mfor\u001b[0m\u001b[0;31m \u001b[0m\u001b[0;31m`\u001b[0m\u001b[0mfunc\u001b[0m\u001b[0;31m`\u001b[0m\u001b[0;34m.\u001b[0m\u001b[0;34m\u001b[0m\u001b[0;34m\u001b[0m\u001b[0m\n\u001b[1;32m    220\u001b[0m     \"\"\"\n\u001b[0;32m--> 221\u001b[0;31m     \u001b[0;32mif\u001b[0m \u001b[0mgeom\u001b[0m\u001b[0;34m.\u001b[0m\u001b[0mis_empty\u001b[0m\u001b[0;34m:\u001b[0m\u001b[0;34m\u001b[0m\u001b[0;34m\u001b[0m\u001b[0m\n\u001b[0m\u001b[1;32m    222\u001b[0m         \u001b[0;32mreturn\u001b[0m \u001b[0mgeom\u001b[0m\u001b[0;34m\u001b[0m\u001b[0;34m\u001b[0m\u001b[0m\n\u001b[1;32m    223\u001b[0m     \u001b[0;32mif\u001b[0m \u001b[0mgeom\u001b[0m\u001b[0;34m.\u001b[0m\u001b[0mtype\u001b[0m \u001b[0;32min\u001b[0m \u001b[0;34m(\u001b[0m\u001b[0;34m'Point'\u001b[0m\u001b[0;34m,\u001b[0m \u001b[0;34m'LineString'\u001b[0m\u001b[0;34m,\u001b[0m \u001b[0;34m'LinearRing'\u001b[0m\u001b[0;34m,\u001b[0m \u001b[0;34m'Polygon'\u001b[0m\u001b[0;34m)\u001b[0m\u001b[0;34m:\u001b[0m\u001b[0;34m\u001b[0m\u001b[0;34m\u001b[0m\u001b[0m\n",
      "\u001b[0;31mAttributeError\u001b[0m: 'NoneType' object has no attribute 'is_empty'"
     ]
    }
   ],
   "source": [
    "# Process GHA\n",
    "iso3 = \"GHA\"\n",
    "local_path = \"/home/public/Data/COUNTRY/{country}/POPULATION/WORLDPOP/\".format(country=iso3)\n",
    "pop_2015_un = os.path.join(local_path, \"%s_ppp_2015_UNadj.tif\" % iso3.lower())\n",
    "pop_2018_un = os.path.join(local_path, \"%s_ppp_2017_UNadj.tif\" % iso3.lower())\n",
    "pop_2015_con = os.path.join(local_path, \"ppp_prj_2015_%s_UNadj.tif\" % iso3)\n",
    "pop_2018_con = os.path.join(local_path, \"ppp_prj_2017_%s_UNadj.tif\" % iso3)\n",
    "\n",
    "pop_files = [pop_2015_un, pop_2018_un, pop_2015_con, pop_2018_con]\n",
    "output_folder = \"/home/wb411133/temp/%s_URBAN_DATA\" % iso3\n",
    "ea_file = os.path.join(output_folder, 'FINAL_EAS.shp')\n",
    "\n",
    "calculate_urban(iso3, inG, inG2, pop_files, ea_file)"
   ]
  },
  {
   "cell_type": "code",
   "execution_count": null,
   "metadata": {
    "scrolled": true
   },
   "outputs": [],
   "source": [
    "# Process BGD\n",
    "iso3 = \"BGD\"\n",
    "local_path = \"/home/public/Data/COUNTRY/{country}/POPULATION/WORLDPOP/\".format(country=iso3)\n",
    "pop_2015_un = os.path.join(local_path, \"%s_ppp_2015_UNadj.tif\" % iso3.lower())\n",
    "pop_2018_un = os.path.join(local_path, \"%s_ppp_2018_UNadj.tif\" % iso3.lower())\n",
    "pop_files = [pop_2015_un, pop_2018_un]\n",
    "output_folder = \"/home/wb411133/temp/%s_URBAN_DATA\" % iso3\n",
    "ea_file = os.path.join(output_folder, 'mauza11_reprojected.shp')\n",
    "\n",
    "calculate_urban(iso3, inG, inG2, pop_files, ea_file)"
   ]
  },
  {
   "cell_type": "code",
   "execution_count": null,
   "metadata": {
    "scrolled": true
   },
   "outputs": [],
   "source": [
    "# Process VNM\n",
    "iso3 = \"VNM\"\n",
    "local_path = \"/home/public/Data/COUNTRY/{country}/POPULATION/WORLDPOP/\".format(country=iso3)\n",
    "pop_2015_un = os.path.join(local_path, \"%s_ppp_2015_UNadj.tif\" % iso3.lower())\n",
    "pop_2018_un = os.path.join(local_path, \"%s_ppp_2018_UNadj.tif\" % iso3.lower())\n",
    "pop_files = [pop_2015_un, pop_2018_un]\n",
    "output_folder = \"/home/wb411133/temp/%s_URBAN_DATA\" % iso3\n",
    "ea_file = os.path.join(output_folder, 'Commune shapefiles', 'VN_communes2008.shp')\n",
    "\n",
    "calculate_urban(iso3, inG, inG2, pop_files, ea_file)"
   ]
  },
  {
   "cell_type": "code",
   "execution_count": null,
   "metadata": {},
   "outputs": [],
   "source": [
    "### Process 250m data\n",
    "importlib.reload(helper)\n",
    "importlib.reload(rMisc)\n",
    "\n"
   ]
  },
  {
   "cell_type": "markdown",
   "metadata": {},
   "source": [
    "# Debugging"
   ]
  },
  {
   "cell_type": "code",
   "execution_count": null,
   "metadata": {},
   "outputs": [],
   "source": [
    "importlib.reload(helper)\n",
    "\n",
    "#Evaluate the population variations in the final products\n",
    "for iso3 in [\"VNM\",\"TZA\",\"GHA\",\"BGD\"]:\n",
    "    output_folder = \"/home/wb411133/temp/%s_URBAN_DATA\" % iso3\n",
    "    xx = helper.urban_country(iso3, output_folder, inD)\n",
    "    xx.compare_pop_rasters()"
   ]
  },
  {
   "cell_type": "code",
   "execution_count": null,
   "metadata": {},
   "outputs": [],
   "source": [
    "#Summarize zonal results\n",
    "adm2_zonal = os.path.join(output_folder, \"URBAN_ADMIN2_STATS_COMPILED.csv\")\n",
    "ea_zonal = os.path.join(output_folder, \"URBAN_COMMUNE_STATS_COMPILED.csv\")"
   ]
  },
  {
   "cell_type": "code",
   "execution_count": null,
   "metadata": {},
   "outputs": [],
   "source": [
    "inD = pd.read_csv(ea_zonal, index_col=0)\n",
    "for col in inD.columns[:3]:\n",
    "    print(f'{col}: {inD[col].sum()}')"
   ]
  },
  {
   "cell_type": "code",
   "execution_count": null,
   "metadata": {},
   "outputs": [],
   "source": []
  }
 ],
 "metadata": {
  "kernelspec": {
   "display_name": "Python (geog)",
   "language": "python",
   "name": "geog"
  },
  "language_info": {
   "codemirror_mode": {
    "name": "ipython",
    "version": 3
   },
   "file_extension": ".py",
   "mimetype": "text/x-python",
   "name": "python",
   "nbconvert_exporter": "python",
   "pygments_lexer": "ipython3",
   "version": "3.7.1"
  }
 },
 "nbformat": 4,
 "nbformat_minor": 2
}
