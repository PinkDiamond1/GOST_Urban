{
 "cells": [
  {
   "cell_type": "markdown",
   "metadata": {},
   "source": [
    "# Extract data for urban calculations\n",
    "\n",
    "Test input for Tanzania\n",
    "\n",
    "0. Select focal ADM, buffer by 1km, rasterize as [0, 1]\n",
    "1. Download DEM data from ASTER, mosaick\n",
    "2. Calculate slope of DEM\n",
    "3. Extract water layer from Globcover\n",
    "4. Rasterize building footprints\n",
    "5. Select population layer\n",
    "6. Standardize all rasters to population layer  \n",
    "   a. Set area outside of focal admin to NoData  \n",
    "   b. Set everything to 16bit  \n",
    "   \n",
    "   \n"
   ]
  },
  {
   "cell_type": "code",
   "execution_count": 4,
   "metadata": {},
   "outputs": [],
   "source": [
    "import sys, os, importlib, shutil\n",
    "import requests\n",
    "import rasterio, elevation, richdem\n",
    "import rasterio.warp\n",
    "from rasterio import features\n",
    "\n",
    "import pandas as pd\n",
    "import geopandas as gpd\n",
    "import numpy as np\n",
    "\n",
    "from shapely.geometry import MultiPolygon, Polygon, box\n",
    "\n",
    "#Import raster helpers\n",
    "sys.path.append(\"../../../gostrocks/src\")\n",
    "\n",
    "import GOSTRocks.rasterMisc as rMisc\n",
    "from GOSTRocks.misc import tPrint\n",
    "\n",
    "#Import GOST urban functions\n",
    "sys.path.append(\"../../\")\n",
    "import src.UrbanRaster as urban\n",
    "import src.urban_helper as helper\n",
    "\n"
   ]
  },
  {
   "cell_type": "code",
   "execution_count": 5,
   "metadata": {},
   "outputs": [],
   "source": [
    "global_bounds = \"/home/public/Data/GLOBAL/ADMIN/Admin0_Polys.shp\"\n",
    "global_bounds_adm2 = \"/home/public/Data/GLOBAL/ADMIN/Admin2_Polys.shp\"\n",
    "\n",
    "inG = gpd.read_file(global_bounds)\n",
    "inG2 = gpd.read_file(global_bounds_adm2)"
   ]
  },
  {
   "cell_type": "code",
   "execution_count": null,
   "metadata": {},
   "outputs": [],
   "source": [
    "importlib.reload(helper)\n",
    "importlib.reload(rMisc)\n",
    "\n",
    "def calculate_urban(iso3, inG, inG2, pop_files, ea_file):\n",
    "    global_landcover  = \"/home/public/Data/GLOBAL/LANDCOVER/GLOBCOVER/2015/ESACCI-LC-L4-LCCS-Map-300m-P1Y-2015-v2.0.7.tif\"\n",
    "    global_ghspop = \"/home/public/Data/GLOBAL/Population/GHS/250/GHS_POP_E2015_GLOBE_R2019A_54009_250_V1_0.tif\"\n",
    "    global_ghspop_1k = \"/home/public/Data/GLOBAL/Population/GHS/GHS_POP_E2015_GLOBE_R2019A_54009_1K_V1_0.tif\"\n",
    "    global_ghbuilt = \"/home/public/Data/GLOBAL/URBAN/GHS/GHS_1K_BUILT/GHS_BUILT_LDS2014_GLOBE_R2018A_54009_1K_V1_0.tif\"\n",
    "    global_dem_1k = \"/home/public/Data/GLOBAL/ELEV/noaa_1km.tif\"\n",
    "    \n",
    "    output_folder = \"/home/wb411133/temp/%s_URBAN_DATA\" % iso3\n",
    "    inD = inG.loc[inG['ISO3'] == iso3]\n",
    "    inD['geometry'] = inD['geometry'].apply(lambda x: x.buffer(500))\n",
    "    inD = inD.to_crs({'init':'epsg:4326'})\n",
    "    \n",
    "    inD2 = inG2.loc[inG2['ISO3'] == iso3]\n",
    "    inD2 = inD2.to_crs({'init':'epsg:4326'})  \n",
    "    \n",
    "    ### Process 1km data\n",
    "    xx = helper.urban_country(iso3, output_folder, inD, final_folder=\"FINAL_STANDARD_1KM\", ghspop_suffix=\"1K\")\n",
    "    adm2_res = os.path.join(xx.final_folder, \"URBAN_ADMIN2_STATS_COMPILED.csv\") \n",
    "    ea_res   = os.path.join(xx.final_folder, \"URBAN_COMMUNE_STATS_COMPILED.csv\")\n",
    "    tPrint(\"***** Extracting Global Layers %s\" % iso3)\n",
    "    xx.extract_layers(global_landcover, global_ghspop_1k, global_ghbuilt)\n",
    "    tPrint(\"***** Downloading and processing elevation %s\" % iso3)\n",
    "    xx.process_dem(global_dem=global_dem_1k)\n",
    "    tPrint(\"***** Standardizing rasters\")\n",
    "    xx.standardize_rasters(pop_files=pop_files)\n",
    "    tPrint(\"***** Calculating Urban\")\n",
    "    xx.calculate_urban(pop_files)\n",
    "    xx.calculate_urban([xx.ghspop_file])\n",
    "\n",
    "    ### Process 250m data \n",
    "    xx = helper.urban_country(iso3, output_folder, inD)\n",
    "    tPrint(\"***** Extracting Global Layers %s\" % iso3)\n",
    "    xx.extract_layers(global_landcover, global_ghspop, global_ghbuilt)\n",
    "    tPrint(\"***** Downloading and processing elevation %s\" % iso3)\n",
    "    xx.process_dem(global_dem=global_dem_1k)\n",
    "    tPrint(\"***** Standardizing rasters\")\n",
    "    xx.standardize_rasters(pop_files=pop_files)\n",
    "    tPrint(\"***** Calculating Urban\")\n",
    "    final_pop_files = [os.path.join(xx.final_folder, os.path.basename(x)) for x in pop_files]\n",
    "    xx.calculate_urban(final_pop_files)\n",
    "    xx.calculate_urban([xx.ghspop_file])\n",
    "    tPrint(\"***** Calculating Zonal admin2\")\n",
    "    if os.path.exists(ea_file):\n",
    "        if not os.path.exists(os.path.join(output_folder, \"URBAN_ADMIN2_STATS_COMPILED.csv\")):\n",
    "            zonal_adm2 = xx.pop_zonal_admin(inD2)\n",
    "            zonal_adm2.to_csv(os.path.join(output_folder, \"URBAN_ADMIN2_STATS_COMPILED.csv\"))\n",
    "        tPrint(\"***** Calculating Zonal communes\")\n",
    "        if not os.path.exists(os.path.join(output_folder, \"URBAN_COMMUNE_STATS_COMPILED.csv\")):\n",
    "            inEA = gpd.read_file(ea_file)\n",
    "            zonal_ea = xx.pop_zonal_admin(inEA)\n",
    "            zonal_ea.to_csv(os.path.join(output_folder, \"URBAN_COMMUNE_STATS_COMPILED.csv\"))"
   ]
  },
  {
   "cell_type": "code",
   "execution_count": null,
   "metadata": {},
   "outputs": [],
   "source": [
    "# Process TZA\n",
    "iso3 = \"TZA\"\n",
    "local_path = \"/home/public/Data/COUNTRY/{country}/POPULATION/WORLDPOP/TZA_2015_2018\".format(country=iso3)\n",
    "pop_2015_un = os.path.join(local_path, \"%s_ppp_2015_UNadj.tif\" % iso3.lower())\n",
    "pop_2018_un = os.path.join(local_path, \"%s_ppp_2018_UNadj.tif\" % iso3.lower())\n",
    "pop_2015_con = os.path.join(local_path, \"ppp_prj_2015_%s_UNadj.tif\" % iso3)\n",
    "pop_2018_con = os.path.join(local_path, \"ppp_prj_2018_%s_UNadj.tif\" % iso3)\n",
    "\n",
    "pop_files = [pop_2015_un, pop_2018_un, pop_2015_con, pop_2018_con]\n",
    "output_folder = \"/home/wb411133/temp/%s_URBAN_DATA\" % iso3\n",
    "ea_file = os.path.join(output_folder, 'FINAL_EAS.shp')\n",
    "\n",
    "calculate_urban(iso3, inG, inG2, pop_files, '')"
   ]
  },
  {
   "cell_type": "code",
   "execution_count": null,
   "metadata": {},
   "outputs": [],
   "source": [
    "# Process GHA\n",
    "iso3 = \"GHA\"\n",
    "local_path = \"/home/public/Data/COUNTRY/{country}/POPULATION/WORLDPOP/\".format(country=iso3)\n",
    "pop_2015_un = os.path.join(local_path, \"%s_ppp_2015_UNadj.tif\" % iso3.lower())\n",
    "pop_2018_un = os.path.join(local_path, \"%s_ppp_2017_UNadj.tif\" % iso3.lower())\n",
    "pop_2015_con = os.path.join(local_path, \"ppp_prj_2015_%s_UNadj.tif\" % iso3)\n",
    "pop_2018_con = os.path.join(local_path, \"ppp_prj_2017_%s_UNadj.tif\" % iso3)\n",
    "\n",
    "pop_files = [pop_2015_un, pop_2018_un, pop_2015_con, pop_2018_con]\n",
    "output_folder = \"/home/wb411133/temp/%s_URBAN_DATA\" % iso3\n",
    "ea_file = os.path.join(output_folder, 'FINAL_EAS.shp')\n",
    "\n",
    "calculate_urban(iso3, inG, inG2, pop_files, ea_file)"
   ]
  },
  {
   "cell_type": "code",
   "execution_count": null,
   "metadata": {
    "scrolled": true
   },
   "outputs": [],
   "source": [
    "# Process BGD\n",
    "iso3 = \"BGD\"\n",
    "local_path = \"/home/public/Data/COUNTRY/{country}/POPULATION/WORLDPOP/\".format(country=iso3)\n",
    "pop_2015_un = os.path.join(local_path, \"%s_ppp_2015_UNadj.tif\" % iso3.lower())\n",
    "pop_2018_un = os.path.join(local_path, \"%s_ppp_2018_UNadj.tif\" % iso3.lower())\n",
    "pop_files = [pop_2015_un, pop_2018_un]\n",
    "output_folder = \"/home/wb411133/temp/%s_URBAN_DATA\" % iso3\n",
    "ea_file = os.path.join(output_folder, 'mauza11_reprojected.shp')\n",
    "\n",
    "calculate_urban(iso3, inG, inG2, pop_files, ea_file)"
   ]
  },
  {
   "cell_type": "code",
   "execution_count": null,
   "metadata": {
    "scrolled": true
   },
   "outputs": [],
   "source": [
    "# Process VNM\n",
    "iso3 = \"VNM\"\n",
    "local_path = \"/home/public/Data/COUNTRY/{country}/POPULATION/WORLDPOP/\".format(country=iso3)\n",
    "pop_2015_un = os.path.join(local_path, \"%s_ppp_2015_UNadj.tif\" % iso3.lower())\n",
    "pop_2018_un = os.path.join(local_path, \"%s_ppp_2018_UNadj.tif\" % iso3.lower())\n",
    "pop_files = [pop_2015_un, pop_2018_un]\n",
    "output_folder = \"/home/wb411133/temp/%s_URBAN_DATA\" % iso3\n",
    "ea_file = os.path.join(output_folder, 'Commune shapefiles', 'VN_communes2008.shp')\n",
    "\n",
    "calculate_urban(iso3, inG, inG2, pop_files, ea_file)"
   ]
  },
  {
   "cell_type": "markdown",
   "metadata": {},
   "source": [
    "# Debugging"
   ]
  },
  {
   "cell_type": "code",
   "execution_count": 7,
   "metadata": {},
   "outputs": [],
   "source": [
    "helper.urban_country?"
   ]
  },
  {
   "cell_type": "code",
   "execution_count": 8,
   "metadata": {},
   "outputs": [
    {
     "name": "stdout",
     "output_type": "stream",
     "text": [
      "vnm_ppp_2015_UNadj.tif: 92397032.0\n",
      "vnm_ppp_2018_UNadj.tif: 95256256.0\n",
      "VNM_GHS.tif: 93519360.0\n",
      "ppp_prj_2015_TZA_UNadj.tif: 52859848.0\n",
      "ppp_prj_2018_TZA_UNadj.tif: 57826388.0\n",
      "tza_ppp_2015_UNadj.tif: 52848544.0\n",
      "tza_ppp_2018_UNadj.tif: 57807492.0\n",
      "TZA_GHS.tif: 53554484.0\n",
      "gha_ppp_2020_UNadj_constrained.tif: 30900930.0\n",
      "gha_ppp_2015_UNadj.tif: 27687922.0\n",
      "gha_ppp_2018_UNadj.tif: 29597536.0\n",
      "ppp_prj_2015_GHA_UNadj.tif: 27692108.0\n",
      "ppp_prj_2017_GHA_UNadj.tif: 28957034.0\n",
      "gha_ppp_2017_UNadj.tif: 28956792.0\n",
      "GHA_GHS.tif: 27667904.0\n",
      "bgd_ppp_2015_UNadj.tif: 155715584.0\n",
      "bgd_ppp_2017_UNadj.tif: 159056256.0\n",
      "bgd_ppp_2018_UNadj.tif: 160739872.0\n",
      "BGD_GHS.tif: 161472416.0\n"
     ]
    }
   ],
   "source": [
    "importlib.reload(helper)\n",
    "\n",
    "#Evaluate the population variations in the final products\n",
    "for iso3 in [\"VNM\",\"TZA\",\"GHA\",\"BGD\"]:\n",
    "    inD = inG.loc[inG['ISO3'] == iso3]\n",
    "    output_folder = \"/home/wb411133/temp/%s_URBAN_DATA\" % iso3\n",
    "    xx = helper.urban_country(iso3, output_folder, inD)\n",
    "    xx.compare_pop_rasters()"
   ]
  },
  {
   "cell_type": "code",
   "execution_count": null,
   "metadata": {},
   "outputs": [],
   "source": [
    "#Summarize zonal results\n",
    "adm2_zonal = os.path.join(output_folder, \"URBAN_ADMIN2_STATS_COMPILED.csv\")\n",
    "ea_zonal = os.path.join(output_folder, \"URBAN_COMMUNE_STATS_COMPILED.csv\")"
   ]
  },
  {
   "cell_type": "code",
   "execution_count": null,
   "metadata": {},
   "outputs": [],
   "source": [
    "inD = pd.read_csv(ea_zonal, index_col=0)\n",
    "for col in inD.columns[:3]:\n",
    "    print(f'{col}: {inD[col].sum()}')"
   ]
  },
  {
   "cell_type": "code",
   "execution_count": null,
   "metadata": {},
   "outputs": [],
   "source": []
  }
 ],
 "metadata": {
  "kernelspec": {
   "display_name": "Python (geog)",
   "language": "python",
   "name": "geog"
  },
  "language_info": {
   "codemirror_mode": {
    "name": "ipython",
    "version": 3
   },
   "file_extension": ".py",
   "mimetype": "text/x-python",
   "name": "python",
   "nbconvert_exporter": "python",
   "pygments_lexer": "ipython3",
   "version": "3.7.1"
  }
 },
 "nbformat": 4,
 "nbformat_minor": 2
}
