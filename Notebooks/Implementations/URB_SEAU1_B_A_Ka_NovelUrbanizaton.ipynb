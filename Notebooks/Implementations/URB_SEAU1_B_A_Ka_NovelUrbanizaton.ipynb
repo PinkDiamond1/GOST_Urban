{
 "cells": [
  {
   "cell_type": "markdown",
   "metadata": {},
   "source": [
    "# Extract data for urban calculations\n",
    "\n",
    "Test input for Tanzania\n",
    "\n",
    "0. Select focal ADM, buffer by 1km, rasterize as [0, 1]\n",
    "1. Download DEM data from ASTER, mosaick\n",
    "2. Calculate slope of DEM\n",
    "3. Extract water layer from Globcover\n",
    "4. Rasterize building footprints\n",
    "5. Select population layer\n",
    "6. Standardize all rasters to population layer  \n",
    "   a. Set area outside of focal admin to NoData  \n",
    "   b. Set everything to 16bit  \n",
    "   \n",
    "   \n"
   ]
  },
  {
   "cell_type": "code",
   "execution_count": 1,
   "metadata": {},
   "outputs": [],
   "source": [
    "import sys, os, importlib, shutil\n",
    "import requests\n",
    "import rasterio, elevation, richdem\n",
    "import rasterio.warp\n",
    "from rasterio import features\n",
    "\n",
    "import pandas as pd\n",
    "import geopandas as gpd\n",
    "import numpy as np\n",
    "\n",
    "from shapely.geometry import MultiPolygon, Polygon, box, Point\n",
    "\n",
    "#Import raster helpers\n",
    "sys.path.append(\"../../../gostrocks/src\")\n",
    "\n",
    "import GOSTRocks.rasterMisc as rMisc\n",
    "from GOSTRocks.misc import tPrint\n",
    "\n",
    "#Import GOST urban functions\n",
    "sys.path.append(\"../../\")\n",
    "import src.UrbanRaster as urban\n",
    "import src.urban_helper as helper\n",
    "\n"
   ]
  },
  {
   "cell_type": "code",
   "execution_count": 2,
   "metadata": {},
   "outputs": [],
   "source": [
    "global_bounds = \"/home/public/Data/GLOBAL/ADMIN/Admin0_Polys.shp\"\n",
    "global_bounds_adm2 = \"/home/public/Data/GLOBAL/ADMIN/Admin2_Polys.shp\"\n",
    "\n",
    "inG = gpd.read_file(global_bounds)\n",
    "inG2 = gpd.read_file(global_bounds_adm2)\n",
    "\n",
    "runSmall = True\n",
    "runLarge = True"
   ]
  },
  {
   "cell_type": "code",
   "execution_count": 66,
   "metadata": {},
   "outputs": [],
   "source": [
    "importlib.reload(helper)\n",
    "importlib.reload(rMisc)\n",
    "\n",
    "def calculate_urban(iso3, inG, inG2, pop_files, ea_file, km=True, small=True):\n",
    "    global_landcover  = \"/home/public/Data/GLOBAL/LANDCOVER/GLOBCOVER/2015/ESACCI-LC-L4-LCCS-Map-300m-P1Y-2015-v2.0.7.tif\"\n",
    "    global_ghspop = \"/home/public/Data/GLOBAL/Population/GHS/250/GHS_POP_E2015_GLOBE_R2019A_54009_250_V1_0.tif\"\n",
    "    global_ghspop_1k = \"/home/public/Data/GLOBAL/Population/GHS/GHS_POP_E2015_GLOBE_R2019A_54009_1K_V1_0.tif\"\n",
    "    global_ghbuilt = \"/home/public/Data/GLOBAL/URBAN/GHS/GHS_1K_BUILT/GHS_BUILT_LDS2014_GLOBE_R2018A_54009_1K_V1_0.tif\"\n",
    "    global_dem_1k = \"/home/public/Data/GLOBAL/ELEV/noaa_1km.tif\"\n",
    "    ghs_smod = \"/home/public/Data/GLOBAL/URBAN/GHS/GHS_SMOD/GHS_SMOD_POP2015_GLOBE_R2019A_54009_1K_V2_0.tif\"\n",
    "    ghsl_vrt = \"/home/public/Data/GLOBAL/GHSL/ghsl.vrt\"\n",
    "\n",
    "    output_folder = \"/home/wb411133/temp/%s_URBAN_DATA_new_naming\" % iso3\n",
    "    admin2_250_stats = os.path.join(output_folder, \"URBAN_ADMIN2_STATS_COMPILED.csv\")\n",
    "    commune_250_stats = os.path.join(output_folder, \"URBAN_COMMUNE_STATS_COMPILED.csv\")\n",
    "    admin2_1k_stats = os.path.join(output_folder, \"URBAN_ADMIN2_STATS_COMPILED_1k.csv\")\n",
    "    commune_1k_stats = os.path.join(output_folder, \"URBAN_COMMUNE_STATS_COMPILED_1k.csv\")\n",
    "    \n",
    "    inD = inG.loc[inG['ISO3'] == iso3]\n",
    "    inD['geometry'] = inD['geometry'].apply(lambda x: x.buffer(500))\n",
    "    inD = inD.to_crs({'init':'epsg:4326'})\n",
    "    \n",
    "    inD2 = inG2.loc[inG2['ISO3'] == iso3]\n",
    "    inD2 = inD2.to_crs({'init':'epsg:4326'})  \n",
    "    \n",
    "    ### Process 1km data\n",
    "    if km:\n",
    "        xx = helper.urban_country(iso3, output_folder, inD, pop_files,\n",
    "                                final_folder=\"FINAL_STANDARD_1KM\", ghspop_suffix=\"1k\")\n",
    "        adm2_res = os.path.join(xx.final_folder, \"URBAN_ADMIN2_STATS_COMPILED.csv\") \n",
    "        ea_res   = os.path.join(xx.final_folder, \"URBAN_COMMUNE_STATS_COMPILED.csv\")\n",
    "        tPrint(\"***** Extracting Global Layers %s\" % iso3)\n",
    "        xx.extract_layers(global_landcover, global_ghspop, global_ghspop_1k, global_ghbuilt, ghsl_vrt, ghs_smod)\n",
    "        tPrint(\"***** Downloading and processing elevation %s\" % iso3)\n",
    "        xx.process_dem(global_dem=global_dem_1k)\n",
    "        tPrint(\"***** Standardizing rasters\")\n",
    "        xx.standardize_rasters()\n",
    "        tPrint(\"***** Calculating Urban\")\n",
    "        xx.calculate_urban()\n",
    "        tPrint(\"***** Calculating Zonal admin2\")\n",
    "        if os.path.exists(ea_file):\n",
    "            if not os.path.exists(admin2_1k_stats):\n",
    "                zonal_adm2 = xx.pop_zonal_admin(inD2)\n",
    "                zonal_adm2.to_csv(admin2_1k_stats)\n",
    "            tPrint(\"***** Calculating Zonal communes\")\n",
    "            if not os.path.exists(commune_1k_stats):\n",
    "                inEA = gpd.read_file(ea_file)\n",
    "                zonal_ea = xx.pop_zonal_admin(inEA)\n",
    "                zonal_ea.to_csv(commune_1k_stats)\n",
    "        tPrint(\"***** Evaluating Data\")\n",
    "        xx.evaluateOutput(admin2_1k_stats, commune_1k_stats)        \n",
    "    \n",
    "    ### Process 250m data \n",
    "    if small:\n",
    "        xx = helper.urban_country(iso3, output_folder, inD, pop_files)\n",
    "        tPrint(\"***** Extracting Global Layers %s\" % iso3)\n",
    "        xx.extract_layers(global_landcover, global_ghspop, global_ghspop_1k, global_ghbuilt, ghsl_vrt, ghs_smod)\n",
    "        tPrint(\"***** Downloading and processing elevation %s\" % iso3)\n",
    "        xx.process_dem(global_dem=global_dem_1k)\n",
    "        tPrint(\"***** Standardizing rasters\")\n",
    "        xx.standardize_rasters()\n",
    "        tPrint(\"***** Calculating Urban\")\n",
    "        xx.calculate_urban()\n",
    "        tPrint(\"***** Calculating Zonal admin2\")\n",
    "        if os.path.exists(ea_file):\n",
    "            if not os.path.exists(admin2_250_stats):\n",
    "                zonal_adm2 = xx.pop_zonal_admin(inD2)\n",
    "                zonal_adm2.to_csv(admin2_250_stats)\n",
    "            tPrint(\"***** Calculating Zonal communes\")\n",
    "            if not os.path.exists(commune_250_stats):\n",
    "                inEA = gpd.read_file(ea_file)\n",
    "                zonal_ea = xx.pop_zonal_admin(inEA)\n",
    "                zonal_ea.to_csv(commune_250_stats)\n",
    "        tPrint(\"***** Evaluating Data\")\n",
    "        xx.evaluateOutput(admin2_250_stats, commune_250_stats)\n",
    "        \n",
    "                \n",
    "# Summarize Pierre's urbanization numbers\n",
    "def calc_pp_urban(in_folder, default_pop_file, admin_layer):\n",
    "    urban_layers = [os.path.join(in_folder, x) for x in os.listdir(in_folder)]\n",
    "    cur_layer = urban_layers[0]\n",
    "    inD = gpd.read_file(admin_layer)\n",
    "    default_pop_1k = default_pop_file.replace(default_pop_file[:3], \"%s1k\" % default_pop_file[:3])\n",
    "    for cur_layer in urban_layers:\n",
    "        tPrint(cur_layer)\n",
    "        #Open and read in urban data\n",
    "        urban_r = rasterio.open(cur_layer)\n",
    "        urban_data = urban_r.read()\n",
    "        urban_data = (urban_data > 0).astype(urban_r.meta['dtype'])\n",
    "        #Extract population data\n",
    "        urban_layer = os.path.basename(cur_layer)  \n",
    "        default_pop = default_pop_file\n",
    "        if \"1k\" in urban_layer:\n",
    "            default_pop = default_pop_1k\n",
    "            pop_layer = os.path.basename(cur_layer)[:11]\n",
    "            pop_folder = os.path.join(output_folder, \"FINAL_STANDARD_1KM\")\n",
    "        else:\n",
    "            pop_layer = os.path.basename(cur_layer)[:9]\n",
    "            pop_folder = os.path.join(output_folder, \"FINAL_STANDARD\")\n",
    "        pop_file = os.path.join(pop_folder,\"%s.tif\" % pop_layer)\n",
    "        if not os.path.exists(pop_file):            \n",
    "            pop_file = os.path.join(pop_folder, default_pop)\n",
    "            \n",
    "        pop_data = rasterio.open(pop_file).read()\n",
    "        pop_data = pop_data * urban_data\n",
    "        meta = urban_r.meta.copy()\n",
    "        meta.update(dtype = pop_data.dtype)\n",
    "        \n",
    "        with rMisc.create_rasterio_inmemory(meta, pop_data) as pop_r:\n",
    "            res = rMisc.zonalStats(inD, pop_r, reProj=True)\n",
    "            res = pd.DataFrame(res, columns=['SUM', 'MIN', 'MAX', 'MEAN'])\n",
    "            \n",
    "        inD[os.path.basename(cur_layer).replace(\".tif\",\"\")] = res['SUM']\n",
    "    return(inD)"
   ]
  },
  {
   "cell_type": "code",
   "execution_count": 73,
   "metadata": {
    "scrolled": true
   },
   "outputs": [
    {
     "name": "stderr",
     "output_type": "stream",
     "text": [
      "/home/wb411133/.conda/envs/geog/lib/python3.7/site-packages/ipykernel_launcher.py:20: SettingWithCopyWarning: \n",
      "A value is trying to be set on a copy of a slice from a DataFrame.\n",
      "Try using .loc[row_indexer,col_indexer] = value instead\n",
      "\n",
      "See the caveats in the documentation: http://pandas.pydata.org/pandas-docs/stable/indexing.html#indexing-view-versus-copy\n"
     ]
    },
    {
     "name": "stdout",
     "output_type": "stream",
     "text": [
      "08:46:44\t***** Extracting Global Layers GHA\n",
      "08:46:44\t***** Downloading and processing elevation GHA\n",
      "08:46:44\t***** Standardizing rasters\n",
      "/home/wb411133/temp/GHA_URBAN_DATA_new_naming/gha_adm.tif\n",
      "/home/wb411133/temp/GHA_URBAN_DATA_new_naming/gha_gpo.tif\n",
      "/home/wb411133/temp/GHA_URBAN_DATA_new_naming/gha_wat_lc.tif\n",
      "/home/wb411133/temp/GHA_URBAN_DATA_new_naming/gha_wat.tif\n",
      "/home/wb411133/temp/GHA_URBAN_DATA_new_naming/gha_slo.tif\n",
      "/home/wb411133/temp/GHA_URBAN_DATA_new_naming/gha_ele.tif\n",
      "/home/wb411133/temp/GHA_URBAN_DATA_new_naming/gha_gsmod.tif\n",
      "/home/wb411133/temp/GHA_URBAN_DATA_new_naming/gha_gbu.tif\n",
      "/home/wb411133/temp/GHA_URBAN_DATA_new_naming/gha_upo15.tif\n",
      "/home/wb411133/temp/GHA_URBAN_DATA_new_naming/gha_upo17.tif\n",
      "/home/wb411133/temp/GHA_URBAN_DATA_new_naming/gha_cpo15.tif\n",
      "/home/wb411133/temp/GHA_URBAN_DATA_new_naming/gha_cpo17.tif\n",
      "/home/wb411133/temp/GHA_URBAN_DATA_new_naming/gha1k_gpo.tif\n",
      "08:46:45\t***** Calculating Urban\n",
      "/home/wb411133/temp/GHA_URBAN_DATA_new_naming/FINAL_STANDARD_1KM/gha1k_upo15.tif\n",
      "/home/wb411133/temp/GHA_URBAN_DATA_new_naming/FINAL_STANDARD_1KM/gha1k_upo17.tif\n",
      "/home/wb411133/temp/GHA_URBAN_DATA_new_naming/FINAL_STANDARD_1KM/gha1k_cpo15.tif\n",
      "/home/wb411133/temp/GHA_URBAN_DATA_new_naming/FINAL_STANDARD_1KM/gha1k_cpo17.tif\n",
      "/home/wb411133/temp/GHA_URBAN_DATA_new_naming/FINAL_STANDARD_1KM/gha1k_gpo.tif\n",
      "08:46:45\t***** Calculating Zonal admin2\n",
      "08:46:45\t***** Calculating Zonal communes\n",
      "08:46:45\t***** Evaluating Data\n",
      "08:46:47\t/home/wb411133/temp/GHA_URBAN_DATA_new_naming/URBAN_ADMIN2_STATS_COMPILED_1k.csv\n",
      "08:46:48\t/home/wb411133/temp/GHA_URBAN_DATA_new_naming/URBAN_COMMUNE_STATS_COMPILED_1k.csv\n"
     ]
    }
   ],
   "source": [
    "importlib.reload(helper)\n",
    "# Process GHA\n",
    "iso3 = \"GHA\"\n",
    "local_path = \"/home/public/Data/COUNTRY/{country}/POPULATION/WORLDPOP/\".format(country=iso3)\n",
    "pop_2015_un = os.path.join(local_path, \"%s_ppp_2015_UNadj.tif\" % iso3.lower())\n",
    "pop_2018_un = os.path.join(local_path, \"%s_ppp_2017_UNadj.tif\" % iso3.lower())\n",
    "pop_2015_con = os.path.join(local_path, \"ppp_prj_2015_%s_UNadj.tif\" % iso3)\n",
    "pop_2018_con = os.path.join(local_path, \"ppp_prj_2017_%s_UNadj.tif\" % iso3)\n",
    "\n",
    "pop_files = [[pop_2015_un, \"%s_upo15.tif\" % iso3.lower()], \n",
    "             [pop_2018_un, \"%s_upo17.tif\" % iso3.lower()], \n",
    "             [pop_2015_con, \"%s_cpo15.tif\" % iso3.lower()], \n",
    "             [pop_2018_con, \"%s_cpo17.tif\" % iso3.lower()]]\n",
    "output_folder = \"/home/wb411133/temp/%s_URBAN_DATA_new_naming\" % iso3\n",
    "ea_file = os.path.join(output_folder, 'FINAL_EAS.shp')\n",
    "\n",
    "calculate_urban(iso3, inG, inG2, pop_files, ea_file, small=False, km=runLarge)\n",
    "#pp_urban = calc_pp_urban(os.path.join(output_folder, \"ghana\"), \"%s_cpo17.tif\" % iso3.lower(), ea_file)\n",
    "#pd.DataFrame(pp_urban.drop(['geometry'], axis=1)).to_csv(ea_file.replace(\".shp\", \"_PP_Urban.csv\"))"
   ]
  },
  {
   "cell_type": "code",
   "execution_count": null,
   "metadata": {},
   "outputs": [],
   "source": [
    "### JUST EXTRACT DATA\n",
    "iso3 = \"TUR\"\n",
    "pop_files = []\n",
    "output_folder = \"/home/wb411133/temp/%s_URBAN_DATA_new_naming\" % iso3\n",
    "calculate_urban(iso3, inG, inG2, pop_files, '', small=runSmall, km=runLarge)"
   ]
  },
  {
   "cell_type": "code",
   "execution_count": 30,
   "metadata": {
    "scrolled": true
   },
   "outputs": [
    {
     "name": "stderr",
     "output_type": "stream",
     "text": [
      "/home/wb411133/.conda/envs/geog/lib/python3.7/site-packages/ipykernel_launcher.py:15: SettingWithCopyWarning: \n",
      "A value is trying to be set on a copy of a slice from a DataFrame.\n",
      "Try using .loc[row_indexer,col_indexer] = value instead\n",
      "\n",
      "See the caveats in the documentation: http://pandas.pydata.org/pandas-docs/stable/indexing.html#indexing-view-versus-copy\n",
      "  from ipykernel import kernelapp as app\n"
     ]
    },
    {
     "name": "stdout",
     "output_type": "stream",
     "text": [
      "22:20:24\t***** Extracting Global Layers ETH\n",
      "22:20:24\t***** Downloading and processing elevation ETH\n",
      "22:20:24\t***** Standardizing rasters\n",
      "/home/wb411133/temp/ETH_URBAN_DATA_new_naming/eth_adm.tif\n",
      "/home/wb411133/temp/ETH_URBAN_DATA_new_naming/eth_gpo.tif\n",
      "/home/wb411133/temp/ETH_URBAN_DATA_new_naming/eth_wat_lc.tif\n",
      "/home/wb411133/temp/ETH_URBAN_DATA_new_naming/eth_wat.tif\n",
      "/home/wb411133/temp/ETH_URBAN_DATA_new_naming/eth_slo.tif\n",
      "/home/wb411133/temp/ETH_URBAN_DATA_new_naming/eth_ele.tif\n",
      "/home/wb411133/temp/ETH_URBAN_DATA_new_naming/eth_gsmod.tif\n",
      "/home/wb411133/temp/ETH_URBAN_DATA_new_naming/eth_gbu.tif\n",
      "/home/wb411133/temp/ETH_URBAN_DATA_new_naming/eth_upo15.tif\n",
      "/home/wb411133/temp/ETH_URBAN_DATA_new_naming/eth_upo16.tif\n",
      "/home/wb411133/temp/ETH_URBAN_DATA_new_naming/eth1k_gpo.tif\n",
      "22:20:24\t***** Calculating Urban\n",
      "/home/wb411133/temp/ETH_URBAN_DATA_new_naming/FINAL_STANDARD_1KM/eth1k_upo15.tif\n",
      "/home/wb411133/temp/ETH_URBAN_DATA_new_naming/FINAL_STANDARD_1KM/eth1k_upo16.tif\n",
      "/home/wb411133/temp/ETH_URBAN_DATA_new_naming/FINAL_STANDARD_1KM/eth1k_gpo.tif\n",
      "22:20:25\t***** Evaluating Data\n",
      "22:20:36\t***** Calculating Zonal admin2\n",
      "22:20:36\t***** Extracting Global Layers ETH\n",
      "22:20:36\t***** Downloading and processing elevation ETH\n",
      "22:20:36\t***** Standardizing rasters\n",
      "/home/wb411133/temp/ETH_URBAN_DATA_new_naming/eth_adm.tif\n",
      "/home/wb411133/temp/ETH_URBAN_DATA_new_naming/eth_gpo.tif\n",
      "/home/wb411133/temp/ETH_URBAN_DATA_new_naming/eth_wat_lc.tif\n",
      "/home/wb411133/temp/ETH_URBAN_DATA_new_naming/eth_wat.tif\n",
      "/home/wb411133/temp/ETH_URBAN_DATA_new_naming/eth_slo.tif\n",
      "/home/wb411133/temp/ETH_URBAN_DATA_new_naming/eth_ele.tif\n",
      "/home/wb411133/temp/ETH_URBAN_DATA_new_naming/eth_gsmod.tif\n",
      "/home/wb411133/temp/ETH_URBAN_DATA_new_naming/eth_gbu.tif\n",
      "/home/wb411133/temp/ETH_URBAN_DATA_new_naming/eth_upo15.tif\n",
      "/home/wb411133/temp/ETH_URBAN_DATA_new_naming/eth_upo16.tif\n",
      "/home/wb411133/temp/ETH_URBAN_DATA_new_naming/eth_gpo.tif\n",
      "22:20:37\t***** Calculating Urban\n",
      "/home/wb411133/temp/ETH_URBAN_DATA_new_naming/FINAL_STANDARD/eth_upo15.tif\n",
      "/home/wb411133/temp/ETH_URBAN_DATA_new_naming/FINAL_STANDARD/eth_upo16.tif\n",
      "/home/wb411133/temp/ETH_URBAN_DATA_new_naming/FINAL_STANDARD/eth_gpo.tif\n",
      "22:20:54\t***** Calculating Zonal admin2\n"
     ]
    }
   ],
   "source": [
    "# Process ETH\n",
    "iso3 = \"ETH\"\n",
    "local_path = \"/home/public/Data/COUNTRY/{country}/WORLDPOP/\".format(country=iso3)\n",
    "pop_2015_un = os.path.join(local_path, \"%s_ppp_2015_UNadj.tif\" % iso3.lower())\n",
    "pop_2018_un = os.path.join(local_path, \"%s_ppp_2016_UNadj.tif\" % iso3.lower())\n",
    "pop_files = [[pop_2015_un, \"%s_upo15.tif\" % iso3.lower()], \n",
    "             [pop_2018_un, \"%s_upo16.tif\" % iso3.lower()]]\n",
    "output_folder = \"/home/wb411133/temp/%s_URBAN_DATA_new_naming\" % iso3\n",
    "ea_file = ''\n",
    "\n",
    "calculate_urban(iso3, inG, inG2, pop_files, ea_file, small=runSmall, km=runLarge)"
   ]
  },
  {
   "cell_type": "code",
   "execution_count": 31,
   "metadata": {
    "scrolled": true
   },
   "outputs": [
    {
     "name": "stderr",
     "output_type": "stream",
     "text": [
      "/home/wb411133/.conda/envs/geog/lib/python3.7/site-packages/ipykernel_launcher.py:15: SettingWithCopyWarning: \n",
      "A value is trying to be set on a copy of a slice from a DataFrame.\n",
      "Try using .loc[row_indexer,col_indexer] = value instead\n",
      "\n",
      "See the caveats in the documentation: http://pandas.pydata.org/pandas-docs/stable/indexing.html#indexing-view-versus-copy\n",
      "  from ipykernel import kernelapp as app\n"
     ]
    },
    {
     "name": "stdout",
     "output_type": "stream",
     "text": [
      "22:20:55\t***** Extracting Global Layers COL\n",
      "22:20:55\t***** Downloading and processing elevation COL\n",
      "22:20:55\t***** Standardizing rasters\n",
      "/home/wb411133/temp/COL_URBAN_DATA_new_naming/col_adm.tif\n",
      "/home/wb411133/temp/COL_URBAN_DATA_new_naming/col_gpo.tif\n",
      "/home/wb411133/temp/COL_URBAN_DATA_new_naming/col_wat_lc.tif\n",
      "/home/wb411133/temp/COL_URBAN_DATA_new_naming/col_wat.tif\n",
      "/home/wb411133/temp/COL_URBAN_DATA_new_naming/col_slo.tif\n",
      "/home/wb411133/temp/COL_URBAN_DATA_new_naming/col_ele.tif\n",
      "/home/wb411133/temp/COL_URBAN_DATA_new_naming/col_gsmod.tif\n",
      "/home/wb411133/temp/COL_URBAN_DATA_new_naming/col_gbu.tif\n",
      "/home/wb411133/temp/COL_URBAN_DATA_new_naming/col_upo15.tif\n",
      "/home/wb411133/temp/COL_URBAN_DATA_new_naming/col1k_gpo.tif\n",
      "22:20:55\t***** Calculating Urban\n",
      "/home/wb411133/temp/COL_URBAN_DATA_new_naming/FINAL_STANDARD_1KM/col1k_upo15.tif\n",
      "/home/wb411133/temp/COL_URBAN_DATA_new_naming/FINAL_STANDARD_1KM/col1k_gpo.tif\n",
      "22:20:55\t***** Evaluating Data\n",
      "22:21:03\t***** Calculating Zonal admin2\n",
      "22:21:03\t***** Extracting Global Layers COL\n",
      "22:21:03\t***** Downloading and processing elevation COL\n",
      "22:21:03\t***** Standardizing rasters\n",
      "/home/wb411133/temp/COL_URBAN_DATA_new_naming/col_adm.tif\n",
      "/home/wb411133/temp/COL_URBAN_DATA_new_naming/col_gpo.tif\n",
      "/home/wb411133/temp/COL_URBAN_DATA_new_naming/col_wat_lc.tif\n",
      "/home/wb411133/temp/COL_URBAN_DATA_new_naming/col_wat.tif\n",
      "/home/wb411133/temp/COL_URBAN_DATA_new_naming/col_slo.tif\n",
      "/home/wb411133/temp/COL_URBAN_DATA_new_naming/col_ele.tif\n",
      "/home/wb411133/temp/COL_URBAN_DATA_new_naming/col_gsmod.tif\n",
      "/home/wb411133/temp/COL_URBAN_DATA_new_naming/col_gbu.tif\n",
      "/home/wb411133/temp/COL_URBAN_DATA_new_naming/col_upo15.tif\n",
      "/home/wb411133/temp/COL_URBAN_DATA_new_naming/col_gpo.tif\n",
      "22:21:05\t***** Calculating Urban\n",
      "/home/wb411133/temp/COL_URBAN_DATA_new_naming/FINAL_STANDARD/col_upo15.tif\n",
      "/home/wb411133/temp/COL_URBAN_DATA_new_naming/FINAL_STANDARD/col_gpo.tif\n",
      "22:21:21\t***** Calculating Zonal admin2\n"
     ]
    }
   ],
   "source": [
    "importlib.reload(helper)\n",
    "# Process COL\n",
    "iso3 = \"COL\"\n",
    "local_path = \"/home/public/Data/COUNTRY/{country}/POPULATION/WORLDPOP/\".format(country=iso3)\n",
    "pop_2015_un = os.path.join(local_path, \"%s_ppp_2015_UNadj.tif\" % iso3.lower())\n",
    "pop_files = [[pop_2015_un, \"%s_upo15.tif\" % iso3.lower()]]\n",
    "output_folder = \"/home/wb411133/temp/%s_URBAN_DATA_new_naming\" % iso3\n",
    "ea_file = ''\n",
    "\n",
    "calculate_urban(iso3, inG, inG2, pop_files, ea_file, small=runSmall, km=runLarge)"
   ]
  },
  {
   "cell_type": "code",
   "execution_count": 32,
   "metadata": {
    "scrolled": true
   },
   "outputs": [
    {
     "name": "stderr",
     "output_type": "stream",
     "text": [
      "/home/wb411133/.conda/envs/geog/lib/python3.7/site-packages/ipykernel_launcher.py:15: SettingWithCopyWarning: \n",
      "A value is trying to be set on a copy of a slice from a DataFrame.\n",
      "Try using .loc[row_indexer,col_indexer] = value instead\n",
      "\n",
      "See the caveats in the documentation: http://pandas.pydata.org/pandas-docs/stable/indexing.html#indexing-view-versus-copy\n",
      "  from ipykernel import kernelapp as app\n"
     ]
    },
    {
     "name": "stdout",
     "output_type": "stream",
     "text": [
      "22:21:22\t***** Extracting Global Layers EGY\n",
      "22:21:22\t***** Downloading and processing elevation EGY\n",
      "22:21:22\t***** Standardizing rasters\n",
      "/home/wb411133/temp/EGY_URBAN_DATA_new_naming/egy_adm.tif\n",
      "/home/wb411133/temp/EGY_URBAN_DATA_new_naming/egy_gpo.tif\n",
      "/home/wb411133/temp/EGY_URBAN_DATA_new_naming/egy_wat_lc.tif\n",
      "/home/wb411133/temp/EGY_URBAN_DATA_new_naming/egy_wat.tif\n",
      "/home/wb411133/temp/EGY_URBAN_DATA_new_naming/egy_slo.tif\n",
      "/home/wb411133/temp/EGY_URBAN_DATA_new_naming/egy_ele.tif\n",
      "/home/wb411133/temp/EGY_URBAN_DATA_new_naming/egy_gsmod.tif\n",
      "/home/wb411133/temp/EGY_URBAN_DATA_new_naming/egy_gbu.tif\n",
      "/home/wb411133/temp/EGY_URBAN_DATA_new_naming/egy_upo15.tif\n",
      "/home/wb411133/temp/EGY_URBAN_DATA_new_naming/egy_upo16.tif\n",
      "/home/wb411133/temp/EGY_URBAN_DATA_new_naming/egy1k_gpo.tif\n",
      "22:21:22\t***** Calculating Urban\n",
      "/home/wb411133/temp/EGY_URBAN_DATA_new_naming/FINAL_STANDARD_1KM/egy1k_upo15.tif\n",
      "/home/wb411133/temp/EGY_URBAN_DATA_new_naming/FINAL_STANDARD_1KM/egy1k_upo16.tif\n",
      "/home/wb411133/temp/EGY_URBAN_DATA_new_naming/FINAL_STANDARD_1KM/egy1k_gpo.tif\n",
      "22:21:22\t***** Evaluating Data\n",
      "22:21:28\t***** Calculating Zonal admin2\n",
      "22:21:28\t***** Extracting Global Layers EGY\n",
      "22:21:28\t***** Downloading and processing elevation EGY\n",
      "22:21:28\t***** Standardizing rasters\n",
      "/home/wb411133/temp/EGY_URBAN_DATA_new_naming/egy_adm.tif\n",
      "/home/wb411133/temp/EGY_URBAN_DATA_new_naming/egy_gpo.tif\n",
      "/home/wb411133/temp/EGY_URBAN_DATA_new_naming/egy_wat_lc.tif\n",
      "/home/wb411133/temp/EGY_URBAN_DATA_new_naming/egy_wat.tif\n",
      "/home/wb411133/temp/EGY_URBAN_DATA_new_naming/egy_slo.tif\n",
      "/home/wb411133/temp/EGY_URBAN_DATA_new_naming/egy_ele.tif\n",
      "/home/wb411133/temp/EGY_URBAN_DATA_new_naming/egy_gsmod.tif\n",
      "/home/wb411133/temp/EGY_URBAN_DATA_new_naming/egy_gbu.tif\n",
      "/home/wb411133/temp/EGY_URBAN_DATA_new_naming/egy_upo15.tif\n",
      "/home/wb411133/temp/EGY_URBAN_DATA_new_naming/egy_upo16.tif\n",
      "/home/wb411133/temp/EGY_URBAN_DATA_new_naming/egy_gpo.tif\n",
      "22:21:29\t***** Calculating Urban\n",
      "/home/wb411133/temp/EGY_URBAN_DATA_new_naming/FINAL_STANDARD/egy_upo15.tif\n",
      "/home/wb411133/temp/EGY_URBAN_DATA_new_naming/FINAL_STANDARD/egy_upo16.tif\n",
      "/home/wb411133/temp/EGY_URBAN_DATA_new_naming/FINAL_STANDARD/egy_gpo.tif\n",
      "22:21:39\t***** Calculating Zonal admin2\n"
     ]
    }
   ],
   "source": [
    "importlib.reload(helper)\n",
    "# Process EGY\n",
    "iso3 = \"EGY\"\n",
    "local_path = \"/home/public/Data/COUNTRY/{country}/POPULATION/WORLDPOP/\".format(country=iso3)\n",
    "pop_2015_un = os.path.join(local_path, \"%s_ppp_2015_UNadj.tif\" % iso3.lower())\n",
    "pop_2018_un = os.path.join(local_path, \"%s_ppp_2013_UNadj.tif\" % iso3.lower())\n",
    "pop_files = [[pop_2015_un, \"%s_upo15.tif\" % iso3.lower()], \n",
    "             [pop_2018_un, \"%s_upo16.tif\" % iso3.lower()]]\n",
    "output_folder = \"/home/wb411133/temp/%s_URBAN_DATA_new_naming\" % iso3\n",
    "\n",
    "ea_file = ''\n",
    "\n",
    "calculate_urban(iso3, inG, inG2, pop_files, ea_file, small=runSmall, km=runLarge)"
   ]
  },
  {
   "cell_type": "code",
   "execution_count": 33,
   "metadata": {
    "scrolled": true
   },
   "outputs": [
    {
     "name": "stderr",
     "output_type": "stream",
     "text": [
      "/home/wb411133/.conda/envs/geog/lib/python3.7/site-packages/ipykernel_launcher.py:15: SettingWithCopyWarning: \n",
      "A value is trying to be set on a copy of a slice from a DataFrame.\n",
      "Try using .loc[row_indexer,col_indexer] = value instead\n",
      "\n",
      "See the caveats in the documentation: http://pandas.pydata.org/pandas-docs/stable/indexing.html#indexing-view-versus-copy\n",
      "  from ipykernel import kernelapp as app\n"
     ]
    },
    {
     "name": "stdout",
     "output_type": "stream",
     "text": [
      "22:21:39\t***** Extracting Global Layers AGO\n",
      "22:21:39\t***** Downloading and processing elevation AGO\n",
      "22:21:39\t***** Standardizing rasters\n",
      "/home/wb411133/temp/AGO_URBAN_DATA_new_naming/ago_adm.tif\n",
      "/home/wb411133/temp/AGO_URBAN_DATA_new_naming/ago_gpo.tif\n",
      "/home/wb411133/temp/AGO_URBAN_DATA_new_naming/ago_wat_lc.tif\n",
      "/home/wb411133/temp/AGO_URBAN_DATA_new_naming/ago_wat.tif\n",
      "/home/wb411133/temp/AGO_URBAN_DATA_new_naming/ago_slo.tif\n",
      "/home/wb411133/temp/AGO_URBAN_DATA_new_naming/ago_ele.tif\n",
      "/home/wb411133/temp/AGO_URBAN_DATA_new_naming/ago_gsmod.tif\n",
      "/home/wb411133/temp/AGO_URBAN_DATA_new_naming/ago_gbu.tif\n",
      "/home/wb411133/temp/AGO_URBAN_DATA_new_naming/ago_upo15.tif\n",
      "/home/wb411133/temp/AGO_URBAN_DATA_new_naming/ago_upo18.tif\n",
      "/home/wb411133/temp/AGO_URBAN_DATA_new_naming/ago1k_gpo.tif\n",
      "22:21:39\t***** Calculating Urban\n",
      "/home/wb411133/temp/AGO_URBAN_DATA_new_naming/FINAL_STANDARD_1KM/ago1k_upo15.tif\n",
      "/home/wb411133/temp/AGO_URBAN_DATA_new_naming/FINAL_STANDARD_1KM/ago1k_upo18.tif\n",
      "/home/wb411133/temp/AGO_URBAN_DATA_new_naming/FINAL_STANDARD_1KM/ago1k_gpo.tif\n",
      "22:21:39\t***** Evaluating Data\n",
      "22:21:52\t***** Calculating Zonal admin2\n",
      "22:21:55\t***** Calculating Zonal communes\n",
      "22:29:21\t***** Extracting Global Layers AGO\n",
      "22:29:21\t***** Downloading and processing elevation AGO\n",
      "22:29:21\t***** Standardizing rasters\n",
      "/home/wb411133/temp/AGO_URBAN_DATA_new_naming/ago_adm.tif\n",
      "/home/wb411133/temp/AGO_URBAN_DATA_new_naming/ago_gpo.tif\n",
      "/home/wb411133/temp/AGO_URBAN_DATA_new_naming/ago_wat_lc.tif\n",
      "/home/wb411133/temp/AGO_URBAN_DATA_new_naming/ago_wat.tif\n",
      "/home/wb411133/temp/AGO_URBAN_DATA_new_naming/ago_slo.tif\n",
      "/home/wb411133/temp/AGO_URBAN_DATA_new_naming/ago_ele.tif\n",
      "/home/wb411133/temp/AGO_URBAN_DATA_new_naming/ago_gsmod.tif\n",
      "/home/wb411133/temp/AGO_URBAN_DATA_new_naming/ago_gbu.tif\n",
      "/home/wb411133/temp/AGO_URBAN_DATA_new_naming/ago_upo15.tif\n",
      "/home/wb411133/temp/AGO_URBAN_DATA_new_naming/ago_upo18.tif\n",
      "/home/wb411133/temp/AGO_URBAN_DATA_new_naming/ago_gpo.tif\n",
      "22:29:23\t***** Calculating Urban\n",
      "/home/wb411133/temp/AGO_URBAN_DATA_new_naming/FINAL_STANDARD/ago_upo15.tif\n",
      "/home/wb411133/temp/AGO_URBAN_DATA_new_naming/FINAL_STANDARD/ago_upo18.tif\n",
      "/home/wb411133/temp/AGO_URBAN_DATA_new_naming/FINAL_STANDARD/ago_gpo.tif\n",
      "22:29:40\t***** Calculating Zonal admin2\n",
      "22:29:52\t***** Calculating Zonal communes\n"
     ]
    }
   ],
   "source": [
    "importlib.reload(helper)\n",
    "# Process AGO\n",
    "iso3 = \"AGO\"\n",
    "local_path = \"/home/public/Data/COUNTRY/{country}/POPULATION/WORLDPOP/\".format(country=iso3)\n",
    "pop_2015_un = os.path.join(local_path, \"%s_ppp_2015_UNadj.tif\" % iso3.lower())\n",
    "pop_2018_un = os.path.join(local_path, \"%s_ppp_2018_UNadj.tif\" % iso3.lower())\n",
    "pop_files = [[pop_2015_un, \"%s_upo15.tif\" % iso3.lower()], \n",
    "             [pop_2018_un, \"%s_upo18.tif\" % iso3.lower()]]\n",
    "output_folder = \"/home/wb411133/temp/%s_URBAN_DATA_new_naming\" % iso3\n",
    "ea_file = os.path.join(output_folder, 'admin', 'bairros.shp')\n",
    "\n",
    "calculate_urban(iso3, inG, inG2, pop_files, ea_file, small=runSmall, km=runLarge)"
   ]
  },
  {
   "cell_type": "code",
   "execution_count": 34,
   "metadata": {
    "scrolled": true
   },
   "outputs": [
    {
     "name": "stderr",
     "output_type": "stream",
     "text": [
      "/home/wb411133/.conda/envs/geog/lib/python3.7/site-packages/ipykernel_launcher.py:15: SettingWithCopyWarning: \n",
      "A value is trying to be set on a copy of a slice from a DataFrame.\n",
      "Try using .loc[row_indexer,col_indexer] = value instead\n",
      "\n",
      "See the caveats in the documentation: http://pandas.pydata.org/pandas-docs/stable/indexing.html#indexing-view-versus-copy\n",
      "  from ipykernel import kernelapp as app\n"
     ]
    },
    {
     "name": "stdout",
     "output_type": "stream",
     "text": [
      "22:38:11\t***** Extracting Global Layers BGD\n",
      "22:38:11\t***** Downloading and processing elevation BGD\n",
      "22:38:11\t***** Standardizing rasters\n",
      "/home/wb411133/temp/BGD_URBAN_DATA_new_naming/bgd_adm.tif\n",
      "/home/wb411133/temp/BGD_URBAN_DATA_new_naming/bgd_gpo.tif\n",
      "/home/wb411133/temp/BGD_URBAN_DATA_new_naming/bgd_wat_lc.tif\n",
      "/home/wb411133/temp/BGD_URBAN_DATA_new_naming/bgd_wat.tif\n",
      "/home/wb411133/temp/BGD_URBAN_DATA_new_naming/bgd_slo.tif\n",
      "/home/wb411133/temp/BGD_URBAN_DATA_new_naming/bgd_ele.tif\n",
      "/home/wb411133/temp/BGD_URBAN_DATA_new_naming/bgd_gsmod.tif\n",
      "/home/wb411133/temp/BGD_URBAN_DATA_new_naming/bgd_gbu.tif\n",
      "/home/wb411133/temp/BGD_URBAN_DATA_new_naming/bgd_upo15.tif\n",
      "/home/wb411133/temp/BGD_URBAN_DATA_new_naming/bgd_upo18.tif\n",
      "/home/wb411133/temp/BGD_URBAN_DATA_new_naming/bgd1k_gpo.tif\n",
      "22:38:11\t***** Calculating Urban\n",
      "/home/wb411133/temp/BGD_URBAN_DATA_new_naming/FINAL_STANDARD_1KM/bgd1k_upo15.tif\n",
      "/home/wb411133/temp/BGD_URBAN_DATA_new_naming/FINAL_STANDARD_1KM/bgd1k_upo18.tif\n",
      "/home/wb411133/temp/BGD_URBAN_DATA_new_naming/FINAL_STANDARD_1KM/bgd1k_gpo.tif\n",
      "22:38:11\t***** Evaluating Data\n",
      "22:38:13\t***** Calculating Zonal admin2\n",
      "22:38:15\t***** Calculating Zonal communes\n",
      "22:54:03\t***** Extracting Global Layers BGD\n",
      "22:54:03\t***** Downloading and processing elevation BGD\n",
      "22:54:03\t***** Standardizing rasters\n",
      "/home/wb411133/temp/BGD_URBAN_DATA_new_naming/bgd_adm.tif\n",
      "/home/wb411133/temp/BGD_URBAN_DATA_new_naming/bgd_gpo.tif\n",
      "/home/wb411133/temp/BGD_URBAN_DATA_new_naming/bgd_wat_lc.tif\n",
      "/home/wb411133/temp/BGD_URBAN_DATA_new_naming/bgd_wat.tif\n",
      "/home/wb411133/temp/BGD_URBAN_DATA_new_naming/bgd_slo.tif\n",
      "/home/wb411133/temp/BGD_URBAN_DATA_new_naming/bgd_ele.tif\n",
      "/home/wb411133/temp/BGD_URBAN_DATA_new_naming/bgd_gsmod.tif\n",
      "/home/wb411133/temp/BGD_URBAN_DATA_new_naming/bgd_gbu.tif\n",
      "/home/wb411133/temp/BGD_URBAN_DATA_new_naming/bgd_upo15.tif\n",
      "/home/wb411133/temp/BGD_URBAN_DATA_new_naming/bgd_upo18.tif\n",
      "/home/wb411133/temp/BGD_URBAN_DATA_new_naming/bgd_gpo.tif\n",
      "22:54:03\t***** Calculating Urban\n",
      "/home/wb411133/temp/BGD_URBAN_DATA_new_naming/FINAL_STANDARD/bgd_upo15.tif\n",
      "/home/wb411133/temp/BGD_URBAN_DATA_new_naming/FINAL_STANDARD/bgd_upo18.tif\n",
      "/home/wb411133/temp/BGD_URBAN_DATA_new_naming/FINAL_STANDARD/bgd_gpo.tif\n",
      "22:54:06\t***** Calculating Zonal admin2\n",
      "22:54:06\t***** Calculating Zonal communes\n"
     ]
    }
   ],
   "source": [
    "importlib.reload(helper)\n",
    "# Process BGD\n",
    "iso3 = \"BGD\"\n",
    "local_path = \"/home/public/Data/COUNTRY/{country}/POPULATION/WORLDPOP/\".format(country=iso3)\n",
    "pop_2015_un = os.path.join(local_path, \"%s_ppp_2015_UNadj.tif\" % iso3.lower())\n",
    "pop_2018_un = os.path.join(local_path, \"%s_ppp_2018_UNadj.tif\" % iso3.lower())\n",
    "\n",
    "pop_files = [[pop_2015_un, \"%s_upo15.tif\" % iso3.lower()], \n",
    "             [pop_2018_un, \"%s_upo18.tif\" % iso3.lower()]]\n",
    "\n",
    "output_folder = \"/home/wb411133/temp/%s_URBAN_DATA_new_naming\" % iso3\n",
    "ea_file = os.path.join(output_folder, 'mauza11_reprojected.shp')\n",
    "calculate_urban(iso3, inG, inG2, pop_files, ea_file, small=runSmall, km=runLarge)\n",
    "#pp_urban = calc_pp_urban(os.path.join(output_folder, \"bangladesh\"), \"%s_upo18.tif\" % iso3.lower(), ea_file)\n",
    "#pd.DataFrame(pp_urban.drop(['geometry'], axis=1)).to_csv(ea_file.replace(\".shp\", \"_PP_Urban.csv\"))"
   ]
  },
  {
   "cell_type": "code",
   "execution_count": 74,
   "metadata": {
    "scrolled": true
   },
   "outputs": [
    {
     "name": "stderr",
     "output_type": "stream",
     "text": [
      "/home/wb411133/.conda/envs/geog/lib/python3.7/site-packages/ipykernel_launcher.py:20: SettingWithCopyWarning: \n",
      "A value is trying to be set on a copy of a slice from a DataFrame.\n",
      "Try using .loc[row_indexer,col_indexer] = value instead\n",
      "\n",
      "See the caveats in the documentation: http://pandas.pydata.org/pandas-docs/stable/indexing.html#indexing-view-versus-copy\n"
     ]
    },
    {
     "name": "stdout",
     "output_type": "stream",
     "text": [
      "08:47:01\t***** Extracting Global Layers TZA\n",
      "08:47:01\t***** Downloading and processing elevation TZA\n",
      "08:47:01\t***** Standardizing rasters\n",
      "/home/wb411133/temp/TZA_URBAN_DATA_new_naming/tza_adm.tif\n",
      "/home/wb411133/temp/TZA_URBAN_DATA_new_naming/tza_gpo.tif\n",
      "/home/wb411133/temp/TZA_URBAN_DATA_new_naming/tza_wat_lc.tif\n",
      "/home/wb411133/temp/TZA_URBAN_DATA_new_naming/tza_wat.tif\n",
      "/home/wb411133/temp/TZA_URBAN_DATA_new_naming/tza_slo.tif\n",
      "/home/wb411133/temp/TZA_URBAN_DATA_new_naming/tza_ele.tif\n",
      "/home/wb411133/temp/TZA_URBAN_DATA_new_naming/tza_gsmod.tif\n",
      "/home/wb411133/temp/TZA_URBAN_DATA_new_naming/tza_gbu.tif\n",
      "/home/wb411133/temp/TZA_URBAN_DATA_new_naming/tza_upo15.tif\n",
      "/home/wb411133/temp/TZA_URBAN_DATA_new_naming/tza_upo18.tif\n",
      "/home/wb411133/temp/TZA_URBAN_DATA_new_naming/tza_cpo15.tif\n",
      "/home/wb411133/temp/TZA_URBAN_DATA_new_naming/tza_cpo18.tif\n",
      "/home/wb411133/temp/TZA_URBAN_DATA_new_naming/tza1k_gpo.tif\n",
      "08:47:01\t***** Calculating Urban\n",
      "/home/wb411133/temp/TZA_URBAN_DATA_new_naming/FINAL_STANDARD_1KM/tza1k_upo15.tif\n",
      "/home/wb411133/temp/TZA_URBAN_DATA_new_naming/FINAL_STANDARD_1KM/tza1k_upo18.tif\n",
      "/home/wb411133/temp/TZA_URBAN_DATA_new_naming/FINAL_STANDARD_1KM/tza1k_cpo15.tif\n",
      "/home/wb411133/temp/TZA_URBAN_DATA_new_naming/FINAL_STANDARD_1KM/tza1k_cpo18.tif\n",
      "/home/wb411133/temp/TZA_URBAN_DATA_new_naming/FINAL_STANDARD_1KM/tza1k_gpo.tif\n",
      "08:47:57\t***** Calculating Zonal admin2\n",
      "08:47:57\t***** Evaluating Data\n",
      "08:48:09\t***** Extracting Global Layers TZA\n",
      "08:48:09\t***** Downloading and processing elevation TZA\n",
      "08:48:09\t***** Standardizing rasters\n",
      "/home/wb411133/temp/TZA_URBAN_DATA_new_naming/tza_adm.tif\n",
      "/home/wb411133/temp/TZA_URBAN_DATA_new_naming/tza_gpo.tif\n",
      "/home/wb411133/temp/TZA_URBAN_DATA_new_naming/tza_wat_lc.tif\n",
      "/home/wb411133/temp/TZA_URBAN_DATA_new_naming/tza_wat.tif\n",
      "/home/wb411133/temp/TZA_URBAN_DATA_new_naming/tza_slo.tif\n",
      "/home/wb411133/temp/TZA_URBAN_DATA_new_naming/tza_ele.tif\n",
      "/home/wb411133/temp/TZA_URBAN_DATA_new_naming/tza_gsmod.tif\n",
      "/home/wb411133/temp/TZA_URBAN_DATA_new_naming/tza_gbu.tif\n",
      "/home/wb411133/temp/TZA_URBAN_DATA_new_naming/tza_upo15.tif\n",
      "/home/wb411133/temp/TZA_URBAN_DATA_new_naming/tza_upo18.tif\n",
      "/home/wb411133/temp/TZA_URBAN_DATA_new_naming/tza_cpo15.tif\n",
      "/home/wb411133/temp/TZA_URBAN_DATA_new_naming/tza_cpo18.tif\n",
      "/home/wb411133/temp/TZA_URBAN_DATA_new_naming/tza_gpo.tif\n",
      "08:48:10\t***** Calculating Urban\n",
      "/home/wb411133/temp/TZA_URBAN_DATA_new_naming/FINAL_STANDARD/tza_upo15.tif\n",
      "/home/wb411133/temp/TZA_URBAN_DATA_new_naming/FINAL_STANDARD/tza_upo18.tif\n",
      "/home/wb411133/temp/TZA_URBAN_DATA_new_naming/FINAL_STANDARD/tza_cpo15.tif\n",
      "/home/wb411133/temp/TZA_URBAN_DATA_new_naming/FINAL_STANDARD/tza_cpo18.tif\n",
      "/home/wb411133/temp/TZA_URBAN_DATA_new_naming/FINAL_STANDARD/tza_gpo.tif\n",
      "08:48:10\t***** Calculating Zonal admin2\n",
      "08:48:10\t***** Evaluating Data\n"
     ]
    }
   ],
   "source": [
    "importlib.reload(helper)\n",
    "# Process TZA\n",
    "iso3 = \"TZA\"\n",
    "local_path = \"/home/public/Data/COUNTRY/{country}/POPULATION/WORLDPOP/TZA_2015_2018\".format(country=iso3)\n",
    "pop_2015_un = os.path.join(local_path, \"%s_ppp_2015_UNadj.tif\" % iso3.lower())\n",
    "pop_2018_un = os.path.join(local_path, \"%s_ppp_2018_UNadj.tif\" % iso3.lower())\n",
    "pop_2015_con = os.path.join(local_path, \"ppp_prj_2015_%s_UNadj.tif\" % iso3)\n",
    "pop_2018_con = os.path.join(local_path, \"ppp_prj_2018_%s_UNadj.tif\" % iso3)\n",
    "\n",
    "pop_files = [[pop_2015_un, \"%s_upo15.tif\" % iso3.lower()], \n",
    "             [pop_2018_un, \"%s_upo18.tif\" % iso3.lower()], \n",
    "             [pop_2015_con, \"%s_cpo15.tif\" % iso3.lower()], \n",
    "             [pop_2018_con, \"%s_cpo18.tif\" % iso3.lower()]]\n",
    "\n",
    "output_folder = \"/home/wb411133/temp/%s_URBAN_DATA_new_naming\" % iso3\n",
    "ea_file = ''\n",
    "\n",
    "calculate_urban(iso3, inG, inG2, pop_files, ea_file, small=runSmall, km=runLarge)"
   ]
  },
  {
   "cell_type": "code",
   "execution_count": null,
   "metadata": {},
   "outputs": [],
   "source": [
    "# Process point location analysis\n",
    "input_file = os.path.join(output_folder, \"sample_imp.csv\")\n",
    "inD = pd.read_csv(input_file)\n",
    "geoms = [Point(row['gps_imp_lo'], row['gps_imp_la']) for idx, row in inD.iterrows()]\n",
    "inD = gpd.GeoDataFrame(inD, geometry=geoms, crs={'init':'epsg:4326'})\n",
    "if inD.crs != urban_r.crs:\n",
    "    inD = inD.to_crs(urban_r.crs)\n",
    "geoms = [(row['geometry'].x, row['geometry'].y) for idx, row in inD.iterrows()]"
   ]
  },
  {
   "cell_type": "code",
   "execution_count": null,
   "metadata": {},
   "outputs": [],
   "source": [
    "# Summarize Pierre's urbanization numbers\n",
    "in_folder = os.path.join(output_folder, \"tanzania\")\n",
    "urban_layers = [os.path.join(in_folder, x) for x in os.listdir(in_folder)]\n",
    "\n",
    "cur_layer = urban_layers[0]\n",
    "for cur_layer in urban_layers:\n",
    "    tPrint(cur_layer)\n",
    "    urban_r = rasterio.open(cur_layer)\n",
    "    urban_data = urban_r.read()\n",
    "    urban_data = (urban_data > 0).astype(urban_r.meta['dtype'])\n",
    "    '''if \"1k\" in cur_layer:\n",
    "        pop_layer = os.path.basename(cur_layer)[:11]\n",
    "        pop_folder = os.path.join(output_folder, \"FINAL_STANDARD_1KM\")\n",
    "    else:\n",
    "        pop_layer = os.path.basename(cur_layer)[:9]\n",
    "        pop_folder = os.path.join(output_folder, \"FINAL_STANDARD\")\n",
    "    pop_file = os.path.join(pop_folder,\"%s.tif\" % pop_layer)\n",
    "\n",
    "    pop_data = rasterio.open(pop_file).read()\n",
    "    '''\n",
    "    #pop_data = pop_data * urban_data\n",
    "    with rMisc.create_rasterio_inmemory(urban_r.profile, urban_data) as pop_r:\n",
    "        res = pop_r.sample(geoms)\n",
    "        res = [x[0] for x in list(res)]\n",
    "    inD[os.path.basename(cur_layer).replace(\".tif\",\"\")] = res"
   ]
  },
  {
   "cell_type": "code",
   "execution_count": null,
   "metadata": {},
   "outputs": [],
   "source": [
    "pd.DataFrame(inD.drop(['geometry'], axis=1)).to_csv(input_file.replace(\".csv\", \"_urban_PP.csv\"))"
   ]
  },
  {
   "cell_type": "code",
   "execution_count": null,
   "metadata": {},
   "outputs": [],
   "source": [
    "pop_tiffs = ['/home/wb411133/temp/TZA_URBAN_DATA_new_naming/FINAL_STANDARD/tza_upo15.tif',\n",
    "'/home/wb411133/temp/TZA_URBAN_DATA_new_naming/FINAL_STANDARD/tza_upo18.tif',\n",
    "'/home/wb411133/temp/TZA_URBAN_DATA_new_naming/FINAL_STANDARD/tza_cpo15.tif',\n",
    "'/home/wb411133/temp/TZA_URBAN_DATA_new_naming/FINAL_STANDARD/tza_cpo18.tif',\n",
    "'/home/wb411133/temp/TZA_URBAN_DATA_new_naming/FINAL_STANDARD/tza_gpo.tif']\n",
    "\n",
    "for pFile in pop_tiffs:\n",
    "    urb_file = pFile.replace(\".tif\", \"_urban.tif\")\n",
    "    hd_file = pFile.replace(\".tif\", \"_urban_hd.tif\")\n",
    "    for curFile in [urb_file, hd_file]:\n",
    "        inUrb = rasterio.open(curFile)\n",
    "        if inD.crs!= inUrb.crs:\n",
    "            inD = inD.to_crs(inUrb.crs)\n",
    "        geoms = [(row['geometry'].x, row['geometry'].y) for idx, row in inD.iterrows()]\n",
    "        urb_res = inUrb.sample(geoms)\n",
    "        inD[os.path.basename(curFile).replace(\".tif\",\"\")] = [x[0] for x in list(urb_res)]\n",
    "pd.DataFrame(inD.drop(['geometry'], axis=1)).to_csv(input_file.replace(\".csv\", \"_urban.csv\"))"
   ]
  },
  {
   "cell_type": "code",
   "execution_count": 27,
   "metadata": {},
   "outputs": [
    {
     "name": "stdout",
     "output_type": "stream",
     "text": [
      "tza_upo15.tif: 51437640.0,                      urban population: 18691720.0,                       hd pop: 10045988.0\n",
      "tza_upo18.tif: 56263992.0,                      urban population: 21703310.0,                       hd pop: 11857573.0\n",
      "tza_cpo15.tif: 51474244.0,                      urban population: 19608392.0,                       hd pop: 9790913.0\n",
      "tza_cpo18.tif: 56304544.0,                      urban population: 22267764.0,                       hd pop: 11496897.0\n",
      "tza_gpo.tif: 53554552.0,                      urban population: 35423124.0,                       hd pop: 11254419.0\n"
     ]
    }
   ],
   "source": [
    "# Calculate national summaries of urbanization\n",
    "pop_tiffs = ['/home/wb411133/temp/TZA_URBAN_DATA_new_naming/FINAL_STANDARD/tza_upo15.tif',\n",
    "'/home/wb411133/temp/TZA_URBAN_DATA_new_naming/FINAL_STANDARD/tza_upo18.tif',\n",
    "'/home/wb411133/temp/TZA_URBAN_DATA_new_naming/FINAL_STANDARD/tza_cpo15.tif',\n",
    "'/home/wb411133/temp/TZA_URBAN_DATA_new_naming/FINAL_STANDARD/tza_cpo18.tif',\n",
    "'/home/wb411133/temp/TZA_URBAN_DATA_new_naming/FINAL_STANDARD/tza_gpo.tif']\n",
    "\n",
    "for pFile in pop_tiffs:\n",
    "    urb_file = pFile.replace(\".tif\", \"_urban.tif\")\n",
    "    hd_file = pFile.replace(\".tif\", \"_urban_hd.tif\")\n",
    "    popR = rasterio.open(pFile)\n",
    "    popD = popR.read()\n",
    "    popD[popD < 0] = 0\n",
    "    \n",
    "    urbR = rasterio.open(urb_file)\n",
    "    urbD = urbR.read()\n",
    "\n",
    "    hdR = rasterio.open(hd_file)\n",
    "    hdD = hdR.read()\n",
    "    \n",
    "    print(f\"{os.path.basename(pFile)}: {round(popD.sum())}, {round((popD * urbD).sum())},  \\\n",
    "                     hd pop: {round((popD * hdD).sum())}\")\n",
    "    "
   ]
  },
  {
   "cell_type": "code",
   "execution_count": 36,
   "metadata": {
    "scrolled": true
   },
   "outputs": [
    {
     "name": "stderr",
     "output_type": "stream",
     "text": [
      "/home/wb411133/.conda/envs/geog/lib/python3.7/site-packages/ipykernel_launcher.py:15: SettingWithCopyWarning: \n",
      "A value is trying to be set on a copy of a slice from a DataFrame.\n",
      "Try using .loc[row_indexer,col_indexer] = value instead\n",
      "\n",
      "See the caveats in the documentation: http://pandas.pydata.org/pandas-docs/stable/indexing.html#indexing-view-versus-copy\n",
      "  from ipykernel import kernelapp as app\n"
     ]
    },
    {
     "name": "stdout",
     "output_type": "stream",
     "text": [
      "22:54:39\t***** Extracting Global Layers VNM\n",
      "22:54:39\t***** Downloading and processing elevation VNM\n",
      "22:54:39\t***** Standardizing rasters\n",
      "/home/wb411133/temp/VNM_URBAN_DATA_new_naming/vnm_adm.tif\n",
      "/home/wb411133/temp/VNM_URBAN_DATA_new_naming/vnm_gpo.tif\n",
      "/home/wb411133/temp/VNM_URBAN_DATA_new_naming/vnm_wat_lc.tif\n",
      "/home/wb411133/temp/VNM_URBAN_DATA_new_naming/vnm_wat.tif\n",
      "/home/wb411133/temp/VNM_URBAN_DATA_new_naming/vnm_slo.tif\n",
      "/home/wb411133/temp/VNM_URBAN_DATA_new_naming/vnm_ele.tif\n",
      "/home/wb411133/temp/VNM_URBAN_DATA_new_naming/vnm_gsmod.tif\n",
      "/home/wb411133/temp/VNM_URBAN_DATA_new_naming/vnm_gbu.tif\n",
      "/home/wb411133/temp/VNM_URBAN_DATA_new_naming/vnm_upo15.tif\n",
      "/home/wb411133/temp/VNM_URBAN_DATA_new_naming/vnm_upo18.tif\n",
      "/home/wb411133/temp/VNM_URBAN_DATA_new_naming/vnm1k_gpo.tif\n",
      "22:54:39\t***** Calculating Urban\n",
      "/home/wb411133/temp/VNM_URBAN_DATA_new_naming/FINAL_STANDARD_1KM/vnm1k_upo15.tif\n",
      "/home/wb411133/temp/VNM_URBAN_DATA_new_naming/FINAL_STANDARD_1KM/vnm1k_upo18.tif\n",
      "/home/wb411133/temp/VNM_URBAN_DATA_new_naming/FINAL_STANDARD_1KM/vnm1k_gpo.tif\n",
      "22:54:39\t***** Evaluating Data\n",
      "22:54:45\t***** Calculating Zonal admin2\n",
      "22:54:57\t***** Calculating Zonal communes\n",
      "22:57:58\t***** Extracting Global Layers VNM\n",
      "22:57:58\t***** Downloading and processing elevation VNM\n",
      "22:57:58\t***** Standardizing rasters\n",
      "/home/wb411133/temp/VNM_URBAN_DATA_new_naming/vnm_adm.tif\n",
      "/home/wb411133/temp/VNM_URBAN_DATA_new_naming/vnm_gpo.tif\n",
      "/home/wb411133/temp/VNM_URBAN_DATA_new_naming/vnm_wat_lc.tif\n",
      "/home/wb411133/temp/VNM_URBAN_DATA_new_naming/vnm_wat.tif\n",
      "/home/wb411133/temp/VNM_URBAN_DATA_new_naming/vnm_slo.tif\n",
      "/home/wb411133/temp/VNM_URBAN_DATA_new_naming/vnm_ele.tif\n",
      "/home/wb411133/temp/VNM_URBAN_DATA_new_naming/vnm_gsmod.tif\n",
      "/home/wb411133/temp/VNM_URBAN_DATA_new_naming/vnm_gbu.tif\n",
      "/home/wb411133/temp/VNM_URBAN_DATA_new_naming/vnm_upo15.tif\n",
      "/home/wb411133/temp/VNM_URBAN_DATA_new_naming/vnm_upo18.tif\n",
      "/home/wb411133/temp/VNM_URBAN_DATA_new_naming/vnm_gpo.tif\n",
      "22:57:59\t***** Calculating Urban\n",
      "/home/wb411133/temp/VNM_URBAN_DATA_new_naming/FINAL_STANDARD/vnm_upo15.tif\n",
      "/home/wb411133/temp/VNM_URBAN_DATA_new_naming/FINAL_STANDARD/vnm_upo18.tif\n",
      "/home/wb411133/temp/VNM_URBAN_DATA_new_naming/FINAL_STANDARD/vnm_gpo.tif\n",
      "22:58:10\t***** Calculating Zonal admin2\n",
      "22:58:10\t***** Calculating Zonal communes\n"
     ]
    }
   ],
   "source": [
    "# Process VNM\n",
    "iso3 = \"VNM\"\n",
    "local_path = \"/home/public/Data/COUNTRY/{country}/POPULATION/WORLDPOP/\".format(country=iso3)\n",
    "pop_2015_un = os.path.join(local_path, \"%s_ppp_2015_UNadj.tif\" % iso3.lower())\n",
    "pop_2018_un = os.path.join(local_path, \"%s_ppp_2018_UNadj.tif\" % iso3.lower())\n",
    "pop_files = [[pop_2015_un, \"%s_upo15.tif\" % iso3.lower()], \n",
    "             [pop_2018_un, \"%s_upo18.tif\" % iso3.lower()]]\n",
    "output_folder = \"/home/wb411133/temp/%s_URBAN_DATA_new_naming\" % iso3\n",
    "ea_file = os.path.join(output_folder, 'VN_communes2008.shp')\n",
    "\n",
    "calculate_urban(iso3, inG, inG2, pop_files, ea_file, small=runSmall, km=runLarge)\n",
    "#pp_urban = calc_pp_urban(os.path.join(output_folder, \"vietnam\"), \"%s_upo18.tif\" % iso3.lower(), ea_file)\n",
    "#pd.DataFrame(pp_urban.drop(['geometry'], axis=1)).to_csv(ea_file.replace(\".shp\", \"_PP_Urban.csv\"))"
   ]
  },
  {
   "cell_type": "code",
   "execution_count": null,
   "metadata": {},
   "outputs": [],
   "source": []
  },
  {
   "cell_type": "code",
   "execution_count": null,
   "metadata": {},
   "outputs": [],
   "source": []
  },
  {
   "cell_type": "code",
   "execution_count": null,
   "metadata": {},
   "outputs": [],
   "source": []
  },
  {
   "cell_type": "markdown",
   "metadata": {},
   "source": [
    "# Debugging"
   ]
  },
  {
   "cell_type": "code",
   "execution_count": 53,
   "metadata": {},
   "outputs": [],
   "source": [
    "iso3 = 'tza'\n",
    "folder = \"/home/wb411133/temp/%s_URBAN_DATA_new_naming\" % iso3.upper()\n",
    "\n",
    "pop_250_base = os.path.join(folder, \"%s_gpo.tif\" % iso3)\n",
    "pop_1k_base = os.path.join(folder, \"%s1k_gpo.tif\" % iso3)\n",
    "\n",
    "pop_250_scaled = os.path.join(folder, 'FINAL_STANDARD', \"%s_gpo.tif\" % iso3)\n",
    "pop_1k_scaled = os.path.join(folder, 'FINAL_STANDARD_1KM', \"%s1k_gpo.tif\" % iso3)"
   ]
  },
  {
   "cell_type": "code",
   "execution_count": 54,
   "metadata": {},
   "outputs": [
    {
     "name": "stdout",
     "output_type": "stream",
     "text": [
      "08:31:59\t53554520.0\n",
      "08:31:59\t53554552.0\n",
      "08:31:59\t53511129.0\n",
      "08:31:59\t53554520.0\n"
     ]
    }
   ],
   "source": [
    "for rFile in [pop_250_base, pop_250_scaled, pop_1k_base, pop_1k_scaled]:\n",
    "    inR = rasterio.open(rFile)\n",
    "    inD = inR.read()\n",
    "    inD[inD < 0] = 0\n",
    "    tPrint(f\"{round(inD.sum())}\")"
   ]
  },
  {
   "cell_type": "code",
   "execution_count": 76,
   "metadata": {},
   "outputs": [
    {
     "data": {
      "text/plain": [
       "1.0"
      ]
     },
     "execution_count": 76,
     "metadata": {},
     "output_type": "execute_result"
    }
   ],
   "source": [
    "final_pop = pop_1k_base\n",
    "final_urban    = final_pop.replace(\".tif\", \"_urban.tif\")\n",
    "final_urban_hd = final_pop.replace(\".tif\", \"_urban_hd.tif\")\n",
    "urbanR = urban.urbanGriddedPop(final_pop)\n",
    "in_raster = rasterio.open(final_pop)\n",
    "total_ratio = (in_raster.res[0] * in_raster.res[1]) / 1000000\n",
    "total_ratio "
   ]
  },
  {
   "cell_type": "code",
   "execution_count": 77,
   "metadata": {},
   "outputs": [],
   "source": [
    "# calculate urban from 1k population layer with various warping methods\n",
    "urban_shp   = urbanR.calculateUrban(densVal = 300,  totalPopThresh=5000,  raster=final_urban)\n",
    "cluster_shp = urbanR.calculateUrban(densVal = 1500, totalPopThresh=50000, raster=final_urban_hd, smooth=True, queen=True)\n",
    "    "
   ]
  },
  {
   "cell_type": "code",
   "execution_count": 96,
   "metadata": {},
   "outputs": [],
   "source": [
    "#Summarize population\n",
    "def summarize_pop(final_pop):\n",
    "    final_pop = pop_1k_base\n",
    "    final_urban    = final_pop.replace(\".tif\", \"_urban.tif\")\n",
    "    final_urban_hd = final_pop.replace(\".tif\", \"_urban_hd.tif\")\n",
    "\n",
    "    urbanR = rasterio.open(final_urban)\n",
    "    urbanHDR = rasterio.open(final_urban_hd)\n",
    "    urbanD = urbanR.read()\n",
    "    hdD = urbanHDR.read()\n",
    "    popD = in_raster.read()\n",
    "    popD[popD == in_raster.meta['nodata']] = 0\n",
    "\n",
    "    totalPop = popD.sum()\n",
    "    urbanPop = (popD * urbanD).sum()\n",
    "    hdPop = (popD * hdD).sum()\n",
    "    print(f'Per urban: {(urbanPop/totalPop*100)}')\n",
    "    print(f'Per HD urban: {(hdPop/totalPop*100)}')"
   ]
  },
  {
   "cell_type": "code",
   "execution_count": 97,
   "metadata": {},
   "outputs": [
    {
     "name": "stdout",
     "output_type": "stream",
     "text": [
      "Per urban: 71.85085140709828\n",
      "Per HD urban: 23.06559452688826\n"
     ]
    }
   ],
   "source": [
    "summarize_pop(final_pop)"
   ]
  },
  {
   "cell_type": "code",
   "execution_count": 98,
   "metadata": {},
   "outputs": [
    {
     "name": "stdout",
     "output_type": "stream",
     "text": [
      "Per urban: 71.85085140709828\n",
      "Per HD urban: 23.06559452688826\n"
     ]
    }
   ],
   "source": [
    "summarize_pop(\"/home/wb411133/temp/TZA_URBAN_DATA_new_naming/FINAL_STANDARD_1K/tza1k_gpo.tif\")"
   ]
  },
  {
   "cell_type": "code",
   "execution_count": 91,
   "metadata": {},
   "outputs": [
    {
     "data": {
      "text/plain": [
       "53511129.41472101"
      ]
     },
     "execution_count": 91,
     "metadata": {},
     "output_type": "execute_result"
    }
   ],
   "source": [
    "totalPop"
   ]
  },
  {
   "cell_type": "code",
   "execution_count": 92,
   "metadata": {},
   "outputs": [
    {
     "data": {
      "text/plain": [
       "0.0"
      ]
     },
     "execution_count": 92,
     "metadata": {},
     "output_type": "execute_result"
    }
   ],
   "source": [
    "popD.min()"
   ]
  },
  {
   "cell_type": "code",
   "execution_count": null,
   "metadata": {},
   "outputs": [],
   "source": []
  }
 ],
 "metadata": {
  "kernelspec": {
   "display_name": "Python (geog)",
   "language": "python",
   "name": "geog"
  },
  "language_info": {
   "codemirror_mode": {
    "name": "ipython",
    "version": 3
   },
   "file_extension": ".py",
   "mimetype": "text/x-python",
   "name": "python",
   "nbconvert_exporter": "python",
   "pygments_lexer": "ipython3",
   "version": "3.7.1"
  }
 },
 "nbformat": 4,
 "nbformat_minor": 2
}
