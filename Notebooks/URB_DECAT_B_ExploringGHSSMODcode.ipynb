{
 "cells": [
  {
   "cell_type": "code",
   "execution_count": 20,
   "metadata": {},
   "outputs": [],
   "source": [
    "import sys, os, importlib, shutil\n",
    "import requests\n",
    "import rasterio, elevation, richdem\n",
    "import rasterio.warp\n",
    "\n",
    "import pandas as pd\n",
    "import geopandas as gpd\n",
    "import numpy as np\n",
    "\n",
    "from rasterio import features\n",
    "from matplotlib import pyplot\n",
    "from shapely.geometry import MultiPolygon, Polygon\n",
    "\n",
    "#Import GOST urban functions\n",
    "sys.path.append(\"../\")\n",
    "import src.UrbanRaster as urban\n",
    "import src.urban_helper as helper\n",
    "\n",
    "#Import raster helpers\n",
    "sys.path.append(\"../../gostrocks/src\")\n",
    "\n",
    "import GOSTRocks.rasterMisc as rMisc\n",
    "from GOSTRocks.misc import tPrint"
   ]
  },
  {
   "cell_type": "code",
   "execution_count": 160,
   "metadata": {},
   "outputs": [],
   "source": [
    "global_bounds_adm1 = \"/home/public/Data/GLOBAL/ADMIN/Admin1_Polys.shp\"\n",
    "iso3 = 'GHA'\n",
    "output_folder = \"/home/wb411133/temp/%s_URBAN_DATA\" % iso3\n",
    "pop_layer = os.path.join(output_folder, \"FINAL_STANDARD\", \"%s_GHS.tif\" % iso3)\n",
    "temp_pop_file = os.path.join(output_folder, \"GHS_TEMP.tif\")\n",
    "deg_file = os.path.join(output_folder, \"FINAL_STANDARD\", \"GHS_DEG.tif\")\n",
    "adm1_file = os.path.join(output_folder, \"ADM1.shp\")"
   ]
  },
  {
   "cell_type": "code",
   "execution_count": 3,
   "metadata": {},
   "outputs": [],
   "source": [
    "inG1 = gpd.read_file(global_bounds_adm1)\n",
    "inD1 = inG1.loc[inG1['ISO3'] == iso3]\n",
    "inD1 = inD1.to_crs({'init':'epsg:4326'})\n",
    "if not os.path.exists(adm1_file):\n",
    "    inD1.to_file(adm1_file)\n",
    "\n",
    "if not os.path.exists(temp_pop_file):\n",
    "    inR = rasterio.open(pop_layer)\n",
    "    selD = inD1.loc[inD1['WB_ADM1_NA'] == \"Central\"]\n",
    "    rMisc.clipRaster(inR, selD, temp_pop_file)"
   ]
  },
  {
   "cell_type": "code",
   "execution_count": 162,
   "metadata": {},
   "outputs": [
    {
     "name": "stdout",
     "output_type": "stream",
     "text": [
      "16:28:55\t: extracting urban clusters\n",
      "16:28:55\t: Creating Shape 0\n",
      "16:28:58\t: Creating Shape 1000\n",
      "16:28:58\t: extracting hd clusters\n",
      "16:29:02\t: Creating Shape 2000\n",
      "16:29:05\t: Creating Shape 3000\n",
      "16:29:05\t: performing distance calculations\n"
     ]
    }
   ],
   "source": [
    "importlib.reload(urban)\n",
    "xx = urban.urbanGriddedPop(temp_pop_file)  #(pop_layer)\n",
    "res = xx.calculateDegurba(urbDens=21, hdDens=(15 * 7), minPopThresh=0.5 * 7, out_raster=deg_file, verbose=True)"
   ]
  },
  {
   "cell_type": "code",
   "execution_count": 152,
   "metadata": {},
   "outputs": [],
   "source": [
    "features = res['shapes']\n",
    "sel = pd.DataFrame(features, columns=['ID','POP','CLASS','geometry'])\n",
    "sel = gpd.GeoDataFrame(sel, geometry=\"geometry\", crs=xx.inR.crs)\n",
    "to_be    = sel.loc[sel['CLASS'] == 21]\n",
    "to_be    = to_be.loc[to_be['POP'] < hdThresh]        \n",
    "distance = sel.loc[sel['CLASS'].isin([21,23])]\n",
    "dist_shp = distance.sindex        \n"
   ]
  },
  {
   "cell_type": "code",
   "execution_count": 153,
   "metadata": {},
   "outputs": [],
   "source": [
    "\n",
    "def calc_nearest(x, dist_gpd, dist_idx):\n",
    "    xx = dist_gpd.iloc[list(dist_idx.nearest([x.centroid.x, x.centroid.y], 2))]\n",
    "    dists = xx['geometry'].apply(lambda y: y.distance(x))\n",
    "    try:\n",
    "        return(min(dists[dists > 0]))\n",
    "    except:\n",
    "        return(0)\n",
    "\n",
    "    return(max(dists))\n",
    "\n",
    "to_be['dist'] = to_be['geometry'].apply(lambda x: calc_nearest(x, distance, dist_shp))"
   ]
  },
  {
   "cell_type": "code",
   "execution_count": 154,
   "metadata": {},
   "outputs": [],
   "source": [
    "features_22 = to_be.loc[to_be['dist'] > 3000]\n"
   ]
  },
  {
   "cell_type": "code",
   "execution_count": 156,
   "metadata": {},
   "outputs": [],
   "source": [
    "cShape = features_22.unary_union.__geo_interface__\n",
    "data = xx.inR.read()\n",
    "final_raster\n",
    "mask = rasterize([(cShape, 0)], out_shape=data[0,:,:].shape,fill=1,transform=xx.inR.transform)\n",
    "        "
   ]
  },
  {
   "cell_type": "code",
   "execution_count": 158,
   "metadata": {},
   "outputs": [
    {
     "data": {
      "text/plain": [
       "17"
      ]
     },
     "execution_count": 158,
     "metadata": {},
     "output_type": "execute_result"
    }
   ],
   "source": []
  },
  {
   "cell_type": "code",
   "execution_count": null,
   "metadata": {},
   "outputs": [],
   "source": []
  },
  {
   "cell_type": "markdown",
   "metadata": {},
   "source": [
    "# Plotting"
   ]
  },
  {
   "cell_type": "code",
   "execution_count": 48,
   "metadata": {},
   "outputs": [],
   "source": [
    "import os\n",
    "import matplotlib.pyplot as plt\n",
    "from matplotlib.patches import Patch\n",
    "from matplotlib.colors import ListedColormap\n",
    "import matplotlib.colors as colors"
   ]
  },
  {
   "cell_type": "code",
   "execution_count": 54,
   "metadata": {},
   "outputs": [],
   "source": [
    "ax.imshow?"
   ]
  },
  {
   "cell_type": "code",
   "execution_count": 63,
   "metadata": {},
   "outputs": [
    {
     "data": {
      "image/png": "[encoded data removed]",
      "text/plain": [
       "<Figure size 720x360 with 1 Axes>"
      ]
     },
     "metadata": {
      "needs_background": "light"
     },
     "output_type": "display_data"
    }
   ],
   "source": [
    "cmap = ListedColormap([\"lightgreen\", \"green\", \"darkgreen\", \"yellow\", 'brown', 'black', 'red'])\n",
    "norm = colors.BoundaryNorm([10, 11, 12, 13, 21, 22, 23, 30], 7)\n",
    "fig, ax = plt.subplots(figsize=(10, 5))\n",
    "ax.imshow(hd[350:450,500:650], cmap=cmap, norm=norm)\n",
    "plt.show()"
   ]
  },
  {
   "cell_type": "code",
   "execution_count": 64,
   "metadata": {},
   "outputs": [
    {
     "data": {
      "image/png": "[encoded data removed]",
      "text/plain": [
       "<Figure size 720x360 with 1 Axes>"
      ]
     },
     "metadata": {
      "needs_background": "light"
     },
     "output_type": "display_data"
    }
   ],
   "source": [
    "fig, ax = plt.subplots(figsize=(10, 5))\n",
    "ax.imshow(urb[350:450,500:650], cmap=cmap, norm=norm)#, extent=[350, 450, 650, 500])\n",
    "plt.show()"
   ]
  },
  {
   "cell_type": "code",
   "execution_count": 62,
   "metadata": {},
   "outputs": [],
   "source": [
    "ax.imshow?"
   ]
  },
  {
   "cell_type": "markdown",
   "metadata": {},
   "source": [
    "# DEBUGGING"
   ]
  },
  {
   "cell_type": "code",
   "execution_count": 4,
   "metadata": {},
   "outputs": [],
   "source": [
    "import geojson, json\n",
    "\n",
    "from shapely.geometry import shape, Polygon\n",
    "from rasterio import features\n",
    "from rasterio.features import rasterize\n",
    "\n",
    "urbDens=3 * 7\n",
    "hdDens=15 * 7\n",
    "urbThresh=5000\n",
    "hdThresh=50000\n",
    "minPopThresh=0.5 * 7\n",
    "out_raster = deg_file\n",
    "print_message=''\n",
    "verbose=False"
   ]
  },
  {
   "cell_type": "code",
   "execution_count": 36,
   "metadata": {},
   "outputs": [],
   "source": [
    "xx = urban.urbanGriddedPop(temp_pop_file)\n",
    "popRaster = xx.inR\n",
    "data = popRaster.read()\n",
    "urban_raster = data * 0\n",
    "final_raster = data[0,:,:] * 0 + 11\n",
    "\n",
    "urban_raster[np.where(data > hdDens)] = 30\n",
    "\n",
    "idx = 0\n",
    "allFeatures = []\n",
    "#Analyze the high density shapes\n",
    "for cShape, value in features.shapes(urban_raster, transform=popRaster.transform):\n",
    "    if idx % 1000 == 0 and verbose:\n",
    "        tPrint(\"%s: Creating Shape %s\" % (print_message, idx))\n",
    "    idx = idx + 1\n",
    "    if value > 0:\n",
    "        if value == 30: # only smooth the HD density shapes\n",
    "            origShape = cShape\n",
    "            xx = shape(cShape)\n",
    "            xx = Polygon(xx.exterior)\n",
    "            cShape = xx.__geo_interface__\n",
    "        #If the shape is urban, claculate total pop        \n",
    "        mask = rasterize([(cShape, 0)], out_shape=data[0,:,:].shape,fill=1,transform=popRaster.transform)\n",
    "        inData = np.ma.array(data=data, mask=mask.astype(bool))\n",
    "        pop = np.nansum(inData) \n",
    "\n",
    "        val = 0\n",
    "        if pop > 5000:\n",
    "            ### TODO - if the totalpop is < 50k, may need to unsmooth the shape\n",
    "            val = 23\n",
    "        if pop > 50000:\n",
    "            val = 30\n",
    "\n",
    "        #Burn value into the final raster\n",
    "        mask = (mask^1) * val        \n",
    "        yy = np.dstack([final_raster, mask])\n",
    "        final_raster = np.amax(yy, axis=2)\n",
    "        allFeatures.append([idx, pop, val, shape(geojson.loads(json.dumps(cShape)))])\n",
    "HD_raster = final_raster"
   ]
  },
  {
   "cell_type": "code",
   "execution_count": 39,
   "metadata": {},
   "outputs": [
    {
     "name": "stdout",
     "output_type": "stream",
     "text": [
      "[[1.10000e+01 2.30000e+01 3.00000e+01]\n",
      " [4.50917e+05 1.62100e+03 2.32200e+03]]\n"
     ]
    }
   ],
   "source": [
    "unique_elements, counts_elements = np.unique(HD_raster, return_counts=True)\n",
    "print(np.asarray((unique_elements, counts_elements)))\n"
   ]
  },
  {
   "cell_type": "code",
   "execution_count": null,
   "metadata": {},
   "outputs": [],
   "source": []
  },
  {
   "cell_type": "code",
   "execution_count": null,
   "metadata": {},
   "outputs": [],
   "source": []
  },
  {
   "cell_type": "code",
   "execution_count": null,
   "metadata": {},
   "outputs": [],
   "source": [
    "final_raster = data[0,:,:] * 0\n",
    "yy = np.dstack([final_raster, mask])\n",
    "final_raster = np.amax(yy, axis=2)        "
   ]
  },
  {
   "cell_type": "code",
   "execution_count": null,
   "metadata": {},
   "outputs": [],
   "source": [
    "mask = rasterize([(cShape, 0)], out_shape=data[0,:,:].shape,fill=1,transform=popRaster.transform)"
   ]
  },
  {
   "cell_type": "code",
   "execution_count": 17,
   "metadata": {},
   "outputs": [
    {
     "data": {
      "text/plain": [
       "(630, 722)"
      ]
     },
     "execution_count": 17,
     "metadata": {},
     "output_type": "execute_result"
    }
   ],
   "source": [
    "tempR = rasterio.open(temp_pop_file)\n",
    "tempR.shape"
   ]
  },
  {
   "cell_type": "code",
   "execution_count": 18,
   "metadata": {},
   "outputs": [
    {
     "data": {
      "text/plain": [
       "{'driver': 'GTiff',\n",
       " 'dtype': 'float32',\n",
       " 'nodata': -200.0,\n",
       " 'width': 722,\n",
       " 'height': 630,\n",
       " 'count': 1,\n",
       " 'crs': CRS.from_wkt('PROJCS[\"World_Mollweide\",GEOGCS[\"GCS_WGS_1984\",DATUM[\"D_WGS_1984\",SPHEROID[\"WGS_1984\",6378137.0,298.257223563]],PRIMEM[\"Greenwich\",0.0],UNIT[\"Degree\",0.017453292519943295]],PROJECTION[\"Mollweide\"],PARAMETER[\"False_Easting\",0.0],PARAMETER[\"False_Northing\",0.0],PARAMETER[\"Central_Meridian\",0.0],UNIT[\"Meter\",1.0]]'),\n",
       " 'transform': Affine(250.0, 0.0, -220500.0,\n",
       "        0.0, -250.0, 779250.0)}"
      ]
     },
     "execution_count": 18,
     "metadata": {},
     "output_type": "execute_result"
    }
   ],
   "source": [
    "tempR.meta\n"
   ]
  },
  {
   "cell_type": "code",
   "execution_count": null,
   "metadata": {},
   "outputs": [],
   "source": []
  }
 ],
 "metadata": {
  "kernelspec": {
   "display_name": "Python (geog)",
   "language": "python",
   "name": "geog"
  },
  "language_info": {
   "codemirror_mode": {
    "name": "ipython",
    "version": 3
   },
   "file_extension": ".py",
   "mimetype": "text/x-python",
   "name": "python",
   "nbconvert_exporter": "python",
   "pygments_lexer": "ipython3",
   "version": "3.7.1"
  }
 },
 "nbformat": 4,
 "nbformat_minor": 2
}
