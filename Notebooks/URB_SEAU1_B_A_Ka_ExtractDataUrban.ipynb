{
 "cells": [
  {
   "cell_type": "markdown",
   "metadata": {},
   "source": [
    "# Extract data for urban calculations\n",
    "\n",
    "Test input for Tanzania\n",
    "\n",
    "0. Select focal ADM, buffer by 1km, rasterize as [0, 1]\n",
    "1. Download DEM data from ASTER, mosaick\n",
    "2. Calculate slope of DEM\n",
    "3. Extract water layer from Globcover\n",
    "4. Rasterize building footprints\n",
    "5. Select population layer\n",
    "6. Standardize all rasters to population layer  \n",
    "   a. Set area outside of focal admin to NoData  \n",
    "   b. Set everything to 16bit  \n",
    "   \n",
    "   \n"
   ]
  },
  {
   "cell_type": "code",
   "execution_count": 1,
   "metadata": {},
   "outputs": [],
   "source": [
    "import sys, os, importlib, shutil\n",
    "import requests\n",
    "import rasterio, elevation, richdem\n",
    "import rasterio.warp\n",
    "from rasterio import features\n",
    "\n",
    "import pandas as pd\n",
    "import geopandas as gpd\n",
    "import numpy as np\n",
    "\n",
    "from shapely.geometry import MultiPolygon, Polygon\n",
    "\n",
    "#Import GOST urban functions\n",
    "sys.path.append(\"../\")\n",
    "import src.UrbanRaster as urban\n",
    "import src.urban_helper as helper\n",
    "\n",
    "#Import raster helpers\n",
    "sys.path.append(\"../../gostrocks/src\")\n",
    "\n",
    "import GOSTRocks.rasterMisc as rMisc\n",
    "from GOSTRocks.misc import tPrint"
   ]
  },
  {
   "cell_type": "code",
   "execution_count": 2,
   "metadata": {},
   "outputs": [
    {
     "name": "stderr",
     "output_type": "stream",
     "text": [
      "/home/wb411133/.conda/envs/geog/lib/python3.7/site-packages/ipykernel_launcher.py:22: SettingWithCopyWarning: \n",
      "A value is trying to be set on a copy of a slice from a DataFrame.\n",
      "Try using .loc[row_indexer,col_indexer] = value instead\n",
      "\n",
      "See the caveats in the documentation: http://pandas.pydata.org/pandas-docs/stable/indexing.html#indexing-view-versus-copy\n"
     ]
    }
   ],
   "source": [
    "global_bounds = \"/home/public/Data/GLOBAL/ADMIN/Admin0_Polys.shp\"\n",
    "global_bounds_adm2 = \"/home/public/Data/GLOBAL/ADMIN/Admin2_Polys.shp\"\n",
    "global_landcover  = \"/home/public/Data/GLOBAL/LANDCOVER/GLOBCOVER/2015/ESACCI-LC-L4-LCCS-Map-300m-P1Y-2015-v2.0.7.tif\"\n",
    "global_ghspop = \"/home/public/Data/GLOBAL/Population/GHS/250/GHS_POP_E2015_GLOBE_R2019A_54009_250_V1_0.tif\"\n",
    "global_ghbuilt = \"/home/public/Data/GLOBAL/URBAN/GHS/GHS_1K_BUILT/GHS_BUILT_LDS2014_GLOBE_R2018A_54009_1K_V1_0.tif\"\n",
    "inG = gpd.read_file(global_bounds)\n",
    "inG2 = gpd.read_file(global_bounds_adm2)\n",
    "iso3 = 'GHA'\n",
    "output_folder = \"/home/wb411133/temp/%s_URBAN_DATA\" % iso3\n",
    "\n",
    "#Define paths to local population files\n",
    "ea_file = os.path.join(output_folder, \"FINAL_EAS.shp\")\n",
    "inEA = gpd.read_file(ea_file)\n",
    "local_path = \"/home/public/Data/COUNTRY/{country}/POPULATION/WORLDPOP/\".format(country=iso3)\n",
    "pop_2015_con = os.path.join(local_path, \"ppp_prj_2015_%s_UNadj.tif\" % iso3)\n",
    "pop_2018_con = os.path.join(local_path, \"ppp_prj_2017_%s_UNadj.tif\" % iso3)\n",
    "pop_2015_un = os.path.join(local_path, \"%s_ppp_2015_UNadj.tif\" % iso3.lower())\n",
    "pop_2018_un = os.path.join(local_path, \"%s_ppp_2017_UNadj.tif\" % iso3.lower())\n",
    "pop_files = [pop_2015_un, pop_2018_un, pop_2015_con, pop_2018_con]\n",
    "\n",
    "inD = inG.loc[inG['ISO3'] == iso3]\n",
    "inD['geometry'] = inD['geometry'].apply(lambda x: x.buffer(500))\n",
    "inD = inD.to_crs({'init':'epsg:4326'})\n",
    "\n",
    "inD2 = inG2.loc[inG2['ISO3'] == iso3]\n",
    "inD2 = inD2.to_crs({'init':'epsg:4326'})"
   ]
  },
  {
   "cell_type": "code",
   "execution_count": 8,
   "metadata": {},
   "outputs": [],
   "source": [
    "bad_shapes = inEA['geometry'].apply(lambda x: x is None)\n",
    "inEA = inEA.loc[~bad_shapes]"
   ]
  },
  {
   "cell_type": "code",
   "execution_count": 9,
   "metadata": {},
   "outputs": [
    {
     "name": "stdout",
     "output_type": "stream",
     "text": [
      "11:43:01\t***** Extracting Global Layers GHA\n",
      "11:43:01\t***** Standardizing rasters\n",
      "/home/wb411133/temp/GHA_URBAN_DATA/GHA_ADMIN.tif\n",
      "/home/wb411133/temp/GHA_URBAN_DATA/GHA_GHS.tif\n",
      "/home/wb411133/temp/GHA_URBAN_DATA/GHA_LC_H20.tif\n",
      "/home/wb411133/temp/GHA_URBAN_DATA/GHA_SLOPE.tif\n",
      "/home/wb411133/temp/GHA_URBAN_DATA/GHA_DEM.tif\n",
      "/home/wb411133/temp/GHA_URBAN_DATA/GHA_GHSBUILT.tif\n",
      "/home/public/Data/COUNTRY/GHA/POPULATION/WORLDPOP/gha_ppp_2015_UNadj.tif\n",
      "/home/public/Data/COUNTRY/GHA/POPULATION/WORLDPOP/gha_ppp_2017_UNadj.tif\n",
      "/home/public/Data/COUNTRY/GHA/POPULATION/WORLDPOP/ppp_prj_2015_GHA_UNadj.tif\n",
      "/home/public/Data/COUNTRY/GHA/POPULATION/WORLDPOP/ppp_prj_2017_GHA_UNadj.tif\n",
      "11:43:01\t***** Calculating Urban\n",
      "11:43:01\t***Starting \n",
      "11:43:01\t/home/wb411133/temp/GHA_URBAN_DATA/FINAL_STANDARD/gha_ppp_2015_UNadj_urban.tif\n",
      "11:43:01\t/home/wb411133/temp/GHA_URBAN_DATA/FINAL_STANDARD/gha_ppp_2015_UNadj_urban_hd.tif\n",
      "11:43:01\t/home/wb411133/temp/GHA_URBAN_DATA/FINAL_STANDARD/gha_ppp_2017_UNadj_urban.tif\n",
      "11:43:01\t/home/wb411133/temp/GHA_URBAN_DATA/FINAL_STANDARD/gha_ppp_2017_UNadj_urban_hd.tif\n",
      "11:43:01\t/home/wb411133/temp/GHA_URBAN_DATA/FINAL_STANDARD/ppp_prj_2015_GHA_UNadj_urban.tif\n",
      "11:43:01\t/home/wb411133/temp/GHA_URBAN_DATA/FINAL_STANDARD/ppp_prj_2015_GHA_UNadj_urban_hd.tif\n",
      "11:43:01\t/home/wb411133/temp/GHA_URBAN_DATA/FINAL_STANDARD/ppp_prj_2017_GHA_UNadj_urban.tif\n",
      "11:43:01\t/home/wb411133/temp/GHA_URBAN_DATA/FINAL_STANDARD/ppp_prj_2017_GHA_UNadj_urban_hd.tif\n",
      "11:43:01\t***Starting \n",
      "11:43:01\t/home/wb411133/temp/GHA_URBAN_DATA/FINAL_STANDARD/GHA_GHS_urban.tif\n",
      "11:43:01\t/home/wb411133/temp/GHA_URBAN_DATA/FINAL_STANDARD/GHA_GHS_urban_hd.tif\n",
      "11:43:01\t***** Calculating Zonal admin2\n",
      "11:43:09\t***** Calculating Zonal communes\n"
     ]
    }
   ],
   "source": [
    "importlib.reload(helper)\n",
    "importlib.reload(rMisc)\n",
    "\n",
    "xx = helper.urban_country(iso3, output_folder, inD)\n",
    "tPrint(\"***** Extracting Global Layers %s\" % iso3)\n",
    "xx.extract_layers(global_landcover, global_ghspop, global_ghbuilt)\n",
    "tPrint(\"***** Standardizing rasters\")\n",
    "xx.standardize_rasters(pop_files=pop_files)\n",
    "tPrint(\"***** Calculating Urban\")\n",
    "xx.calculate_urban(pop_files)\n",
    "xx.calculate_urban([xx.ghspop_file])\n",
    "tPrint(\"***** Calculating Zonal admin2\")\n",
    "if not os.path.exists(os.path.join(output_folder, \"URBAN_ADMIN2_STATS_COMPILED.csv\")):\n",
    "    zonal_adm2 = xx.pop_zonal_admin(inD2)\n",
    "    zonal_adm2.to_csv(os.path.join(output_folder, \"URBAN_ADMIN2_STATS_COMPILED.csv\"))\n",
    "tPrint(\"***** Calculating Zonal communes\")\n",
    "if not os.path.exists(os.path.join(output_folder, \"URBAN_COMMUNE_STATS_COMPILED.csv\")):\n",
    "    zonal_ea = xx.pop_zonal_admin(inEA)\n",
    "    zonal_ea.to_csv(os.path.join(output_folder, \"URBAN_COMMUNE_STATS_COMPILED.csv\"))"
   ]
  },
  {
   "cell_type": "code",
   "execution_count": null,
   "metadata": {},
   "outputs": [],
   "source": []
  }
 ],
 "metadata": {
  "kernelspec": {
   "display_name": "Python (geog)",
   "language": "python",
   "name": "geog"
  },
  "language_info": {
   "codemirror_mode": {
    "name": "ipython",
    "version": 3
   },
   "file_extension": ".py",
   "mimetype": "text/x-python",
   "name": "python",
   "nbconvert_exporter": "python",
   "pygments_lexer": "ipython3",
   "version": "3.7.1"
  }
 },
 "nbformat": 4,
 "nbformat_minor": 2
}
