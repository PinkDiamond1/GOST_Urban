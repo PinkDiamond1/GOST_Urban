{
 "cells": [
  {
   "cell_type": "markdown",
   "metadata": {},
   "source": [
    "# Extract data for urban calculations\n",
    "\n",
    "Test input for Tanzania\n",
    "\n",
    "0. Select focal ADM, buffer by 1km, rasterize as [0, 1]\n",
    "1. Download DEM data from ASTER, mosaick\n",
    "2. Calculate slope of DEM\n",
    "3. Extract water layer from Globcover\n",
    "4. Rasterize building footprints\n",
    "5. Select population layer\n",
    "6. Standardize all rasters to population layer\n",
    "   a. Set area outside of focal admin to NoData\n",
    "   b. Set everything to 16bit\n",
    "   \n"
   ]
  },
  {
   "cell_type": "code",
   "execution_count": 5,
   "metadata": {},
   "outputs": [],
   "source": [
    "import sys, os, importlib, shutil\n",
    "import requests\n",
    "import rasterio, elevation, richdem\n",
    "import rasterio.warp\n",
    "from rasterio import features\n",
    "\n",
    "import pandas as pd\n",
    "import geopandas as gpd\n",
    "import numpy as np\n",
    "\n",
    "#Import GOST urban functions\n",
    "sys.path.append(\"../\")\n",
    "import src.UrbanRaster as urban\n",
    "\n",
    "#Import raster helpers\n",
    "sys.path.append(\"../../gostrocks/src\")\n",
    "\n",
    "import GOSTRocks.rasterMisc as rMisc\n",
    "from GOSTRocks.misc import tPrint"
   ]
  },
  {
   "cell_type": "code",
   "execution_count": 6,
   "metadata": {},
   "outputs": [
    {
     "name": "stderr",
     "output_type": "stream",
     "text": [
      "/home/wb411133/.conda/envs/geog/lib/python3.7/site-packages/ipykernel_launcher.py:16: SettingWithCopyWarning: \n",
      "A value is trying to be set on a copy of a slice from a DataFrame.\n",
      "Try using .loc[row_indexer,col_indexer] = value instead\n",
      "\n",
      "See the caveats in the documentation: http://pandas.pydata.org/pandas-docs/stable/indexing.html#indexing-view-versus-copy\n",
      "  app.launch_new_instance()\n"
     ]
    }
   ],
   "source": [
    "global_bounds = \"/home/public/Data/GLOBAL/ADMIN/Admin0_Polys.shp\"\n",
    "global_landcover  = \"/home/public/Data/GLOBAL/LANDCOVER/GLOBCOVER/2015/ESACCI-LC-L4-LCCS-Map-300m-P1Y-2015-v2.0.7.tif\"\n",
    "global_ghspop = \"/home/public/Data/GLOBAL/Population/GHS/250/GHS_POP_E2015_GLOBE_R2019A_54009_250_V1_0.tif\"\n",
    "global_ghbuilt = \"/home/public/Data/GLOBAL/URBAN/GHS/GHS_1K_BUILT/GHS_BUILT_LDS2014_GLOBE_R2018A_54009_1K_V1_0.tif\"\n",
    "inG = gpd.read_file(global_bounds)\n",
    "iso3 = 'GHA'\n",
    "\n",
    "#Define paths to local population files\n",
    "local_path = \"/home/public/Data/COUNTRY/{country}/POPULATION/WORLDPOP/\".format(country=iso3)\n",
    "#pop_2015_con = os.path.join(local_path, \"ppp_prj_2015_%s_UNadj.tif\" % iso3)\n",
    "pop_2018_con = os.path.join(local_path, \"%s_ppp_2020_UNadj_constrained.tif\" % iso3.lower())\n",
    "pop_2015_un = os.path.join(local_path, \"%s_ppp_2015_UNadj.tif\" % iso3.lower())\n",
    "pop_2018_un = os.path.join(local_path, \"%s_ppp_2018_UNadj.tif\" % iso3.lower())\n",
    "\n",
    "inD = inG.loc[inG['ISO3'] == iso3]\n",
    "inD['geometry'] = inD['geometry'].apply(lambda x: x.buffer(500))\n",
    "inD = inD.to_crs({'init':'epsg:4326'})\n",
    "\n",
    "output_folder = \"/home/wb411133/temp/%s_URBAN_DATA\" % iso3\n",
    "final_folder = os.path.join(output_folder, \"FINAL_STANDARD\")\n",
    "if not os.path.exists(output_folder):\n",
    "    os.makedirs(output_folder)\n",
    "    os.makedirs(final_folder)\n",
    "    \n",
    "dem_file = os.path.join(output_folder, \"%s_DEM.tif\" % iso3)\n",
    "slope_file = os.path.join(output_folder, \"%s_SLOPE.tif\" % iso3)\n",
    "lc_file = os.path.join(output_folder, \"%s_LC.tif\" % iso3)\n",
    "lc_file_h20 = os.path.join(output_folder, \"%s_LC_H20.tif\" % iso3)\n",
    "ghspop_file = os.path.join(output_folder, \"%s_GHS.tif\" % iso3)\n",
    "ghsbuilt_file = os.path.join(output_folder, \"%s_GHSBUILT.tif\" % iso3)\n",
    "admin_file  =  os.path.join(output_folder, \"%s_ADMIN.tif\" % iso3)\n",
    "admin_shp  =  os.path.join(final_folder, \"%s_ADMIN.shp\" % iso3)"
   ]
  },
  {
   "cell_type": "code",
   "execution_count": 7,
   "metadata": {},
   "outputs": [],
   "source": [
    "# Write shapefile to file\n",
    "if not os.path.exists(admin_shp):\n",
    "    inD.to_file(admin_shp)"
   ]
  },
  {
   "cell_type": "code",
   "execution_count": 8,
   "metadata": {},
   "outputs": [
    {
     "name": "stdout",
     "output_type": "stream",
     "text": [
      "07:47:04\tDownloading DEM\n"
     ]
    }
   ],
   "source": [
    "# Download DEM\n",
    "importlib.reload(elevation)\n",
    "if not os.path.exists(dem_file):\n",
    "    tPrint(\"Downloading DEM\")\n",
    "    #elevation.clip(bounds=inD.total_bounds, max_download_tiles=90000, output=dem_file, product='SRTM3')\n",
    "\n",
    "# Calculate slope\n",
    "if not os.path.exists(slope_file) and os.path.exists(dem_file):\n",
    "    tPrint(\"Calculating slope\")\n",
    "    in_dem = rasterio.open(dem_file)\n",
    "    in_dem_data = in_dem.read()\n",
    "    beau  = richdem.rdarray(in_dem_data[0,:,:], no_data=in_dem.meta['nodata'])\n",
    "    slope = richdem.TerrainAttribute(beau, attrib='slope_riserun')\n",
    "    meta = in_dem.meta.copy()\n",
    "    meta.update(dtype = slope.dtype)\n",
    "    with rasterio.open(slope_file, 'w', **meta) as outR:\n",
    "        outR.write_band(1, slope)\n",
    "    \n",
    "# Extract water from globcover\n",
    "if not os.path.exists(lc_file_h20):\n",
    "    tPrint(\"Extracting water\")\n",
    "    if not os.path.exists(lc_file):\n",
    "        rMisc.clipRaster(rasterio.open(global_landcover), inD, lc_file)\n",
    "    in_lc = rasterio.open(lc_file)\n",
    "    inL = in_lc.read()\n",
    "    lcmeta = in_lc.meta.copy()\n",
    "    tempL = (inL == 210).astype(lcmeta['dtype'])\n",
    "\n",
    "    lcmeta.update(nodata=255)\n",
    "\n",
    "    with rasterio.open(lc_file_h20, 'w', **lcmeta) as out:\n",
    "        out.write(tempL)\n",
    "\n",
    "    os.remove(lc_file)\n",
    "\n",
    "#Extract GHS-Pop\n",
    "if not os.path.exists(ghspop_file):\n",
    "    tPrint(\"Extracting GHS-POP\")\n",
    "    rMisc.clipRaster(rasterio.open(global_ghspop), inD, ghspop_file)\n",
    "\n",
    "#Extract GHS-Built\n",
    "if not os.path.exists(ghsbuilt_file):\n",
    "    tPrint(\"Clipping GHS-Built\")\n",
    "    rMisc.clipRaster(rasterio.open(global_ghbuilt), inD, ghsbuilt_file)\n",
    "    \n",
    "#Rasterize admin boundaries\n",
    "if not os.path.exists(admin_file):\n",
    "    tPrint(\"Rasterizing admin boundaries\")\n",
    "    xx = rasterio.open(ghspop_file)\n",
    "    res = xx.meta['transform'][0]\n",
    "    tempD = inD.to_crs(xx.crs)\n",
    "    shapes = ((row['geometry'], 1) for idx, row in tempD.iterrows())\n",
    "    burned = features.rasterize(shapes=shapes, out_shape=xx.shape, fill=0, transform=xx.meta['transform'], dtype='int16')\n",
    "    meta = xx.meta.copy()\n",
    "    meta.update(dtype=burned.dtype)\n",
    "    with rasterio.open(admin_file, 'w', **meta) as outR:\n",
    "        outR.write_band(1, burned)"
   ]
  },
  {
   "cell_type": "markdown",
   "metadata": {},
   "source": [
    "# Raster standardization"
   ]
  },
  {
   "cell_type": "code",
   "execution_count": null,
   "metadata": {},
   "outputs": [],
   "source": [
    "ghs_R = rasterio.open(ghspop_file)    \n",
    "out_array = ghs_R.read() * 0\n",
    "#Read in admin data and get nodata area\n",
    "in_admin = rasterio.open(admin_file)\n",
    "in_a = in_admin.read()\n",
    "in_a_mask = in_a == 0"
   ]
  },
  {
   "cell_type": "code",
   "execution_count": null,
   "metadata": {},
   "outputs": [],
   "source": [
    "if not os.path.exists(final_folder):\n",
    "    os.makedirs(final_folder)\n",
    "for file_def in [\n",
    "        #file, type, scale values\n",
    "        #[pop_2015_con, 'N', True],\n",
    "        [pop_2018_con, 'N', True],\n",
    "        [pop_2015_un, 'N', True],\n",
    "        [pop_2018_un, 'N', True],\n",
    "        [ghspop_file, 'N', True],\n",
    "        [lc_file_h20, 'C', False],\n",
    "        #[slope_file, 'N', False],\n",
    "        #[dem_file, 'N', False],\n",
    "        [ghsbuilt_file, 'N', False]        \n",
    "    ]:\n",
    "    print(file_def[0])\n",
    "    out_file = os.path.join(final_folder, os.path.basename(file_def[0]))    \n",
    "    # scale and project file to GHS pop\n",
    "    if not os.path.exists(out_file):\n",
    "        out_array = ghs_R.read() * 0\n",
    "        in_raster = rasterio.open(file_def[0])\n",
    "        in_r = in_raster.read()\n",
    "        rSample = rasterio.warp.Resampling.cubic\n",
    "        if file_def[1] == 'C':\n",
    "            rSample = rasterio.warp.Resampling.nearest\n",
    "        rasterio.warp.reproject(in_r, out_array, \n",
    "                                src_transform=in_raster.meta['transform'], dst_transform=ghs_R.meta['transform'],\n",
    "                                src_crs = in_raster.crs, dst_crs = ghs_R.crs,\n",
    "                                src_nodata = in_raster.meta['nodata'], dst_nodata = ghs_R.meta['nodata'],\n",
    "                               resample = rSample)\n",
    "        out_array[out_array == ghs_R.meta['nodata']] = 0.\n",
    "        # If values are to be scaled based on area change, do it here\n",
    "        if file_def[2]:\n",
    "            #Determine scale difference between rasters\n",
    "            width_ratio = in_raster.shape[0] / ghs_R.shape[0]\n",
    "            height_ratio = in_raster.shape[1] / ghs_R.shape[1]\n",
    "            total_ratio = width_ratio * height_ratio\n",
    "            out_array = out_array * total_ratio\n",
    "            out_array[out_array < 0] = ghs_R.meta['nodata']\n",
    "        # Set area outside national boundaries to nodata\n",
    "        out_array[in_a_mask] = ghs_R.meta['nodata']\n",
    "        out_meta = ghs_R.meta.copy()\n",
    "        out_meta.update(nodata=ghs_R.meta['nodata'])\n",
    "        with rasterio.open(out_file, 'w', **out_meta) as outR:\n",
    "            outR.write(out_array)\n",
    "    # Write no data layers to file\n",
    "    out_no_data_file = os.path.join(final_folder, \"NO_DATA_%s\" % os.path.basename(file_def[0]))\n",
    "    if not os.path.exists(out_no_data_file):\n",
    "        out_array = ghs_R.read() * 0\n",
    "        in_raster = rasterio.open(file_def[0])\n",
    "        in_r = in_raster.read()\n",
    "        # create binary file defining no data area\n",
    "        in_r = (in_r == in_raster.meta['nodata']).astype(ghs_R.meta['dtype'])\n",
    "        rasterio.warp.reproject(in_r, out_array, \n",
    "                                src_transform=in_raster.meta['transform'], dst_transform=ghs_R.meta['transform'],\n",
    "                                src_crs = in_raster.crs, dst_crs = ghs_R.crs,\n",
    "                                src_nodata = in_raster.meta['nodata'], dst_nodata = ghs_R.meta['nodata'],\n",
    "                                resample = rasterio.warp.Resampling.nearest)\n",
    "        out_meta = ghs_R.meta.copy()\n",
    "        with rasterio.open(out_no_data_file, 'w', **out_meta) as outR:\n",
    "            outR.write(out_array)"
   ]
  },
  {
   "cell_type": "markdown",
   "metadata": {},
   "source": [
    "# Calculate urban extents"
   ]
  },
  {
   "cell_type": "code",
   "execution_count": null,
   "metadata": {},
   "outputs": [],
   "source": [
    "importlib.reload(urban)\n",
    "# Calculate urban extents from population layers\n",
    "for p_file in [pop_2015_un, pop_2018_un, ghspop_file]: #pop_2015_con, pop_2018_con, \n",
    "    final_pop = os.path.join(final_folder, os.path.basename(p_file))\n",
    "    final_urban    = final_pop.replace(\".tif\", \"_urban.tif\")\n",
    "    final_urban_hd = final_pop.replace(\".tif\", \"_urban_hd.tif\")\n",
    "    urbanR = urban.urbanGriddedPop(final_pop)\n",
    "    tPrint(final_urban)\n",
    "    #calculate density values\n",
    "    in_raster = rasterio.open(p_file)\n",
    "    width_ratio = in_raster.shape[0] / ghs_R.shape[0]\n",
    "    height_ratio = in_raster.shape[1] / ghs_R.shape[1]\n",
    "    total_ratio = width_ratio * height_ratio\n",
    "    if not os.path.exists(final_urban):\n",
    "        urban_shp   = urbanR.calculateUrban(densVal= (3 * total_ratio), totalPopThresh=5000,  raster=final_urban)\n",
    "    tPrint(final_urban_hd)\n",
    "    if not os.path.exists(final_urban_hd):\n",
    "        cluster_shp = urbanR.calculateUrban(densVal=(15 * total_ratio), totalPopThresh=50000, raster=final_urban_hd)"
   ]
  },
  {
   "cell_type": "markdown",
   "metadata": {},
   "source": [
    "# Check NoData values in final datasets"
   ]
  },
  {
   "cell_type": "code",
   "execution_count": null,
   "metadata": {},
   "outputs": [],
   "source": [
    "tiff_files = []\n",
    "for root, dirs, files in os.walk(final_folder):\n",
    "    for f in files:\n",
    "        if f[-4:] == \".tif\":\n",
    "            tiff_files.append(os.path.join(final_folder, f))\n",
    "\n",
    "for tFile in tiff_files:\n",
    "    xx = rasterio.open(tFile)\n",
    "    total_shape = xx.shape[1] * xx.shape[0]\n",
    "    xx_data = xx.read()\n",
    "    total_no_data = (xx_data == xx.meta['nodata']).sum()\n",
    "    print(\"%s\\t%s\\t%s\" % (total_shape, total_no_data, os.path.basename(tFile)))"
   ]
  },
  {
   "cell_type": "code",
   "execution_count": null,
   "metadata": {},
   "outputs": [],
   "source": [
    "xx.shape"
   ]
  },
  {
   "cell_type": "markdown",
   "metadata": {},
   "source": [
    "# Deburgging"
   ]
  },
  {
   "cell_type": "code",
   "execution_count": null,
   "metadata": {},
   "outputs": [],
   "source": [
    "xx = rasterio.open(pop_2015_con)\n",
    "inD = xx.read()"
   ]
  },
  {
   "cell_type": "code",
   "execution_count": null,
   "metadata": {},
   "outputs": [],
   "source": [
    "print(inD.shape[1] * inD.shape[2])\n",
    "print((inD > 0).sum())\n",
    "print((inD > 3).sum())\n",
    "print((inD > 15).sum())"
   ]
  },
  {
   "cell_type": "code",
   "execution_count": null,
   "metadata": {},
   "outputs": [],
   "source": [
    "print(inD[(inD > 0)].sum())\n",
    "print(inD[(inD > 3)].sum())\n",
    "print(inD[(inD > 15)].sum())\n"
   ]
  },
  {
   "cell_type": "code",
   "execution_count": null,
   "metadata": {},
   "outputs": [],
   "source": []
  },
  {
   "cell_type": "code",
   "execution_count": null,
   "metadata": {},
   "outputs": [],
   "source": []
  }
 ],
 "metadata": {
  "kernelspec": {
   "display_name": "Python (geog)",
   "language": "python",
   "name": "geog"
  },
  "language_info": {
   "codemirror_mode": {
    "name": "ipython",
    "version": 3
   },
   "file_extension": ".py",
   "mimetype": "text/x-python",
   "name": "python",
   "nbconvert_exporter": "python",
   "pygments_lexer": "ipython3",
   "version": "3.7.1"
  }
 },
 "nbformat": 4,
 "nbformat_minor": 2
}
